{
 "cells": [
  {
   "cell_type": "markdown",
   "metadata": {},
   "source": [
    "# Customer Churn Prediction \n",
    "This workspace contains a tiny subset (128MB) of the full dataset available (12GB). Feel free to use this workspace to build your project, or to explore a smaller subset with Spark before deploying your cluster on the cloud. \n",
    "\n",
    "You can follow the steps below to guide your data analysis and model building portion of this project."
   ]
  },
  {
   "cell_type": "code",
   "execution_count": 5,
   "metadata": {},
   "outputs": [],
   "source": [
    "# import libraries\n",
    "\n",
    "import datetime\n",
    "import time\n",
    "import numpy as np\n",
    "import pandas as pd\n",
    "import matplotlib.pyplot as plt\n",
    "import seaborn as sns \n",
    "\n",
    "from pyspark import SparkContext, SparkConf\n",
    "from pyspark.sql import SparkSession\n",
    "from pyspark.sql import Window\n",
    "from pyspark.sql.functions import udf, col, concat, count, lit, avg, lag, first, last, when\n",
    "from pyspark.sql.functions import min as Fmin, max as Fmax, sum as Fsum, round as Fround\n",
    "from pyspark.sql.types import IntegerType, DateType, TimestampType\n",
    "\n",
    "from pyspark.ml import Pipeline\n",
    "from pyspark.ml.feature import VectorAssembler, Normalizer, StandardScaler\n",
    "from pyspark.ml.regression import LinearRegression\n",
    "from pyspark.ml.classification import LogisticRegression, RandomForestClassifier, GBTClassifier\n",
    "from pyspark.ml.clustering import KMeans\n",
    "from pyspark.ml.tuning import CrossValidator, ParamGridBuilder\n",
    "from pyspark.ml.evaluation import BinaryClassificationEvaluator, Evaluator"
   ]
  },
  {
   "cell_type": "code",
   "execution_count": 7,
   "metadata": {},
   "outputs": [],
   "source": [
    "# create a Spark session\n",
    "spark = SparkSession \\\n",
    ".builder \\\n",
    ".appName('CustomerChurn') \\\n",
    ".getOrCreate()"
   ]
  },
  {
   "cell_type": "code",
   "execution_count": 8,
   "metadata": {},
   "outputs": [
    {
     "data": {
      "text/plain": [
       "[('spark.driver.host', '192.168.0.32'),\n",
       " ('spark.driver.port', '64464'),\n",
       " ('spark.app.id', 'local-1594550919246'),\n",
       " ('spark.app.name', 'Cust'),\n",
       " ('spark.rdd.compress', 'True'),\n",
       " ('spark.serializer.objectStreamReset', '100'),\n",
       " ('spark.master', 'local[*]'),\n",
       " ('spark.submit.pyFiles', ''),\n",
       " ('spark.executor.id', 'driver'),\n",
       " ('spark.submit.deployMode', 'client'),\n",
       " ('spark.ui.showConsoleProgress', 'true')]"
      ]
     },
     "execution_count": 8,
     "metadata": {},
     "output_type": "execute_result"
    }
   ],
   "source": [
    "# Check Spark configuration\n",
    "spark.sparkContext.getConf().getAll()"
   ]
  },
  {
   "cell_type": "markdown",
   "metadata": {},
   "source": [
    "# Load and Clean Dataset\n",
    "In this workspace, the mini-dataset file is `mini_sparkify_event_data.json`. Load and clean the dataset, checking for invalid or missing data - for example, records without userids or sessionids. "
   ]
  },
  {
   "cell_type": "code",
   "execution_count": 9,
   "metadata": {},
   "outputs": [],
   "source": [
    "path = \"mini_sparkify_event_data.json\"\n",
    "df = spark.read.json(path)"
   ]
  },
  {
   "cell_type": "markdown",
   "metadata": {},
   "source": [
    "# Exploratory Data Analysis\n",
    "When you're working with the full dataset, perform EDA by loading a small subset of the data and doing basic manipulations within Spark. In this workspace, you are already provided a small subset of data you can explore.\n",
    "\n",
    "### Define Churn\n",
    "\n",
    "Once you've done some preliminary analysis, create a column `Churn` to use as the label for your model. I suggest using the `Cancellation Confirmation` events to define your churn, which happen for both paid and free users. As a bonus task, you can also look into the `Downgrade` events.\n",
    "\n",
    "### Explore Data\n",
    "Once you've defined churn, perform some exploratory data analysis to observe the behavior for users who stayed vs users who churned. You can start by exploring aggregates on these two groups of users, observing how much of a specific action they experienced per a certain time unit or number of songs played."
   ]
  },
  {
   "cell_type": "code",
   "execution_count": 10,
   "metadata": {},
   "outputs": [
    {
     "name": "stdout",
     "output_type": "stream",
     "text": [
      "root\n",
      " |-- artist: string (nullable = true)\n",
      " |-- auth: string (nullable = true)\n",
      " |-- firstName: string (nullable = true)\n",
      " |-- gender: string (nullable = true)\n",
      " |-- itemInSession: long (nullable = true)\n",
      " |-- lastName: string (nullable = true)\n",
      " |-- length: double (nullable = true)\n",
      " |-- level: string (nullable = true)\n",
      " |-- location: string (nullable = true)\n",
      " |-- method: string (nullable = true)\n",
      " |-- page: string (nullable = true)\n",
      " |-- registration: long (nullable = true)\n",
      " |-- sessionId: long (nullable = true)\n",
      " |-- song: string (nullable = true)\n",
      " |-- status: long (nullable = true)\n",
      " |-- ts: long (nullable = true)\n",
      " |-- userAgent: string (nullable = true)\n",
      " |-- userId: string (nullable = true)\n",
      "\n"
     ]
    }
   ],
   "source": [
    "# Structure of the dataframe\n",
    "df.printSchema()"
   ]
  },
  {
   "cell_type": "code",
   "execution_count": 27,
   "metadata": {},
   "outputs": [
    {
     "data": {
      "text/plain": [
       "[('artist', 'string'),\n",
       " ('auth', 'string'),\n",
       " ('firstName', 'string'),\n",
       " ('gender', 'string'),\n",
       " ('itemInSession', 'bigint'),\n",
       " ('lastName', 'string'),\n",
       " ('length', 'double'),\n",
       " ('level', 'string'),\n",
       " ('location', 'string'),\n",
       " ('method', 'string'),\n",
       " ('page', 'string'),\n",
       " ('registration', 'bigint'),\n",
       " ('sessionId', 'bigint'),\n",
       " ('song', 'string'),\n",
       " ('status', 'bigint'),\n",
       " ('ts', 'bigint'),\n",
       " ('userAgent', 'string'),\n",
       " ('userId', 'string'),\n",
       " ('registrationDate', 'timestamp'),\n",
       " ('tsDate', 'timestamp')]"
      ]
     },
     "execution_count": 27,
     "metadata": {},
     "output_type": "execute_result"
    }
   ],
   "source": [
    "# Column types \n",
    "df.dtypes"
   ]
  },
  {
   "cell_type": "code",
   "execution_count": 26,
   "metadata": {},
   "outputs": [
    {
     "data": {
      "text/plain": [
       "226"
      ]
     },
     "execution_count": 26,
     "metadata": {},
     "output_type": "execute_result"
    }
   ],
   "source": [
    "# Obtain the number of distinct users in the smaller Sparkify dataset\n",
    "# (In the full Sparkify dataset there is 22277 unique users)\n",
    "df.select(['userId']).dropDuplicates().count()"
   ]
  },
  {
   "cell_type": "code",
   "execution_count": 37,
   "metadata": {},
   "outputs": [
    {
     "data": {
      "text/plain": [
       "225"
      ]
     },
     "execution_count": 37,
     "metadata": {},
     "output_type": "execute_result"
    }
   ],
   "source": [
    "# drop duplicates method would identify inconsistent number of unique users.\n",
    "df.select(['firstName','gender','lastName','location','registration','userAgent','userId']) \\\n",
    ".where(df.userId != \"\") \\\n",
    ".dropDuplicates().count()"
   ]
  },
  {
   "cell_type": "code",
   "execution_count": 40,
   "metadata": {},
   "outputs": [
    {
     "data": {
      "text/plain": [
       "2354"
      ]
     },
     "execution_count": 40,
     "metadata": {},
     "output_type": "execute_result"
    }
   ],
   "source": [
    "# Number of sessions\n",
    "df.select(\"sessionId\").dropDuplicates().count()"
   ]
  },
  {
   "cell_type": "code",
   "execution_count": 63,
   "metadata": {},
   "outputs": [
    {
     "data": {
      "text/plain": [
       "0"
      ]
     },
     "execution_count": 63,
     "metadata": {},
     "output_type": "execute_result"
    }
   ],
   "source": [
    "# There are also no empty strings in the column\n",
    "df.where(df.sessionId == \"\").count()"
   ]
  },
  {
   "cell_type": "code",
   "execution_count": 64,
   "metadata": {},
   "outputs": [
    {
     "name": "stdout",
     "output_type": "stream",
     "text": [
      "+---------+-----+\n",
      "|sessionId|count|\n",
      "+---------+-----+\n",
      "|      167|    4|\n",
      "|       54|    4|\n",
      "|      112|    4|\n",
      "|      202|    4|\n",
      "|       65|    4|\n",
      "+---------+-----+\n",
      "only showing top 5 rows\n",
      "\n"
     ]
    }
   ],
   "source": [
    "#SessionId is a unique identifier only for a specific user. Multiple users can have sessions labelled with the\n",
    "#same sessionId\n",
    "df.where(df.userId != \"\")\\\n",
    ".select(['userId','sessionId']).dropDuplicates()\\\n",
    ".groupby('sessionId').count().sort('count', ascending = False).show(5)"
   ]
  },
  {
   "cell_type": "code",
   "execution_count": 65,
   "metadata": {},
   "outputs": [
    {
     "name": "stdout",
     "output_type": "stream",
     "text": [
      "+------+---------+-------------+-------------+-------------+\n",
      "|userId|sessionId|          max|          min|sessionlength|\n",
      "+------+---------+-------------+-------------+-------------+\n",
      "|    91|     1840|1542852334000|1542585029000|     267305.0|\n",
      "|   115|      316|1538924417000|1538701498000|     222919.0|\n",
      "|   101|      635|1539263366000|1539065365000|     198001.0|\n",
      "|   120|      731|1539793336000|1539630700000|     162636.0|\n",
      "|    61|      529|1539247693000|1539096212000|     151481.0|\n",
      "+------+---------+-------------+-------------+-------------+\n",
      "only showing top 5 rows\n",
      "\n"
     ]
    }
   ],
   "source": [
    "# Sessions in the dataset can be very long. The longest lasted 267305 seconds which is more than 74 hours.\n",
    "session_end = df.where(df.userId != \"\") \\\n",
    ".groupby(['userId','sessionId']).agg(Fmax('ts').alias('max'), \n",
    "                                     Fmin('ts').alias('min'), \n",
    "                                     ((Fmax('ts') - Fmin('ts')) / 1000).alias('sessionlength')) \\\n",
    ".sort('sessionlength', ascending = False).show(5)"
   ]
  },
  {
   "cell_type": "code",
   "execution_count": 66,
   "metadata": {},
   "outputs": [
    {
     "name": "stdout",
     "output_type": "stream",
     "text": [
      "+---------+\n",
      "|max(diff)|\n",
      "+---------+\n",
      "|   3310.0|\n",
      "+---------+\n",
      "\n"
     ]
    }
   ],
   "source": [
    "# Based on the analysis performed it seems that the maximum time between two consecutive logs that still belong to \n",
    "# the same sesssion is one hour. In the provided dataset the maximum interval is 3310 seconds which is around 55 minutes.\n",
    "windowsession = Window.partitionBy(['userId','sessionId']).orderBy('ts')\n",
    "\n",
    "df = df.withColumn(\"previousts\", lag(df.ts).over(windowsession))\n",
    "df = df.withColumn(\"diff\", (df.ts - df.previousts)/1000)\n",
    "df.where(df.userId != \"\").agg(Fmax(col('diff'))).show()"
   ]
  },
  {
   "cell_type": "code",
   "execution_count": 67,
   "metadata": {},
   "outputs": [
    {
     "data": {
      "text/plain": [
       "17655"
      ]
     },
     "execution_count": 67,
     "metadata": {},
     "output_type": "execute_result"
    }
   ],
   "source": [
    "# Number of different artists\n",
    "df.where(df.artist.isNotNull()).select('artist').dropDuplicates().count()"
   ]
  },
  {
   "cell_type": "code",
   "execution_count": 38,
   "metadata": {},
   "outputs": [
    {
     "data": {
      "text/plain": [
       "8346"
      ]
     },
     "execution_count": 38,
     "metadata": {},
     "output_type": "execute_result"
    }
   ],
   "source": [
    "# There are rows with empty strings in the 'userId' column.\n",
    "df.where(df.userId == \"\").count()"
   ]
  },
  {
   "cell_type": "code",
   "execution_count": 55,
   "metadata": {},
   "outputs": [
    {
     "name": "stdout",
     "output_type": "stream",
     "text": [
      "+-----+------+\n",
      "|level| count|\n",
      "+-----+------+\n",
      "| free| 58338|\n",
      "| paid|228162|\n",
      "+-----+------+\n",
      "\n"
     ]
    }
   ],
   "source": [
    "# The subscription 'level' variable is rather indepdendent of other variables in the dataset. The users can switch between \n",
    "# free and paid tier anytime and is not static. \n",
    "df.groupby('level').count().show()"
   ]
  },
  {
   "cell_type": "code",
   "execution_count": 12,
   "metadata": {},
   "outputs": [
    {
     "name": "stdout",
     "output_type": "stream",
     "text": [
      "The imported dataframe has 286500 rows and 18 columns.\n"
     ]
    }
   ],
   "source": [
    "# Shape of the smaller Sparkify dataframe\n",
    "nrows = df.count()\n",
    "ncols = len(df.dtypes)\n",
    "print(f'The imported dataframe has {nrows} rows and {ncols} columns.')"
   ]
  },
  {
   "cell_type": "code",
   "execution_count": 68,
   "metadata": {},
   "outputs": [
    {
     "name": "stdout",
     "output_type": "stream",
     "text": [
      "+----------------+---------+---------+------+-------------+--------+---------+-----+--------------------+------+--------+\n",
      "|          artist|     auth|firstName|gender|itemInSession|lastName|   length|level|            location|method|    page|\n",
      "+----------------+---------+---------+------+-------------+--------+---------+-----+--------------------+------+--------+\n",
      "|  Martha Tilston|Logged In|    Colin|     M|           50| Freeman|277.89016| paid|     Bakersfield, CA|   PUT|NextSong|\n",
      "|Five Iron Frenzy|Logged In|    Micah|     M|           79|    Long|236.09424| free|Boston-Cambridge-...|   PUT|NextSong|\n",
      "|    Adam Lambert|Logged In|    Colin|     M|           51| Freeman| 282.8273| paid|     Bakersfield, CA|   PUT|NextSong|\n",
      "|          Enigma|Logged In|    Micah|     M|           80|    Long|262.71302| free|Boston-Cambridge-...|   PUT|NextSong|\n",
      "|       Daft Punk|Logged In|    Colin|     M|           52| Freeman|223.60771| paid|     Bakersfield, CA|   PUT|NextSong|\n",
      "+----------------+---------+---------+------+-------------+--------+---------+-----+--------------------+------+--------+\n",
      "only showing top 5 rows\n",
      "\n"
     ]
    }
   ],
   "source": [
    "# Print first 5 rows to get the idea of the dataframe; first 11 columns in alphabetical order\n",
    "df.select(['artist', 'auth', 'firstName', 'gender', 'itemInSession', 'lastName','length', 'level', 'location', 'method', 'page']).show(5)"
   ]
  },
  {
   "cell_type": "code",
   "execution_count": 19,
   "metadata": {},
   "outputs": [
    {
     "name": "stdout",
     "output_type": "stream",
     "text": [
      "+-------------+---------+--------------------+------+-------------+--------------------+------+\n",
      "| registration|sessionId|                song|status|           ts|           userAgent|userId|\n",
      "+-------------+---------+--------------------+------+-------------+--------------------+------+\n",
      "|1538173362000|       29|           Rockpools|   200|1538352117000|Mozilla/5.0 (Wind...|    30|\n",
      "|1538331630000|        8|              Canada|   200|1538352180000|\"Mozilla/5.0 (Win...|     9|\n",
      "|1538173362000|       29|   Time For Miracles|   200|1538352394000|Mozilla/5.0 (Wind...|    30|\n",
      "|1538331630000|        8|Knocking On Forbi...|   200|1538352416000|\"Mozilla/5.0 (Win...|     9|\n",
      "|1538173362000|       29|Harder Better Fas...|   200|1538352676000|Mozilla/5.0 (Wind...|    30|\n",
      "+-------------+---------+--------------------+------+-------------+--------------------+------+\n",
      "only showing top 5 rows\n",
      "\n"
     ]
    }
   ],
   "source": [
    "# Print first 5 rows to get the idea of the dataframe; 12.-18. column\n",
    "df.select(['registration', 'sessionId', 'song', 'status', 'ts', 'userAgent', 'userId']).show(5)"
   ]
  },
  {
   "cell_type": "code",
   "execution_count": 62,
   "metadata": {},
   "outputs": [
    {
     "data": {
      "text/plain": [
       "0"
      ]
     },
     "execution_count": 62,
     "metadata": {},
     "output_type": "execute_result"
    }
   ],
   "source": [
    "# Explore missing values in the 'userId' column\n",
    "df.where(df.userId.isNull()).count()"
   ]
  },
  {
   "cell_type": "code",
   "execution_count": 20,
   "metadata": {},
   "outputs": [
    {
     "name": "stdout",
     "output_type": "stream",
     "text": [
      "+------+---------+-------------+---------+-----+---------------+-------------+\n",
      "|userId|sessionId|itemInSession|     auth|level|           page|           ts|\n",
      "+------+---------+-------------+---------+-----+---------------+-------------+\n",
      "|     4|      240|            0|Logged In| free|       NextSong|1538356650000|\n",
      "|     4|      240|            1|Logged In| free|         Logout|1538356651000|\n",
      "|     4|      240|            4|Logged In| free|           Home|1538356686000|\n",
      "|     4|      240|            5|Logged In| free|       NextSong|1538356889000|\n",
      "|     4|      240|            6|Logged In| free|           Home|1538356954000|\n",
      "|     4|      240|            7|Logged In| free|       NextSong|1538357110000|\n",
      "|     4|      240|            8|Logged In| free|       NextSong|1538357328000|\n",
      "|     4|      240|            9|Logged In| free|       NextSong|1538357543000|\n",
      "|     4|      240|           10|Logged In| free|       NextSong|1538357746000|\n",
      "|     4|      240|           11|Logged In| free|       NextSong|1538357996000|\n",
      "|     4|      240|           12|Logged In| free|       NextSong|1538358264000|\n",
      "|     4|      240|           13|Logged In| free|       NextSong|1538358503000|\n",
      "|     4|      240|           14|Logged In| free|       NextSong|1538359745000|\n",
      "|     4|      240|           15|Logged In| free|       NextSong|1538359961000|\n",
      "|     4|      240|           16|Logged In| free|       NextSong|1538360174000|\n",
      "|     4|      240|           17|Logged In| free|       NextSong|1538360391000|\n",
      "|     4|      240|           18|Logged In| free|       NextSong|1538360577000|\n",
      "|     4|      240|           19|Logged In| free|       NextSong|1538360783000|\n",
      "|     4|      240|           20|Logged In| free|       NextSong|1538361026000|\n",
      "|     4|      240|           21|Logged In| free|       NextSong|1538361312000|\n",
      "|     4|      240|           22|Logged In| free|       NextSong|1538361601000|\n",
      "|     4|      240|           23|Logged In| free|       NextSong|1538361908000|\n",
      "|     4|      265|            0|Logged In| free|       NextSong|1539089749000|\n",
      "|     4|      265|            1|Logged In| free|       NextSong|1539089952000|\n",
      "|     4|      265|            2|Logged In| free|       NextSong|1539090180000|\n",
      "|     4|      265|            3|Logged In| free|       NextSong|1539090396000|\n",
      "|     4|      265|            4|Logged In| free|           Home|1539090407000|\n",
      "|     4|      647|            0|Logged In| free|       NextSong|1539275176000|\n",
      "|     4|      647|            1|Logged In| free|       NextSong|1539275408000|\n",
      "|     4|      760|            0|Logged In| free|       NextSong|1539516981000|\n",
      "|     4|      760|            1|Logged In| free|       NextSong|1539517191000|\n",
      "|     4|      760|            2|Logged In| free|        Upgrade|1539517229000|\n",
      "|     4|      760|            3|Logged In| free|           Help|1539517318000|\n",
      "|     4|      760|            4|Logged In| free|     Add Friend|1539517319000|\n",
      "|     4|      760|            5|Logged In| free|       NextSong|1539517335000|\n",
      "|     4|      760|            6|Logged In| free|       NextSong|1539517713000|\n",
      "|     4|      760|            7|Logged In| free|       NextSong|1539517947000|\n",
      "|     4|      840|            0|Logged In| free|       NextSong|1539692926000|\n",
      "|     4|      840|            1|Logged In| free|       NextSong|1539693107000|\n",
      "|     4|      840|            2|Logged In| free|        Upgrade|1539693229000|\n",
      "|     4|      840|            3|Logged In| free|       NextSong|1539693310000|\n",
      "|     4|      840|            4|Logged In| free|Add to Playlist|1539693329000|\n",
      "|     4|      840|            5|Logged In| free|       NextSong|1539693539000|\n",
      "|     4|      840|            6|Logged In| free|       NextSong|1539693886000|\n",
      "|     4|      840|            7|Logged In| free|       NextSong|1539694146000|\n",
      "|     4|      840|            8|Logged In| free|       NextSong|1539694399000|\n",
      "|     4|      840|            9|Logged In| free|       NextSong|1539694606000|\n",
      "|     4|      840|           10|Logged In| free|       NextSong|1539694884000|\n",
      "|     4|      840|           11|Logged In| free|       NextSong|1539695161000|\n",
      "|     4|      840|           12|Logged In| free|       NextSong|1539695400000|\n",
      "|     4|      840|           13|Logged In| free|       NextSong|1539695799000|\n",
      "|     4|      840|           14|Logged In| free|       NextSong|1539695951000|\n",
      "|     4|      840|           15|Logged In| free|       NextSong|1539696176000|\n",
      "|     4|      840|           16|Logged In| free|       NextSong|1539696395000|\n",
      "|     4|      840|           17|Logged In| free|       NextSong|1539696678000|\n",
      "|     4|      840|           18|Logged In| free|       NextSong|1539696874000|\n",
      "|     4|      840|           19|Logged In| free|       NextSong|1539697061000|\n",
      "|     4|      840|           20|Logged In| free|      Thumbs Up|1539697062000|\n",
      "|     4|      840|           21|Logged In| free|       NextSong|1539697276000|\n",
      "|     4|      840|           22|Logged In| free|       NextSong|1539697412000|\n",
      "|     4|      840|           23|Logged In| free|       NextSong|1539697891000|\n",
      "|     4|      840|           24|Logged In| free|       NextSong|1539698128000|\n",
      "|     4|      840|           25|Logged In| free|       NextSong|1539698350000|\n",
      "|     4|      840|           26|Logged In| free|       NextSong|1539698580000|\n",
      "|     4|      840|           27|Logged In| free|       NextSong|1539698879000|\n",
      "|     4|      840|           28|Logged In| free|       NextSong|1539699098000|\n",
      "|     4|      840|           29|Logged In| free|       NextSong|1539699286000|\n",
      "|     4|      840|           30|Logged In| free|       NextSong|1539699454000|\n",
      "|     4|      840|           31|Logged In| free|       NextSong|1539699756000|\n",
      "|     4|      840|           32|Logged In| free|       NextSong|1539699915000|\n",
      "|     4|      840|           33|Logged In| free|       NextSong|1539700058000|\n",
      "|     4|      840|           34|Logged In| free|       NextSong|1539700298000|\n",
      "|     4|      840|           35|Logged In| free|       NextSong|1539700440000|\n",
      "|     4|      840|           36|Logged In| free|       NextSong|1539700670000|\n",
      "|     4|      840|           37|Logged In| free|       NextSong|1539700862000|\n",
      "|     4|      840|           38|Logged In| free|    Roll Advert|1539700906000|\n",
      "|     4|      840|           39|Logged In| free|       NextSong|1539701077000|\n",
      "|     4|      840|           40|Logged In| free|       NextSong|1539701293000|\n",
      "|     4|      840|           41|Logged In| free|       NextSong|1539701515000|\n",
      "|     4|      840|           42|Logged In| free|       NextSong|1539701737000|\n",
      "|     4|      840|           43|Logged In| free|      Thumbs Up|1539701738000|\n",
      "|     4|      840|           44|Logged In| free|       NextSong|1539702007000|\n",
      "|     4|      840|           45|Logged In| free|       NextSong|1539702274000|\n",
      "|     4|      840|           46|Logged In| free|       NextSong|1539702693000|\n",
      "|     4|      840|           47|Logged In| free|       NextSong|1539702922000|\n",
      "|     4|      840|           48|Logged In| free|       NextSong|1539703160000|\n",
      "|     4|      840|           49|Logged In| free|       NextSong|1539703479000|\n",
      "|     4|      840|           50|Logged In| free|    Thumbs Down|1539703480000|\n",
      "|     4|      840|           51|Logged In| free|       NextSong|1539704098000|\n",
      "|     4|      840|           52|Logged In| free|       NextSong|1539704293000|\n",
      "|     4|      840|           53|Logged In| free|       NextSong|1539704558000|\n",
      "|     4|      840|           54|Logged In| free|       NextSong|1539704819000|\n",
      "|     4|      840|           55|Logged In| free|       NextSong|1539705052000|\n",
      "|     4|      840|           56|Logged In| free|       NextSong|1539705496000|\n",
      "|     4|      840|           57|Logged In| free|       NextSong|1539706036000|\n",
      "|     4|      840|           58|Logged In| free|       NextSong|1539706156000|\n",
      "|     4|      840|           59|Logged In| free|    Roll Advert|1539706220000|\n",
      "|     4|      840|           60|Logged In| free|       NextSong|1539706546000|\n",
      "|     4|      840|           61|Logged In| free|    Thumbs Down|1539706547000|\n",
      "|     4|      840|           62|Logged In| free|       NextSong|1539706878000|\n",
      "|     4|      840|           63|Logged In| free|        Upgrade|1539706934000|\n",
      "|     4|      840|           64|Logged In| free|       NextSong|1539707156000|\n",
      "|     4|      840|           65|Logged In| free|         Logout|1539707157000|\n",
      "|     4|      930|            1|Logged In| free|           Home|1539756595000|\n",
      "|     4|      930|            2|Logged In| free|       NextSong|1539756611000|\n",
      "|     4|      930|            3|Logged In| free|       NextSong|1539756856000|\n",
      "|     4|      930|            4|Logged In| free|       NextSong|1539757124000|\n",
      "|     4|      930|            5|Logged In| free|Add to Playlist|1539757205000|\n",
      "|     4|      930|            6|Logged In| free|       NextSong|1539757449000|\n",
      "|     4|      930|            7|Logged In| free|       NextSong|1539757717000|\n",
      "|     4|      957|            0|Logged In| free|       NextSong|1539948040000|\n",
      "|     4|      957|            1|Logged In| free|       NextSong|1539948303000|\n",
      "|     4|      957|            2|Logged In| free|    Roll Advert|1539948329000|\n",
      "|     4|      957|            3|Logged In| free|       NextSong|1539948497000|\n",
      "|     4|      957|            4|Logged In| free|       NextSong|1539948676000|\n",
      "|     4|      957|            5|Logged In| free|           Home|1539948756000|\n",
      "|     4|      957|            6|Logged In| free|       NextSong|1539948877000|\n",
      "|     4|      957|            7|Logged In| free|       NextSong|1539949115000|\n",
      "|     4|      957|            8|Logged In| free|Add to Playlist|1539949258000|\n",
      "|     4|      957|            9|Logged In| free|       NextSong|1539949317000|\n",
      "|     4|      957|           10|Logged In| free|    Roll Advert|1539949354000|\n",
      "|     4|      957|           11|Logged In| free|       NextSong|1539949574000|\n",
      "|     4|      957|           12|Logged In| free|    Thumbs Down|1539949575000|\n",
      "|     4|     1058|            0|Logged In| free|           Home|1540012130000|\n",
      "|     4|     1058|            1|Logged In| free|       NextSong|1540012151000|\n",
      "|     4|     1058|            2|Logged In| free|       NextSong|1540012409000|\n",
      "|     4|     1058|            3|Logged In| free|       NextSong|1540012658000|\n",
      "|     4|     1058|            4|Logged In| free|       NextSong|1540012910000|\n",
      "|     4|     1058|            5|Logged In| free|    Thumbs Down|1540012911000|\n",
      "|     4|     1058|            6|Logged In| free|       NextSong|1540013107000|\n",
      "|     4|     1094|            0|Logged In| free|       NextSong|1540119742000|\n",
      "|     4|     1094|            1|Logged In| free|       NextSong|1540120095000|\n",
      "|     4|     1094|            2|Logged In| free|       NextSong|1540120280000|\n",
      "|     4|     1094|            3|Logged In| free|       NextSong|1540120474000|\n",
      "|     4|     1094|            4|Logged In| free|       NextSong|1540120617000|\n",
      "|     4|     1094|            5|Logged In| free|       NextSong|1540120765000|\n",
      "|     4|     1094|            6|Logged In| free|Add to Playlist|1540120773000|\n",
      "|     4|     1094|            7|Logged In| free|       NextSong|1540121029000|\n",
      "|     4|     1094|            8|Logged In| free|       NextSong|1540121310000|\n",
      "|     4|     1094|            9|Logged In| free|        Upgrade|1540121319000|\n",
      "|     4|     1094|           10|Logged In| free| Submit Upgrade|1540121320000|\n",
      "|     4|     1094|           11|Logged In| paid|           Home|1540121343000|\n",
      "|     4|     1094|           12|Logged In| paid|       NextSong|1540121578000|\n",
      "|     4|     1094|           13|Logged In| paid|      Thumbs Up|1540121579000|\n",
      "|     4|     1094|           14|Logged In| paid|       NextSong|1540121787000|\n",
      "|     4|     1094|           15|Logged In| paid|       NextSong|1540122025000|\n",
      "|     4|     1094|           16|Logged In| paid|       NextSong|1540122249000|\n",
      "|     4|     1094|           17|Logged In| paid|       NextSong|1540122566000|\n",
      "|     4|     1094|           18|Logged In| paid|       NextSong|1540122809000|\n",
      "|     4|     1094|           19|Logged In| paid|       NextSong|1540123043000|\n",
      "|     4|     1094|           20|Logged In| paid|       NextSong|1540123169000|\n",
      "|     4|     1094|           21|Logged In| paid|      Thumbs Up|1540123170000|\n",
      "|     4|     1094|           22|Logged In| paid|       NextSong|1540123446000|\n",
      "|     4|     1094|           23|Logged In| paid|       NextSong|1540123655000|\n",
      "|     4|     1094|           24|Logged In| paid|       NextSong|1540123801000|\n",
      "|     4|     1094|           25|Logged In| paid|       NextSong|1540124174000|\n",
      "|     4|     1094|           26|Logged In| paid|       NextSong|1540124362000|\n",
      "|     4|     1094|           27|Logged In| paid|       NextSong|1540124526000|\n",
      "|     4|     1094|           28|Logged In| paid|       NextSong|1540124688000|\n",
      "|     4|     1094|           29|Logged In| paid|       NextSong|1540124887000|\n",
      "|     4|     1094|           30|Logged In| paid|       NextSong|1540125145000|\n",
      "|     4|     1094|           31|Logged In| paid|       NextSong|1540125320000|\n",
      "|     4|     1094|           32|Logged In| paid|       NextSong|1540125565000|\n",
      "|     4|     1094|           33|Logged In| paid|      Thumbs Up|1540125566000|\n",
      "|     4|     1094|           34|Logged In| paid|       NextSong|1540125714000|\n",
      "|     4|     1094|           35|Logged In| paid|         Logout|1540125715000|\n",
      "|     4|     1128|            3|Logged In| paid|           Home|1540301669000|\n",
      "|     4|     1128|            4|Logged In| paid|       NextSong|1540301687000|\n",
      "|     4|     1128|            5|Logged In| paid|       NextSong|1540302097000|\n",
      "|     4|     1128|            6|Logged In| paid|           Home|1540302214000|\n",
      "|     4|     1128|            7|Logged In| paid|       NextSong|1540302324000|\n",
      "|     4|     1128|            8|Logged In| paid|       NextSong|1540302552000|\n",
      "|     4|     1128|            9|Logged In| paid|       NextSong|1540302887000|\n",
      "|     4|     1128|           10|Logged In| paid|       NextSong|1540303095000|\n",
      "|     4|     1128|           11|Logged In| paid|       NextSong|1540303243000|\n",
      "|     4|     1128|           12|Logged In| paid|       NextSong|1540303469000|\n",
      "|     4|     1128|           13|Logged In| paid|       NextSong|1540303784000|\n",
      "|     4|     1128|           14|Logged In| paid|       NextSong|1540303905000|\n",
      "|     4|     1128|           15|Logged In| paid|       NextSong|1540304306000|\n",
      "|     4|     1128|           16|Logged In| paid|Add to Playlist|1540304372000|\n",
      "|     4|     1128|           17|Logged In| paid|       NextSong|1540304502000|\n",
      "|     4|     1128|           18|Logged In| paid|       NextSong|1540304690000|\n",
      "|     4|     1128|           19|Logged In| paid|       NextSong|1540304820000|\n",
      "|     4|     1128|           20|Logged In| paid|       NextSong|1540305038000|\n",
      "|     4|     1128|           21|Logged In| paid|       NextSong|1540305291000|\n",
      "|     4|     1128|           22|Logged In| paid|       NextSong|1540305585000|\n",
      "|     4|     1128|           23|Logged In| paid|       NextSong|1540305966000|\n",
      "|     4|     1128|           24|Logged In| paid|       NextSong|1540306240000|\n",
      "|     4|     1128|           25|Logged In| paid|       NextSong|1540306465000|\n",
      "|     4|     1128|           26|Logged In| paid|Add to Playlist|1540306479000|\n",
      "|     4|     1128|           27|Logged In| paid|       NextSong|1540306700000|\n",
      "|     4|     1128|           28|Logged In| paid|       NextSong|1540306994000|\n",
      "|     4|     1128|           29|Logged In| paid|       NextSong|1540307188000|\n",
      "|     4|     1128|           30|Logged In| paid|       NextSong|1540307765000|\n",
      "|     4|     1128|           31|Logged In| paid|       NextSong|1540308010000|\n",
      "|     4|     1128|           32|Logged In| paid|       NextSong|1540308665000|\n",
      "|     4|     1128|           33|Logged In| paid|      Thumbs Up|1540308666000|\n",
      "|     4|     1128|           34|Logged In| paid|Add to Playlist|1540308701000|\n",
      "|     4|     1128|           35|Logged In| paid|       NextSong|1540308839000|\n",
      "|     4|     1128|           36|Logged In| paid|       NextSong|1540309090000|\n",
      "|     4|     1128|           37|Logged In| paid|       NextSong|1540309319000|\n",
      "|     4|     1128|           38|Logged In| paid|       NextSong|1540309602000|\n",
      "|     4|     1128|           39|Logged In| paid|       NextSong|1540309789000|\n",
      "|     4|     1128|           40|Logged In| paid|       NextSong|1540309981000|\n",
      "|     4|     1128|           41|Logged In| paid|       NextSong|1540310229000|\n",
      "|     4|     1128|           42|Logged In| paid|       NextSong|1540310447000|\n",
      "|     4|     1128|           43|Logged In| paid|       NextSong|1540310665000|\n",
      "|     4|     1128|           44|Logged In| paid|       NextSong|1540310872000|\n",
      "|     4|     1128|           45|Logged In| paid|       NextSong|1540311154000|\n",
      "|     4|     1128|           46|Logged In| paid|       NextSong|1540311374000|\n",
      "|     4|     1128|           47|Logged In| paid|       NextSong|1540311525000|\n",
      "|     4|     1128|           48|Logged In| paid|       NextSong|1540311716000|\n",
      "|     4|     1128|           49|Logged In| paid|       NextSong|1540311911000|\n",
      "|     4|     1128|           50|Logged In| paid|       NextSong|1540312087000|\n",
      "|     4|     1128|           51|Logged In| paid|       NextSong|1540312228000|\n",
      "|     4|     1128|           52|Logged In| paid|       NextSong|1540312688000|\n",
      "|     4|     1128|           53|Logged In| paid|       NextSong|1540312891000|\n",
      "|     4|     1128|           54|Logged In| paid|Add to Playlist|1540312934000|\n",
      "|     4|     1128|           55|Logged In| paid|       NextSong|1540313068000|\n",
      "|     4|     1128|           56|Logged In| paid|       NextSong|1540313259000|\n",
      "|     4|     1128|           57|Logged In| paid|       NextSong|1540313467000|\n",
      "|     4|     1128|           58|Logged In| paid|       NextSong|1540313613000|\n",
      "|     4|     1128|           59|Logged In| paid|          Error|1540313752000|\n",
      "|     4|     1128|           60|Logged In| paid|       NextSong|1540313780000|\n",
      "|     4|     1128|           61|Logged In| paid|       NextSong|1540314069000|\n",
      "|     4|     1128|           62|Logged In| paid|       NextSong|1540314436000|\n",
      "|     4|     1128|           63|Logged In| paid|       NextSong|1540314677000|\n",
      "|     4|     1128|           64|Logged In| paid|       NextSong|1540315109000|\n",
      "|     4|     1128|           65|Logged In| paid|       NextSong|1540315238000|\n",
      "|     4|     1128|           66|Logged In| paid|       NextSong|1540315462000|\n",
      "|     4|     1128|           67|Logged In| paid|       NextSong|1540315772000|\n",
      "|     4|     1128|           68|Logged In| paid|       NextSong|1540316036000|\n",
      "|     4|     1128|           69|Logged In| paid|       NextSong|1540316289000|\n",
      "|     4|     1128|           70|Logged In| paid|      Thumbs Up|1540316290000|\n",
      "|     4|     1128|           71|Logged In| paid|       NextSong|1540316541000|\n",
      "|     4|     1128|           72|Logged In| paid|       NextSong|1540316749000|\n",
      "|     4|     1128|           73|Logged In| paid|       NextSong|1540316891000|\n",
      "|     4|     1128|           74|Logged In| paid|       NextSong|1540317110000|\n",
      "|     4|     1128|           75|Logged In| paid|       NextSong|1540317439000|\n",
      "|     4|     1128|           76|Logged In| paid|       NextSong|1540317658000|\n",
      "|     4|     1128|           77|Logged In| paid|      Thumbs Up|1540317659000|\n",
      "|     4|     1128|           78|Logged In| paid|       NextSong|1540317913000|\n",
      "|     4|     1128|           79|Logged In| paid|       NextSong|1540317978000|\n",
      "|     4|     1128|           80|Logged In| paid|       NextSong|1540318217000|\n",
      "|     4|     1128|           81|Logged In| paid|       NextSong|1540318339000|\n",
      "|     4|     1128|           82|Logged In| paid|       NextSong|1540318520000|\n",
      "|     4|     1128|           83|Logged In| paid|       NextSong|1540318646000|\n",
      "|     4|     1128|           84|Logged In| paid|       NextSong|1540318901000|\n",
      "|     4|     1128|           85|Logged In| paid|       NextSong|1540319136000|\n",
      "|     4|     1128|           86|Logged In| paid|       NextSong|1540319423000|\n",
      "|     4|     1128|           87|Logged In| paid|       NextSong|1540319663000|\n",
      "|     4|     1128|           88|Logged In| paid|       NextSong|1540319869000|\n",
      "|     4|     1128|           89|Logged In| paid|       NextSong|1540320007000|\n",
      "|     4|     1128|           90|Logged In| paid|       Settings|1540320029000|\n",
      "|     4|     1128|           91|Logged In| paid|       Settings|1540320065000|\n",
      "|     4|     1128|           92|Logged In| paid|       NextSong|1540320331000|\n",
      "|     4|     1128|           93|Logged In| paid|       NextSong|1540320491000|\n",
      "|     4|     1128|           94|Logged In| paid|       NextSong|1540320710000|\n",
      "|     4|     1128|           95|Logged In| paid|       NextSong|1540320816000|\n",
      "|     4|     1128|           96|Logged In| paid|       NextSong|1540321043000|\n",
      "|     4|     1128|           97|Logged In| paid|       NextSong|1540321288000|\n",
      "|     4|     1128|           98|Logged In| paid|       NextSong|1540321515000|\n",
      "|     4|     1128|           99|Logged In| paid|       NextSong|1540321721000|\n",
      "|     4|     1128|          100|Logged In| paid|       NextSong|1540322036000|\n",
      "|     4|     1128|          101|Logged In| paid|       NextSong|1540322185000|\n",
      "|     4|     1128|          102|Logged In| paid|       NextSong|1540322364000|\n",
      "|     4|     1128|          103|Logged In| paid|       NextSong|1540322605000|\n",
      "|     4|     1128|          104|Logged In| paid|       NextSong|1540322803000|\n",
      "|     4|     1128|          105|Logged In| paid|       NextSong|1540322937000|\n",
      "|     4|     1128|          106|Logged In| paid|       NextSong|1540323161000|\n",
      "|     4|     1128|          107|Logged In| paid|      Thumbs Up|1540323162000|\n",
      "|     4|     1128|          108|Logged In| paid|       NextSong|1540323523000|\n",
      "|     4|     1128|          109|Logged In| paid|       NextSong|1540323713000|\n",
      "|     4|     1128|          110|Logged In| paid|       NextSong|1540323919000|\n",
      "|     4|     1128|          111|Logged In| paid|     Add Friend|1540323920000|\n",
      "|     4|     1128|          112|Logged In| paid|       NextSong|1540324151000|\n",
      "|     4|     1128|          113|Logged In| paid|       NextSong|1540324447000|\n",
      "|     4|     1128|          114|Logged In| paid|       NextSong|1540324700000|\n",
      "|     4|     1128|          115|Logged In| paid|       NextSong|1540325032000|\n",
      "|     4|     1128|          116|Logged In| paid|       NextSong|1540325141000|\n",
      "|     4|     1128|          117|Logged In| paid|       NextSong|1540325360000|\n",
      "|     4|     1128|          118|Logged In| paid|       NextSong|1540325586000|\n",
      "|     4|     1128|          119|Logged In| paid|       NextSong|1540325847000|\n",
      "|     4|     1128|          120|Logged In| paid|       NextSong|1540326086000|\n",
      "|     4|     1128|          121|Logged In| paid|       NextSong|1540326342000|\n",
      "|     4|     1128|          122|Logged In| paid|       NextSong|1540326556000|\n",
      "|     4|     1128|          123|Logged In| paid|       NextSong|1540326814000|\n",
      "|     4|     1128|          124|Logged In| paid|       NextSong|1540327006000|\n",
      "|     4|     1128|          125|Logged In| paid|       NextSong|1540327170000|\n",
      "|     4|     1128|          126|Logged In| paid|       NextSong|1540327406000|\n",
      "|     4|     1128|          127|Logged In| paid|       NextSong|1540327612000|\n",
      "|     4|     1128|          128|Logged In| paid|       NextSong|1540327953000|\n",
      "|     4|     1128|          129|Logged In| paid|       NextSong|1540328170000|\n",
      "|     4|     1128|          130|Logged In| paid|       NextSong|1540328399000|\n",
      "|     4|     1128|          131|Logged In| paid|       NextSong|1540328606000|\n",
      "|     4|     1128|          132|Logged In| paid|       NextSong|1540328799000|\n",
      "|     4|     1128|          133|Logged In| paid|       NextSong|1540329009000|\n",
      "|     4|     1128|          134|Logged In| paid|       Settings|1540329100000|\n",
      "|     4|     1128|          135|Logged In| paid|       NextSong|1540329259000|\n",
      "|     4|     1128|          136|Logged In| paid|       NextSong|1540329465000|\n",
      "|     4|     1128|          137|Logged In| paid|       NextSong|1540329697000|\n",
      "|     4|     1128|          138|Logged In| paid|       NextSong|1540329900000|\n",
      "|     4|     1128|          139|Logged In| paid|       NextSong|1540330005000|\n",
      "|     4|     1128|          140|Logged In| paid|       NextSong|1540330244000|\n",
      "|     4|     1128|          141|Logged In| paid|       NextSong|1540330503000|\n",
      "|     4|     1128|          142|Logged In| paid|           Home|1540330511000|\n",
      "|     4|     1128|          143|Logged In| paid|       NextSong|1540330768000|\n",
      "|     4|     1128|          144|Logged In| paid|Add to Playlist|1540330784000|\n",
      "|     4|     1128|          145|Logged In| paid|       NextSong|1540330958000|\n",
      "|     4|     1128|          146|Logged In| paid|       NextSong|1540331145000|\n",
      "|     4|     1128|          147|Logged In| paid|      Thumbs Up|1540331146000|\n",
      "|     4|     1128|          148|Logged In| paid|       NextSong|1540331350000|\n",
      "|     4|     1128|          149|Logged In| paid|       NextSong|1540331584000|\n",
      "|     4|     1128|          150|Logged In| paid|       NextSong|1540331639000|\n",
      "|     4|     1128|          151|Logged In| paid|       NextSong|1540331826000|\n",
      "|     4|     1128|          152|Logged In| paid|       NextSong|1540332086000|\n",
      "|     4|     1128|          153|Logged In| paid|       NextSong|1540332308000|\n",
      "|     4|     1128|          154|Logged In| paid|       NextSong|1540332647000|\n",
      "|     4|     1128|          155|Logged In| paid|       NextSong|1540332869000|\n",
      "|     4|     1128|          156|Logged In| paid|       NextSong|1540333135000|\n",
      "|     4|     1128|          157|Logged In| paid|       NextSong|1540333829000|\n",
      "|     4|     1128|          158|Logged In| paid|       NextSong|1540334225000|\n",
      "|     4|     1128|          159|Logged In| paid|       NextSong|1540334381000|\n",
      "|     4|     1128|          160|Logged In| paid|       NextSong|1540334552000|\n",
      "|     4|     1128|          161|Logged In| paid|       NextSong|1540334760000|\n",
      "|     4|     1128|          162|Logged In| paid|       NextSong|1540335024000|\n",
      "|     4|     1128|          163|Logged In| paid|       NextSong|1540335285000|\n",
      "|     4|     1128|          164|Logged In| paid|       NextSong|1540335536000|\n",
      "|     4|     1128|          165|Logged In| paid|       NextSong|1540335741000|\n",
      "|     4|     1128|          166|Logged In| paid|       NextSong|1540335997000|\n",
      "|     4|     1128|          167|Logged In| paid|       NextSong|1540336228000|\n",
      "|     4|     1128|          168|Logged In| paid|       NextSong|1540336398000|\n",
      "|     4|     1128|          169|Logged In| paid|       NextSong|1540336767000|\n",
      "|     4|     1128|          170|Logged In| paid|       NextSong|1540336923000|\n",
      "|     4|     1128|          171|Logged In| paid|       NextSong|1540337108000|\n",
      "|     4|     1128|          172|Logged In| paid|       NextSong|1540337486000|\n",
      "|     4|     1128|          173|Logged In| paid|       NextSong|1540337751000|\n",
      "|     4|     1128|          174|Logged In| paid|          About|1540337754000|\n",
      "|     4|     1128|          175|Logged In| paid|       NextSong|1540338003000|\n",
      "|     4|     1128|          176|Logged In| paid|       NextSong|1540338270000|\n",
      "|     4|     1128|          177|Logged In| paid|       Settings|1540338323000|\n",
      "|     4|     1128|          178|Logged In| paid|  Save Settings|1540338324000|\n",
      "|     4|     1128|          179|Logged In| paid|           Home|1540338454000|\n",
      "|     4|     1128|          180|Logged In| paid|       NextSong|1540338507000|\n",
      "|     4|     1128|          181|Logged In| paid|      Thumbs Up|1540338508000|\n",
      "|     4|     1128|          182|Logged In| paid|       NextSong|1540338743000|\n",
      "|     4|     1128|          183|Logged In| paid|      Thumbs Up|1540338744000|\n",
      "|     4|     1128|          184|Logged In| paid|       NextSong|1540338944000|\n",
      "|     4|     1128|          185|Logged In| paid|       NextSong|1540339166000|\n",
      "|     4|     1128|          186|Logged In| paid|       NextSong|1540339357000|\n",
      "|     4|     1128|          187|Logged In| paid|       NextSong|1540339703000|\n",
      "|     4|     1128|          188|Logged In| paid|       NextSong|1540340030000|\n",
      "|     4|     1128|          189|Logged In| paid|       NextSong|1540340291000|\n",
      "|     4|     1128|          190|Logged In| paid|Add to Playlist|1540340410000|\n",
      "|     4|     1128|          191|Logged In| paid|       NextSong|1540340522000|\n",
      "|     4|     1128|          192|Logged In| paid|       NextSong|1540340729000|\n",
      "|     4|     1128|          193|Logged In| paid|       NextSong|1540341066000|\n",
      "|     4|     1128|          194|Logged In| paid|       NextSong|1540341312000|\n",
      "|     4|     1128|          195|Logged In| paid|       NextSong|1540341532000|\n",
      "|     4|     1128|          196|Logged In| paid|      Downgrade|1540341585000|\n",
      "|     4|     1128|          197|Logged In| paid|       NextSong|1540341795000|\n",
      "|     4|     1128|          198|Logged In| paid|       NextSong|1540341933000|\n",
      "|     4|     1128|          199|Logged In| paid|       NextSong|1540342291000|\n",
      "|     4|     1128|          200|Logged In| paid|       NextSong|1540342733000|\n",
      "|     4|     1128|          201|Logged In| paid|       NextSong|1540343027000|\n",
      "|     4|     1128|          202|Logged In| paid|       NextSong|1540343410000|\n",
      "|     4|     1128|          203|Logged In| paid|       NextSong|1540343664000|\n",
      "|     4|     1128|          204|Logged In| paid|       NextSong|1540343870000|\n",
      "|     4|     1128|          205|Logged In| paid|       NextSong|1540344218000|\n",
      "|     4|     1128|          206|Logged In| paid|       NextSong|1540344409000|\n",
      "|     4|     1128|          207|Logged In| paid|       NextSong|1540344606000|\n",
      "|     4|     1128|          208|Logged In| paid|       NextSong|1540344946000|\n",
      "|     4|     1128|          209|Logged In| paid|       NextSong|1540345147000|\n",
      "|     4|     1128|          210|Logged In| paid|       NextSong|1540345397000|\n",
      "|     4|     1128|          211|Logged In| paid|       NextSong|1540345704000|\n",
      "|     4|     1128|          212|Logged In| paid|      Downgrade|1540345783000|\n",
      "|     4|     1128|          213|Logged In| paid|         Logout|1540345784000|\n",
      "|     4|     1128|          216|Logged In| paid|           Home|1540345927000|\n",
      "|     4|     1128|          217|Logged In| paid|       NextSong|1540345960000|\n",
      "|     4|     1128|          218|Logged In| paid|       NextSong|1540346117000|\n",
      "|     4|     1128|          219|Logged In| paid|       NextSong|1540346430000|\n",
      "|     4|     1128|          220|Logged In| paid|       NextSong|1540346799000|\n",
      "|     4|     1128|          221|Logged In| paid|       NextSong|1540347032000|\n",
      "|     4|     1128|          222|Logged In| paid|       NextSong|1540347470000|\n",
      "|     4|     1128|          223|Logged In| paid|       NextSong|1540347770000|\n",
      "|     4|     1128|          224|Logged In| paid|       NextSong|1540347956000|\n",
      "|     4|     1128|          225|Logged In| paid|       NextSong|1540348206000|\n",
      "|     4|     1128|          226|Logged In| paid|       NextSong|1540348512000|\n",
      "|     4|     1128|          227|Logged In| paid|       NextSong|1540348777000|\n",
      "|     4|     1128|          228|Logged In| paid|       NextSong|1540349051000|\n",
      "|     4|     1128|          229|Logged In| paid|       NextSong|1540349280000|\n",
      "|     4|     1128|          230|Logged In| paid|       NextSong|1540349476000|\n",
      "|     4|     1128|          231|Logged In| paid|       NextSong|1540349657000|\n",
      "|     4|     1128|          232|Logged In| paid|       NextSong|1540349790000|\n",
      "|     4|     1128|          233|Logged In| paid|       NextSong|1540349956000|\n",
      "|     4|     1128|          234|Logged In| paid|       NextSong|1540350160000|\n",
      "|     4|     1128|          235|Logged In| paid|       NextSong|1540350393000|\n",
      "|     4|     1128|          236|Logged In| paid|       NextSong|1540350561000|\n",
      "|     4|     1128|          237|Logged In| paid|       NextSong|1540350904000|\n",
      "|     4|     1128|          238|Logged In| paid|       NextSong|1540351227000|\n",
      "|     4|     1128|          239|Logged In| paid|       NextSong|1540351470000|\n",
      "|     4|     1128|          240|Logged In| paid|       NextSong|1540351614000|\n",
      "|     4|     1128|          241|Logged In| paid|       NextSong|1540351787000|\n",
      "|     4|     1128|          242|Logged In| paid|       NextSong|1540352047000|\n",
      "|     4|     1128|          243|Logged In| paid|           Home|1540352100000|\n",
      "|     4|     1128|          244|Logged In| paid|       NextSong|1540352274000|\n",
      "|     4|     1128|          245|Logged In| paid|       NextSong|1540352642000|\n",
      "|     4|     1128|          246|Logged In| paid|      Downgrade|1540352715000|\n",
      "|     4|     1128|          247|Logged In| paid|       NextSong|1540352947000|\n",
      "|     4|     1128|          248|Logged In| paid|       NextSong|1540353149000|\n",
      "|     4|     1128|          249|Logged In| paid|       NextSong|1540353281000|\n",
      "|     4|     1128|          250|Logged In| paid|       NextSong|1540353483000|\n",
      "|     4|     1128|          251|Logged In| paid|       NextSong|1540353657000|\n",
      "|     4|     1128|          252|Logged In| paid|       NextSong|1540354027000|\n",
      "|     4|     1128|          253|Logged In| paid|       NextSong|1540354268000|\n",
      "|     4|     1128|          254|Logged In| paid|       NextSong|1540354498000|\n",
      "|     4|     1128|          255|Logged In| paid|       NextSong|1540354753000|\n",
      "|     4|     1128|          256|Logged In| paid|       NextSong|1540355033000|\n",
      "|     4|     1128|          257|Logged In| paid|       NextSong|1540355293000|\n",
      "|     4|     1128|          258|Logged In| paid|       NextSong|1540355525000|\n",
      "|     4|     1128|          259|Logged In| paid|       NextSong|1540355676000|\n",
      "|     4|     1128|          260|Logged In| paid|    Thumbs Down|1540355677000|\n",
      "|     4|     1128|          261|Logged In| paid|       NextSong|1540355851000|\n",
      "|     4|     1128|          262|Logged In| paid|       NextSong|1540355910000|\n",
      "|     4|     1128|          263|Logged In| paid|       NextSong|1540356159000|\n",
      "|     4|     1128|          264|Logged In| paid|       NextSong|1540356357000|\n",
      "|     4|     1128|          265|Logged In| paid|       NextSong|1540356581000|\n",
      "|     4|     1128|          266|Logged In| paid|       NextSong|1540356821000|\n",
      "|     4|     1128|          267|Logged In| paid|       NextSong|1540357046000|\n",
      "|     4|     1128|          268|Logged In| paid|       NextSong|1540357275000|\n",
      "|     4|     1128|          269|Logged In| paid|       NextSong|1540357543000|\n",
      "|     4|     1128|          270|Logged In| paid|       NextSong|1540357822000|\n",
      "|     4|     1128|          271|Logged In| paid|     Add Friend|1540357823000|\n",
      "|     4|     1128|          272|Logged In| paid|       NextSong|1540357972000|\n",
      "|     4|     1128|          273|Logged In| paid|       NextSong|1540358215000|\n",
      "|     4|     1128|          274|Logged In| paid|       NextSong|1540358373000|\n",
      "|     4|     1128|          275|Logged In| paid|       NextSong|1540358540000|\n",
      "|     4|     1128|          276|Logged In| paid|       NextSong|1540358789000|\n",
      "|     4|     1128|          277|Logged In| paid|       NextSong|1540358987000|\n",
      "|     4|     1128|          278|Logged In| paid|           Home|1540359032000|\n",
      "|     4|     1128|          279|Logged In| paid|       NextSong|1540359223000|\n",
      "|     4|     1128|          280|Logged In| paid|       NextSong|1540359530000|\n",
      "|     4|     1128|          281|Logged In| paid|      Thumbs Up|1540359531000|\n",
      "|     4|     1128|          282|Logged In| paid|       NextSong|1540359669000|\n",
      "|     4|     1128|          283|Logged In| paid|       NextSong|1540359849000|\n",
      "|     4|     1128|          284|Logged In| paid|       NextSong|1540360044000|\n",
      "|     4|     1128|          285|Logged In| paid|       NextSong|1540360291000|\n",
      "|     4|     1128|          286|Logged In| paid|       NextSong|1540360601000|\n",
      "|     4|     1128|          287|Logged In| paid|       NextSong|1540360736000|\n",
      "|     4|     1128|          288|Logged In| paid|       NextSong|1540360905000|\n",
      "|     4|     1128|          289|Logged In| paid|Add to Playlist|1540360968000|\n",
      "|     4|     1128|          290|Logged In| paid|       NextSong|1540361161000|\n",
      "|     4|     1128|          291|Logged In| paid|       NextSong|1540361476000|\n",
      "|     4|     1128|          292|Logged In| paid|       NextSong|1540361754000|\n",
      "|     4|     1128|          293|Logged In| paid|       NextSong|1540362110000|\n",
      "|     4|     1128|          294|Logged In| paid|       NextSong|1540362341000|\n",
      "|     4|     1128|          295|Logged In| paid|       NextSong|1540362570000|\n",
      "|     4|     1128|          296|Logged In| paid|       NextSong|1540362780000|\n",
      "|     4|     1128|          297|Logged In| paid|       NextSong|1540363043000|\n",
      "|     4|     1128|          298|Logged In| paid|       NextSong|1540363442000|\n",
      "|     4|     1128|          299|Logged In| paid|           Home|1540363469000|\n",
      "|     4|     1128|          300|Logged In| paid|       NextSong|1540363742000|\n",
      "|     4|     1128|          301|Logged In| paid|       NextSong|1540364037000|\n",
      "|     4|     1128|          302|Logged In| paid|       NextSong|1540364366000|\n",
      "|     4|     1128|          303|Logged In| paid|       NextSong|1540364569000|\n",
      "|     4|     1128|          304|Logged In| paid|       NextSong|1540364917000|\n",
      "|     4|     1128|          305|Logged In| paid|      Thumbs Up|1540364918000|\n",
      "|     4|     1128|          306|Logged In| paid|       NextSong|1540365202000|\n",
      "|     4|     1128|          307|Logged In| paid|       NextSong|1540365426000|\n",
      "|     4|     1128|          308|Logged In| paid|       NextSong|1540365617000|\n",
      "|     4|     1128|          309|Logged In| paid|       NextSong|1540365868000|\n",
      "|     4|     1128|          310|Logged In| paid|       NextSong|1540366133000|\n",
      "|     4|     1128|          311|Logged In| paid|       NextSong|1540366405000|\n",
      "|     4|     1128|          312|Logged In| paid|       NextSong|1540366620000|\n",
      "|     4|     1128|          313|Logged In| paid|       NextSong|1540366907000|\n",
      "|     4|     1128|          314|Logged In| paid|       NextSong|1540367123000|\n",
      "|     4|     1128|          315|Logged In| paid|       NextSong|1540367475000|\n",
      "|     4|     1128|          316|Logged In| paid|       NextSong|1540367741000|\n",
      "|     4|     1128|          317|Logged In| paid|       NextSong|1540367937000|\n",
      "|     4|     1128|          318|Logged In| paid|       NextSong|1540368173000|\n",
      "|     4|     1128|          319|Logged In| paid|       NextSong|1540368371000|\n",
      "|     4|     1128|          320|Logged In| paid|       NextSong|1540368548000|\n",
      "|     4|     1128|          321|Logged In| paid|       NextSong|1540368756000|\n",
      "|     4|     1128|          322|Logged In| paid|       NextSong|1540368915000|\n",
      "|     4|     1128|          323|Logged In| paid|       NextSong|1540369161000|\n",
      "|     4|     1128|          324|Logged In| paid|       NextSong|1540369285000|\n",
      "|     4|     1128|          325|Logged In| paid|       NextSong|1540369576000|\n",
      "|     4|     1128|          326|Logged In| paid|       NextSong|1540369749000|\n",
      "|     4|     1128|          327|Logged In| paid|           Home|1540369806000|\n",
      "|     4|     1128|          328|Logged In| paid|     Add Friend|1540369807000|\n",
      "|     4|     1128|          329|Logged In| paid|     Add Friend|1540369808000|\n",
      "|     4|     1128|          330|Logged In| paid|     Add Friend|1540369809000|\n",
      "|     4|     1128|          331|Logged In| paid|       NextSong|1540369982000|\n",
      "|     4|     1128|          332|Logged In| paid|       NextSong|1540370128000|\n",
      "|     4|     1128|          333|Logged In| paid|       NextSong|1540370308000|\n",
      "|     4|     1128|          334|Logged In| paid|       NextSong|1540370706000|\n",
      "|     4|     1128|          335|Logged In| paid|       NextSong|1540371075000|\n",
      "|     4|     1128|          336|Logged In| paid|      Thumbs Up|1540371076000|\n",
      "|     4|     1128|          337|Logged In| paid|       NextSong|1540371313000|\n",
      "|     4|     1128|          338|Logged In| paid|      Downgrade|1540371328000|\n",
      "+------+---------+-------------+---------+-----+---------------+-------------+\n",
      "only showing top 500 rows\n",
      "\n"
     ]
    }
   ],
   "source": [
    "# Logs belonging to a specific user\n",
    "df.where(df.userId == 4).select(['userId','sessionId','itemInSession','auth','level','page','ts']).show(500)"
   ]
  },
  {
   "cell_type": "code",
   "execution_count": 34,
   "metadata": {},
   "outputs": [
    {
     "name": "stdout",
     "output_type": "stream",
     "text": [
      "+------+---------+------+--------+---------+--------+----------+-----+-------------+-----+\n",
      "|userId|firstName|gender|lastName|sessionId|location|      auth|level|           ts| page|\n",
      "+------+---------+------+--------+---------+--------+----------+-----+-------------+-----+\n",
      "|      |     null|  null|    null|        8|    null|Logged Out| free|1538355745000| Home|\n",
      "|      |     null|  null|    null|        8|    null|Logged Out| free|1538355807000| Help|\n",
      "|      |     null|  null|    null|        8|    null|Logged Out| free|1538355841000| Home|\n",
      "|      |     null|  null|    null|        8|    null|Logged Out| free|1538355842000|Login|\n",
      "|      |     null|  null|    null|      240|    null|Logged Out| free|1538356678000| Home|\n",
      "|      |     null|  null|    null|      240|    null|Logged Out| free|1538356679000|Login|\n",
      "|      |     null|  null|    null|      100|    null|Logged Out| free|1538358102000|Login|\n",
      "|      |     null|  null|    null|      241|    null|Logged Out| free|1538360117000|Login|\n",
      "|      |     null|  null|    null|      187|    null|Logged Out| free|1538361527000| Home|\n",
      "|      |     null|  null|    null|      187|    null|Logged Out| free|1538361528000|Login|\n",
      "+------+---------+------+--------+---------+--------+----------+-----+-------------+-----+\n",
      "only showing top 10 rows\n",
      "\n",
      "+----------+-----+\n",
      "|      auth|count|\n",
      "+----------+-----+\n",
      "|Logged Out| 8249|\n",
      "|     Guest|   97|\n",
      "+----------+-----+\n",
      "\n"
     ]
    }
   ],
   "source": [
    "# Rows with empty string in the 'userId' column correspond to logs in which user has not been logged in\n",
    "# (either 'Logged Out' or 'Guest' authentication levels). \n",
    "df.select(['userId','firstName','gender','lastName',\n",
    "           'sessionId','location','auth','level','ts','page']).where(df.userId == \"\").show(10)\n",
    "\n",
    "df.where(df.userId == \"\").groupby('auth').count().show()"
   ]
  },
  {
   "cell_type": "code",
   "execution_count": 60,
   "metadata": {},
   "outputs": [
    {
     "name": "stdout",
     "output_type": "stream",
     "text": [
      "+----------+------+\n",
      "|      auth| count|\n",
      "+----------+------+\n",
      "|Logged Out|  8249|\n",
      "| Cancelled|    52|\n",
      "|     Guest|    97|\n",
      "| Logged In|278102|\n",
      "+----------+------+\n",
      "\n"
     ]
    }
   ],
   "source": [
    "# Explore the auth column\n",
    "df.groupby('auth').count().show()"
   ]
  },
  {
   "cell_type": "code",
   "execution_count": 61,
   "metadata": {},
   "outputs": [
    {
     "name": "stdout",
     "output_type": "stream",
     "text": [
      "+------+-------------------+---------+---------+--------------------+\n",
      "|userId|             tsDate|sessionId|     auth|                page|\n",
      "+------+-------------------+---------+---------+--------------------+\n",
      "|    18|2018-10-07 22:26:30|      514|Cancelled|Cancellation Conf...|\n",
      "|    32|2018-10-08 23:10:46|      540|Cancelled|Cancellation Conf...|\n",
      "|   125|2018-10-12 06:35:18|      174|Cancelled|Cancellation Conf...|\n",
      "|   105|2018-10-12 22:17:21|      508|Cancelled|Cancellation Conf...|\n",
      "|    17|2018-10-13 23:19:44|      797|Cancelled|Cancellation Conf...|\n",
      "+------+-------------------+---------+---------+--------------------+\n",
      "only showing top 5 rows\n",
      "\n"
     ]
    }
   ],
   "source": [
    "# 'Cancelled' category corresponds to 'Cancellation Confirmation' in the page column\n",
    "df.where(df.auth == 'Cancelled').select(['userId', 'tsDate', 'sessionId', 'auth', 'page']).show(5)"
   ]
  },
  {
   "cell_type": "code",
   "execution_count": null,
   "metadata": {},
   "outputs": [],
   "source": []
  },
  {
   "cell_type": "code",
   "execution_count": 41,
   "metadata": {},
   "outputs": [],
   "source": [
    "#App users dataset\n",
    "gender_dist = df.select(['userId','gender']).where(df.userId != \"\").dropDuplicates(['userId']).groupby('gender').count().toPandas()\n",
    "gender_dist_rel = (gender_dist.set_index('gender') / sum(gender_dist['count']))\n",
    "\n",
    "#Activity dataset\n",
    "gender_dist_logs = df.where(df.userId != \"\").groupby('gender').count().toPandas()\n",
    "gender_dist_logs_rel = (gender_dist_logs.set_index('gender') / sum(gender_dist_logs['count']))"
   ]
  },
  {
   "cell_type": "code",
   "execution_count": 54,
   "metadata": {},
   "outputs": [
    {
     "data": {
      "image/png": "[encoded data removed]",
      "text/plain": [
       "<Figure size 576x288 with 1 Axes>"
      ]
     },
     "metadata": {
      "needs_background": "light"
     },
     "output_type": "display_data"
    }
   ],
   "source": [
    "comparison = gender_dist_rel.merge(gender_dist_logs_rel, on='gender')\n",
    "comparison.columns = ['App Users', 'Activity']\n",
    "\n",
    "# Define plotting parameters\n",
    "plt.rcParams['figure.figsize'] = (8,4)\n",
    "plt.rcParams.update({'font.size': 12})\n",
    "\n",
    "# Define colors to use throughout this notebook\n",
    "colors = [\"tealish green\", \"charcoal grey\"]\n",
    "palette = sns.xkcd_palette(colors)\n",
    "color1 = palette[0]\n",
    "color2 = palette[1]\n",
    "\n",
    "# Plot\n",
    "comparison.transpose().plot.bar(rot = 0, color = [color1, color2]);\n",
    "plt.ylabel('Share');"
   ]
  },
  {
   "cell_type": "code",
   "execution_count": 56,
   "metadata": {},
   "outputs": [
    {
     "name": "stdout",
     "output_type": "stream",
     "text": [
      "+--------------------+------+\n",
      "|                page| count|\n",
      "+--------------------+------+\n",
      "|            NextSong|228108|\n",
      "|                Home| 14457|\n",
      "|           Thumbs Up| 12551|\n",
      "|     Add to Playlist|  6526|\n",
      "|          Add Friend|  4277|\n",
      "|         Roll Advert|  3933|\n",
      "|               Login|  3241|\n",
      "|              Logout|  3226|\n",
      "|         Thumbs Down|  2546|\n",
      "|           Downgrade|  2055|\n",
      "|                Help|  1726|\n",
      "|            Settings|  1514|\n",
      "|               About|   924|\n",
      "|             Upgrade|   499|\n",
      "|       Save Settings|   310|\n",
      "|               Error|   258|\n",
      "|      Submit Upgrade|   159|\n",
      "|    Submit Downgrade|    63|\n",
      "|Cancellation Conf...|    52|\n",
      "|              Cancel|    52|\n",
      "|            Register|    18|\n",
      "| Submit Registration|     5|\n",
      "+--------------------+------+\n",
      "\n"
     ]
    }
   ],
   "source": [
    "# Explore the 'page' column that represents the types of interactions with the music streaming service\n",
    "# Obtain the distribution of the interaction types in the analyzed dataset\n",
    "df.groupby('page').count().sort('count', ascending = False).show(22)"
   ]
  },
  {
   "cell_type": "code",
   "execution_count": 57,
   "metadata": {},
   "outputs": [],
   "source": [
    "# The smaller dataset is representative - distribution of the interaction types is similar in the full Sparkify dataset\n",
    "page_pd_full = pd.DataFrame({'page' : ['NextSong','Home','Thumbs Up', 'Add to Playlist', 'Roll Advert', 'Add Friend', \n",
    "                                       'Login','Logout', 'Thumbs Down', 'Downgrade', 'Help', 'Settings', 'About', \n",
    "                                       'Upgrade', 'Save Settings', 'Error', 'Submit Upgrade', 'Submit Downgrade', 'Cancel',\n",
    "                                     'Cancellation Confirmation', 'Register', 'Submit Registration'],\n",
    "                             'count' : [20850272, 1343102, 1151465, 597921, 385212, 381664, 296350, 296005, 239212,\n",
    "                                    184240, 155100, 147074, 92759, 50507, 29516, 25962, 15135, 6494, 5003, 5003, 802,401]})\n",
    "\n",
    "page_pd_full['Full Sparkify Dataset'] = page_pd_full['count'] / sum(page_pd_full['count'])"
   ]
  },
  {
   "cell_type": "code",
   "execution_count": 58,
   "metadata": {},
   "outputs": [
    {
     "data": {
      "image/png": "[encoded data removed]",
      "text/plain": [
       "<Figure size 720x504 with 1 Axes>"
      ]
     },
     "metadata": {
      "needs_background": "light"
     },
     "output_type": "display_data"
    }
   ],
   "source": [
    "# Visualize the categorical distribution\n",
    "page_pd = df.groupby('page').count().sort('count', ascending = False).toPandas()\n",
    "page_pd['Subset'] = page_pd['count'] / sum(page_pd['count'])\n",
    "# Compare to statistics calculated on gull Sparkify dataset\n",
    "compare_pd = page_pd_full.merge(page_pd, on = 'page')\n",
    "\n",
    "# Plot\n",
    "plt.rcParams['figure.figsize'] = (10,7)\n",
    "compare_pd.plot(x='page', y= ['Full Sparkify Dataset', 'Subset'], kind = \"bar\",  color = [color1, color2]);\n",
    "plt.xlabel(\"\");\n",
    "plt.ylabel(\"Frequency\");\n",
    "plt.title(\"Interaction type distribution\");\n",
    "plt.subplots_adjust(left=0.1, right=0.9, top=0.95, bottom=0.45);\n",
    "plt.savefig('interactiontype1');"
   ]
  },
  {
   "cell_type": "code",
   "execution_count": 59,
   "metadata": {},
   "outputs": [
    {
     "data": {
      "image/png": "[encoded data removed]",
      "text/plain": [
       "<Figure size 720x504 with 1 Axes>"
      ]
     },
     "metadata": {
      "needs_background": "light"
     },
     "output_type": "display_data"
    }
   ],
   "source": [
    "# Distribution ex playing songs\n",
    "compare_pd[compare_pd['page']!='NextSong'].plot(x='page', y= ['Full Sparkify Dataset', 'Subset'], kind = \"bar\",\n",
    "                                               color = [color1, color2]);\n",
    "\n",
    "# Plot\n",
    "plt.rcParams['figure.figsize'] = (10,7)\n",
    "plt.xlabel(\"\");\n",
    "plt.ylabel(\"Frequency\");\n",
    "plt.title(\"Interaction type distribution\");\n",
    "plt.subplots_adjust(left=0.1, right=0.9, top=0.95, bottom=0.45);\n",
    "plt.savefig('interactiontype2')"
   ]
  },
  {
   "cell_type": "markdown",
   "metadata": {},
   "source": [
    "# 3. Data transformation and Feature Engineering\n",
    "Once you've familiarized yourself with the data, build out the features you find promising to train your model on. To work with the full dataset, you can follow the following steps.\n",
    "- Write a script to extract the necessary features from the smaller subset of data\n",
    "- Ensure that your script is scalable, using the best practices discussed in Lesson 3\n",
    "- Try your script on the full data set, debugging your script if necessary\n",
    "\n",
    "If you are working in the classroom workspace, you can just extract features based on the small subset of data contained here. Be sure to transfer over this work to the larger dataset when you work on your Spark cluster."
   ]
  },
  {
   "cell_type": "code",
   "execution_count": 89,
   "metadata": {},
   "outputs": [],
   "source": [
    "# Convert the timestamps in columns 'registration' and 'ts' into datetime format and add them to the dataframe\n",
    "df = df.withColumn('registrationDate', (df['registration'] / 1000).cast(TimestampType()))\n",
    "df = df.withColumn('tsDate', (df['ts'] / 1000).cast(TimestampType()))"
   ]
  },
  {
   "cell_type": "code",
   "execution_count": 90,
   "metadata": {},
   "outputs": [
    {
     "name": "stdout",
     "output_type": "stream",
     "text": [
      "+------+--------+-------------+-------------------+\n",
      "|userId|    page|           ts|             tsDate|\n",
      "+------+--------+-------------+-------------------+\n",
      "|    30|NextSong|1538352117000|2018-10-01 02:01:57|\n",
      "|     9|NextSong|1538352180000|2018-10-01 02:03:00|\n",
      "|    30|NextSong|1538352394000|2018-10-01 02:06:34|\n",
      "|     9|NextSong|1538352416000|2018-10-01 02:06:56|\n",
      "|    30|NextSong|1538352676000|2018-10-01 02:11:16|\n",
      "+------+--------+-------------+-------------------+\n",
      "only showing top 5 rows\n",
      "\n"
     ]
    }
   ],
   "source": [
    "# Based on the data shown below it seems the observation period started at 02:01:57, October 1, 2018\n",
    "df.select('userId', 'page', 'ts', 'tsDate').sort('ts').show(5)"
   ]
  },
  {
   "cell_type": "code",
   "execution_count": 91,
   "metadata": {},
   "outputs": [
    {
     "name": "stdout",
     "output_type": "stream",
     "text": [
      "+------+---------------+-------------+-------------------+\n",
      "|userId|           page|           ts|             tsDate|\n",
      "+------+---------------+-------------+-------------------+\n",
      "|300011|          About|1543622398000|2018-12-01 00:59:58|\n",
      "|200008|       NextSong|1543622395000|2018-12-01 00:59:55|\n",
      "|   138|       NextSong|1543622365000|2018-12-01 00:59:25|\n",
      "|    39|       NextSong|1543622355000|2018-12-01 00:59:15|\n",
      "|    30|Add to Playlist|1543622320000|2018-12-01 00:58:40|\n",
      "|    30|       NextSong|1543622287000|2018-12-01 00:58:07|\n",
      "|    56|       NextSong|1543622282000|2018-12-01 00:58:02|\n",
      "|300011|           Home|1543622248000|2018-12-01 00:57:28|\n",
      "|      |          Login|1543622241000|2018-12-01 00:57:21|\n",
      "|      |           Home|1543622240000|2018-12-01 00:57:20|\n",
      "+------+---------------+-------------+-------------------+\n",
      "only showing top 10 rows\n",
      "\n"
     ]
    }
   ],
   "source": [
    "# Based on the data shown below it seems the observation period ended at 00:58:40, December 01, 2018 \n",
    "df.select('userId', 'page', 'ts', 'tsDate').sort('ts', ascending = False).show(10)"
   ]
  },
  {
   "cell_type": "code",
   "execution_count": 92,
   "metadata": {},
   "outputs": [
    {
     "data": {
      "text/plain": [
       "278150"
      ]
     },
     "execution_count": 92,
     "metadata": {},
     "output_type": "execute_result"
    }
   ],
   "source": [
    "# Remove rows with missing userId \n",
    "df = df.where(df.userId != \"\")\n",
    "df.count()"
   ]
  },
  {
   "cell_type": "markdown",
   "metadata": {},
   "source": [
    "## 3.1 Transformations on the Original Dataset"
   ]
  },
  {
   "cell_type": "code",
   "execution_count": 69,
   "metadata": {},
   "outputs": [],
   "source": [
    "# Default observation start and end timestamps for users who have registered before October 1 and haven't churned\n",
    "obs_start_default = 1538352000000\n",
    "obs_end_default = 1543622400000"
   ]
  },
  {
   "cell_type": "markdown",
   "metadata": {},
   "source": [
    "#### Registration\n",
    "User's registration dates are listed in the registration column of the imported dataset, but we have observed that they do not always seem to be correct. For users who registered after the start of the default observation period the registration dates are not consistent with the actual log timestamps and activity types. We thus had to obtain late registrations by finding 'Submit Registration' logs in the page column. "
   ]
  },
  {
   "cell_type": "code",
   "execution_count": 71,
   "metadata": {},
   "outputs": [
    {
     "name": "stdout",
     "output_type": "stream",
     "text": [
      "+------+-----+-------------------+-------------------+---------+\n",
      "|userId| auth|               page|             tsDate|sessionId|\n",
      "+------+-----+-------------------+-------------------+---------+\n",
      "|      |Guest|Submit Registration|2018-10-30 07:59:07|     1402|\n",
      "|      |Guest|Submit Registration|2018-11-02 16:13:19|     1506|\n",
      "|      |Guest|Submit Registration|2018-11-02 16:55:56|      154|\n",
      "|      |Guest|Submit Registration|2018-11-08 22:10:33|     1719|\n",
      "|      |Guest|Submit Registration|2018-11-27 00:12:49|     2288|\n",
      "+------+-----+-------------------+-------------------+---------+\n",
      "\n"
     ]
    }
   ],
   "source": [
    "# \"Submit registration\" events have empty strings in the userId column.\n",
    "# The userId can be inferred from the sessionId information.\n",
    "df.select(['userId','auth','page','tsDate','sessionId']).where(df.page == 'Submit Registration').show()"
   ]
  },
  {
   "cell_type": "code",
   "execution_count": 72,
   "metadata": {},
   "outputs": [
    {
     "name": "stdout",
     "output_type": "stream",
     "text": [
      "+------+---------+-------------------+-------------------+---------+\n",
      "|userId|     auth|               page|             tsDate|sessionId|\n",
      "+------+---------+-------------------+-------------------+---------+\n",
      "|      |    Guest|               Home|2018-11-02 16:12:56|     1506|\n",
      "|      |    Guest|           Register|2018-11-02 16:13:18|     1506|\n",
      "|      |    Guest|Submit Registration|2018-11-02 16:13:19|     1506|\n",
      "|   154|Logged In|               Home|2018-11-02 16:15:35|     1506|\n",
      "|   154|Logged In|           NextSong|2018-11-02 16:15:38|     1506|\n",
      "|   154|Logged In|           NextSong|2018-11-02 16:18:39|     1506|\n",
      "|   154|Logged In|           NextSong|2018-11-02 16:22:19|     1506|\n",
      "|   154|Logged In|           NextSong|2018-11-02 16:26:59|     1506|\n",
      "|   154|Logged In|           NextSong|2018-11-02 16:32:26|     1506|\n",
      "|   154|Logged In|        Roll Advert|2018-11-02 16:33:03|     1506|\n",
      "+------+---------+-------------------+-------------------+---------+\n",
      "only showing top 10 rows\n",
      "\n"
     ]
    }
   ],
   "source": [
    "# Registration of the userId=154 - note that the time of \"Submit Registration\" log does not match the \n",
    "# registration time printed above.\n",
    "df.select(['userId','auth','page','tsDate', 'sessionId']).where(df.sessionId == 1506).show(10)"
   ]
  },
  {
   "cell_type": "markdown",
   "metadata": {},
   "source": [
    "As can be seen in the table above, the 'Submit Registration' event is followed by user's first interaction in the same session. To identify users with late registrations we have shifted the page column by one index (within a given session) and checked whether the first entry of the lagged column reads 'Submit Registration'. For each such user the start of the observation period has been set to the timestamp of his/her first log, whereas for all other users the default start time applies."
   ]
  },
  {
   "cell_type": "code",
   "execution_count": 73,
   "metadata": {},
   "outputs": [],
   "source": [
    "# Lag the page column\n",
    "windowsession = Window.partitionBy('sessionId').orderBy('ts')\n",
    "df = df.withColumn(\"lagged_page\", lag(df.page).over(windowsession))"
   ]
  },
  {
   "cell_type": "code",
   "execution_count": 74,
   "metadata": {},
   "outputs": [
    {
     "name": "stdout",
     "output_type": "stream",
     "text": [
      "+------+---------+-------------------+-------------------+---------+\n",
      "|userId|     auth|        lagged_page|             tsDate|sessionId|\n",
      "+------+---------+-------------------+-------------------+---------+\n",
      "|   156|Logged In|Submit Registration|2018-11-27 00:14:00|     2288|\n",
      "|   154|Logged In|Submit Registration|2018-11-02 16:15:35|     1506|\n",
      "|   152|Logged In|Submit Registration|2018-10-30 07:59:09|     1402|\n",
      "|   155|Logged In|Submit Registration|2018-11-02 16:56:25|      154|\n",
      "|   153|Logged In|Submit Registration|2018-11-08 22:11:10|     1719|\n",
      "+------+---------+-------------------+-------------------+---------+\n",
      "\n"
     ]
    }
   ],
   "source": [
    "# With the lagged page column we can identify the users that registered later\n",
    "df.where(df.lagged_page == \"Submit Registration\").select(['userId','auth','lagged_page','tsDate', 'sessionId']).show()"
   ]
  },
  {
   "cell_type": "code",
   "execution_count": 75,
   "metadata": {},
   "outputs": [],
   "source": [
    "# All the values calculated here are the same for all logs belonging to a given user. Nevertheless, we attach them to the\n",
    "# original dataset, as they are needed for activity trend calculation \n",
    "windowuser = Window.partitionBy('userId').orderBy('ts').rangeBetween(Window.unboundedPreceding, Window.unboundedFollowing)\n",
    "\n",
    "# Identify users that registered after the start of observation, and infer the start date accordingly\n",
    "df = df.withColumn(\"beforefirstlog\", first(col('lagged_page')).over(windowuser))\n",
    "df = df.withColumn(\"firstlogtime\", first(col('ts')).over(windowuser))\n",
    "df = df.withColumn(\"obsstart\", \n",
    "                   when(df.beforefirstlog == \"Submit Registration\", df.firstlogtime).otherwise(obs_start_default))"
   ]
  },
  {
   "cell_type": "markdown",
   "metadata": {},
   "source": [
    "#### Cancellation\n",
    "Similar to above, there are users who cancelled their service before the end of the default observation period, the so-called churned users. One can simply identify them by finding all the 'Cancellation Confirmation' entries in the page column. For each such user the end of the respective observation period has been set to the timestamp of his/her last log entry, whereas for all other users the default end date applies."
   ]
  },
  {
   "cell_type": "code",
   "execution_count": 79,
   "metadata": {},
   "outputs": [],
   "source": [
    "# Identify users that cancelled their service, i.e. users whose last log event is \"Cancellation Confirmation\", and\n",
    "# obtain the corresponding end of the observation period. This is done on the original dataset\n",
    "# so a single value, e.g. end of observation period, is copied to all rows belonging to a given userId.\n",
    "\n",
    "df = df.withColumn(\"endstate\", last(col('page')).over(windowuser))\n",
    "df = df.withColumn(\"lastlogtime\", last(col('ts')).over(windowuser))\n",
    "df = df.withColumn(\"obsend\", when(df.endstate == \"Cancellation Confirmation\", df.lastlogtime).otherwise(obs_end_default))\n"
   ]
  },
  {
   "cell_type": "markdown",
   "metadata": {},
   "source": [
    "#### Relative timing of each log\n",
    "As mentioned before, we wanted to include activity trend as one of the predictors of churned users. Trend can be estimated by calculating a specific metric on the first and last k days of the observation period and then comparing them. "
   ]
  },
  {
   "cell_type": "code",
   "execution_count": 80,
   "metadata": {},
   "outputs": [],
   "source": [
    "# For each log compute the time from the beginning of observation...\n",
    "df = df.withColumn(\"timefromstart\", col('ts')-col(\"obsstart\"))\n",
    "# ...and time before the end of observation\n",
    "df = df.withColumn(\"timebeforeend\", col('obsend')-col('ts'))"
   ]
  },
  {
   "cell_type": "code",
   "execution_count": 81,
   "metadata": {},
   "outputs": [
    {
     "name": "stdout",
     "output_type": "stream",
     "text": [
      "+------+-------------+-------------+--------------------+----------+-------------+-------------+-------------+\n",
      "|userId|     obsstart|       obsend|            endstate|      page|           ts|timefromstart|timebeforeend|\n",
      "+------+-------------+-------------+--------------------+----------+-------------+-------------+-------------+\n",
      "|100023|1538352000000|1539475237000|Cancellation Conf...|     About|1538665362000|    313362000|    809875000|\n",
      "|100023|1538352000000|1539475237000|Cancellation Conf...|  NextSong|1538665432000|    313432000|    809805000|\n",
      "|100023|1538352000000|1539475237000|Cancellation Conf...|Add Friend|1538665433000|    313433000|    809804000|\n",
      "|100023|1538352000000|1539475237000|Cancellation Conf...|Add Friend|1538665434000|    313434000|    809803000|\n",
      "|100023|1538352000000|1539475237000|Cancellation Conf...|  NextSong|1538767734000|    415734000|    707503000|\n",
      "+------+-------------+-------------+--------------------+----------+-------------+-------------+-------------+\n",
      "only showing top 5 rows\n",
      "\n"
     ]
    }
   ],
   "source": [
    "# Example of a user with default observation start and earlier observation end due to Cancellation Confirmation\n",
    "df.select(['userId','obsstart','obsend','endstate','page','ts','timefromstart','timebeforeend'])\\\n",
    ".where(df.userId == 100023).show(5)"
   ]
  },
  {
   "cell_type": "markdown",
   "metadata": {},
   "source": [
    "#### Last Subscription Level\n",
    "One other operation that we have performed on the original dataset is finding the user's last subscription level (free or paid) at the last log entry, so either user's subscription level at the time of cancellation, or at the end of the default observation period. "
   ]
  },
  {
   "cell_type": "code",
   "execution_count": 82,
   "metadata": {},
   "outputs": [],
   "source": [
    "# Obtain user's last subscription level and add it to the original dataset\n",
    "df = df.withColumn(\"lastlevel\", last(col('level')).over(windowuser))"
   ]
  },
  {
   "cell_type": "code",
   "execution_count": 83,
   "metadata": {},
   "outputs": [
    {
     "data": {
      "text/plain": [
       "286496"
      ]
     },
     "execution_count": 83,
     "metadata": {},
     "output_type": "execute_result"
    }
   ],
   "source": [
    "# Remove rows with corrupted timestamps\n",
    "df = df.where(df.ts < obs_end_default)\n",
    "df.count()"
   ]
  },
  {
   "cell_type": "markdown",
   "metadata": {},
   "source": [
    "### Mapping and Aggregation\n",
    "As the next step, we have transformed the original Sparkify dataset (one row per log) to a dataset with user-level information or statistics (one row per user), which have been obtained either through mapping from the original dataset (applies to user-level features such as user's gender, last subscription level, etc.) or aggregation (grouping the logs by userId, e.g. total activity count of each user).\n",
    "\n",
    "The newly created dataset includes the following columns:\n",
    "\n",
    "userId\n",
    "* lastlevel : user's last subscription level, transformed into binary format (1 - paid tier, 0 - free tier)\n",
    "* gender : gender, transformed into binary format (1 - female, 0 - male)\n",
    "* obsstart, obsend: start and end of the observation period\n",
    "* endstate : last interaction in the observation period\n",
    "* nact : user's total number of interactions in the observation period\n",
    "* nsongs, ntbup, ntbdown, nfriend, nplaylist, ndgrade, nupgrade, nhome, nadvert, nhelp, nsettings, nerror : number of songs played, thumbs up given, thumbs down given, friends added, songs added to playlist, downgrades, upgrades, home page visits, advertisements played, help page visits, settings visits, errors, respectively\n",
    "* nact_recent, nact_oldest : user's activity in the last and first k days of the observation window, respectively\n",
    "* nsongs_recent, nsongs_oldest : songs played in the last and first k days of the observation window, respectively"
   ]
  },
  {
   "cell_type": "code",
   "execution_count": 84,
   "metadata": {},
   "outputs": [],
   "source": [
    "# Length of the estimation window for activity trend calculation\n",
    "trend_est_days = 14\n",
    "trend_est_hours = trend_est_days * 24\n",
    "# In timestamp format\n",
    "trend_est = trend_est_days * 24 * 60 * 60 * 1000"
   ]
  },
  {
   "cell_type": "code",
   "execution_count": 85,
   "metadata": {},
   "outputs": [],
   "source": [
    "# Aggregation by userId\n",
    "df_user = df.groupby('userId')\\\n",
    ".agg(\n",
    "     # User-level features\n",
    "     first(when(col('lastlevel') == 'paid', 1).otherwise(0)).alias('lastlevel'),\n",
    "     first(when(col('gender') == \"F\", 1).otherwise(0)).alias('gender'),\n",
    "     first(col('obsstart')).alias('obsstart'),\n",
    "     first(col('obsend')).alias('obsend'),\n",
    "     first(col('endstate')).alias('endstate'),\n",
    "     \n",
    "     # Aggregated activity statistics\n",
    "     count(col('page')).alias('nact'),\n",
    "     Fsum(when(col('page') == \"NextSong\", 1).otherwise(0)).alias(\"nsongs\"),\n",
    "     Fsum(when(col('page') == \"Thumbs Up\", 1).otherwise(0)).alias(\"ntbup\"),\n",
    "     Fsum(when(col('page') == \"Thumbs Down\", 1).otherwise(0)).alias(\"ntbdown\"),\n",
    "     Fsum(when(col('page') == \"Add Friend\", 1).otherwise(0)).alias(\"nfriend\"),\n",
    "     Fsum(when(col('page') == \"Add to Playlist\", 1).otherwise(0)).alias(\"nplaylist\"),     \n",
    "     Fsum(when(col('page') == \"Submit Downgrade\", 1).otherwise(0)).alias(\"ndgrade\"),\n",
    "     Fsum(when(col('page') == \"Submit Upgrade\", 1).otherwise(0)).alias(\"nugrade\"),\n",
    "     Fsum(when(col('page') == \"Home\", 1).otherwise(0)).alias(\"nhome\"),\n",
    "     Fsum(when(col('page') == \"Roll Advert\", 1).otherwise(0)).alias(\"nadvert\"),\n",
    "     Fsum(when(col('page') == \"Help\", 1).otherwise(0)).alias(\"nhelp\"),\n",
    "     Fsum(when(col('page') == \"Settings\", 1).otherwise(0)).alias(\"nsettings\"),\n",
    "     Fsum(when(col('page') == \"Error\", 1).otherwise(0)).alias(\"nerror\"),\n",
    "     \n",
    "     # Aggregated activity statistics in different periods \n",
    "     Fsum(when(col('timebeforeend') < trend_est, 1).otherwise(0)).alias(\"nact_recent\"),\n",
    "     Fsum(when(col('timefromstart') < trend_est, 1).otherwise(0)).alias(\"nact_oldest\"),\n",
    "     Fsum(when((col('page') == \"NextSong\") & (col('timebeforeend') < trend_est), 1).otherwise(0)).alias(\"nsongs_recent\"),\n",
    "     Fsum(when((col('page') == \"NextSong\") & (col('timefromstart') < trend_est), 1).otherwise(0)).alias(\"nsongs_oldest\") )"
   ]
  },
  {
   "cell_type": "code",
   "execution_count": 86,
   "metadata": {},
   "outputs": [
    {
     "name": "stdout",
     "output_type": "stream",
     "text": [
      "+------+------+---------+-------------+-------------+--------------------+\n",
      "|userId|gender|lastlevel|     obsstart|       obsend|            endstate|\n",
      "+------+------+---------+-------------+-------------+--------------------+\n",
      "|100010|     1|        0|1538352000000|1543622400000|              Logout|\n",
      "|200002|     0|        1|1538352000000|1543622400000|           Thumbs Up|\n",
      "|   125|     0|        0|1538352000000|1539318918000|Cancellation Conf...|\n",
      "|   124|     1|        1|1538352000000|1543622400000|                Home|\n",
      "|    51|     0|        1|1538352000000|1539761972000|Cancellation Conf...|\n",
      "+------+------+---------+-------------+-------------+--------------------+\n",
      "only showing top 5 rows\n",
      "\n"
     ]
    }
   ],
   "source": [
    "# Sample rows in a newly created dataset; user-level features\n",
    "df_user.select(['userId','gender','lastlevel','obsstart','obsend','endstate']).show(5)"
   ]
  },
  {
   "cell_type": "code",
   "execution_count": 87,
   "metadata": {},
   "outputs": [
    {
     "name": "stdout",
     "output_type": "stream",
     "text": [
      "+------+----+------+-----+-------+-------+---------+-------+-------+-----+-------+-----+---------+------+\n",
      "|userId|nact|nsongs|ntbup|ntbdown|nfriend|nplaylist|ndgrade|nugrade|nhome|nadvert|nhelp|nsettings|nerror|\n",
      "+------+----+------+-----+-------+-------+---------+-------+-------+-----+-------+-----+---------+------+\n",
      "|100010| 381|   275|   17|      5|      4|        7|      0|      0|   11|     52|    2|        0|     0|\n",
      "|200002| 474|   387|   21|      6|      4|        8|      0|      1|   20|      7|    2|        3|     0|\n",
      "|   125|  11|     8|    0|      0|      0|        0|      0|      0|    0|      1|    0|        0|     0|\n",
      "|    51|2464|  2111|  100|     21|     28|       52|      0|      0|   75|      0|   12|       12|     1|\n",
      "|   124|4825|  4079|  171|     41|     74|      118|      0|      0|  176|      4|   23|       20|     6|\n",
      "+------+----+------+-----+-------+-------+---------+-------+-------+-----+-------+-----+---------+------+\n",
      "only showing top 5 rows\n",
      "\n"
     ]
    }
   ],
   "source": [
    "# Sample rows in a newly created dataset; aggregated activity statistics\n",
    "df_user.select(['userId','nact','nsongs','ntbup','ntbdown','nfriend','nplaylist',\n",
    "                'ndgrade','nugrade','nhome','nadvert','nhelp','nsettings','nerror']).show(5)"
   ]
  },
  {
   "cell_type": "code",
   "execution_count": 88,
   "metadata": {},
   "outputs": [
    {
     "name": "stdout",
     "output_type": "stream",
     "text": [
      "+------+-----------+-----------+-------------+-------------+\n",
      "|userId|nact_recent|nact_oldest|nsongs_recent|nsongs_oldest|\n",
      "+------+-----------+-----------+-------------+-------------+\n",
      "|100010|         33|         40|           24|           31|\n",
      "|200002|          0|         37|            0|           24|\n",
      "|   125|         11|         11|            8|            8|\n",
      "|   124|        509|       1093|          440|          921|\n",
      "|    51|       1865|       2052|         1614|         1757|\n",
      "+------+-----------+-----------+-------------+-------------+\n",
      "only showing top 5 rows\n",
      "\n"
     ]
    }
   ],
   "source": [
    "# Sample rows in a newly created dataset; aggregated activity statistics in different periods\n",
    "df_user.select(['userId','nact_recent','nact_oldest','nsongs_recent','nsongs_oldest']).show(5)"
   ]
  },
  {
   "cell_type": "code",
   "execution_count": null,
   "metadata": {},
   "outputs": [],
   "source": []
  },
  {
   "cell_type": "code",
   "execution_count": null,
   "metadata": {},
   "outputs": [],
   "source": []
  },
  {
   "cell_type": "code",
   "execution_count": null,
   "metadata": {},
   "outputs": [],
   "source": []
  },
  {
   "cell_type": "code",
   "execution_count": null,
   "metadata": {},
   "outputs": [],
   "source": []
  },
  {
   "cell_type": "code",
   "execution_count": null,
   "metadata": {},
   "outputs": [],
   "source": []
  },
  {
   "cell_type": "code",
   "execution_count": null,
   "metadata": {},
   "outputs": [],
   "source": []
  },
  {
   "cell_type": "code",
   "execution_count": null,
   "metadata": {},
   "outputs": [],
   "source": []
  },
  {
   "cell_type": "code",
   "execution_count": null,
   "metadata": {},
   "outputs": [],
   "source": []
  },
  {
   "cell_type": "code",
   "execution_count": null,
   "metadata": {},
   "outputs": [],
   "source": []
  },
  {
   "cell_type": "code",
   "execution_count": null,
   "metadata": {},
   "outputs": [],
   "source": []
  },
  {
   "cell_type": "code",
   "execution_count": null,
   "metadata": {},
   "outputs": [],
   "source": []
  },
  {
   "cell_type": "code",
   "execution_count": null,
   "metadata": {},
   "outputs": [],
   "source": []
  },
  {
   "cell_type": "code",
   "execution_count": null,
   "metadata": {},
   "outputs": [],
   "source": []
  },
  {
   "cell_type": "code",
   "execution_count": null,
   "metadata": {},
   "outputs": [],
   "source": []
  },
  {
   "cell_type": "code",
   "execution_count": null,
   "metadata": {},
   "outputs": [],
   "source": []
  },
  {
   "cell_type": "code",
   "execution_count": null,
   "metadata": {},
   "outputs": [],
   "source": []
  },
  {
   "cell_type": "code",
   "execution_count": null,
   "metadata": {},
   "outputs": [],
   "source": []
  },
  {
   "cell_type": "code",
   "execution_count": null,
   "metadata": {},
   "outputs": [],
   "source": []
  },
  {
   "cell_type": "code",
   "execution_count": null,
   "metadata": {},
   "outputs": [],
   "source": []
  },
  {
   "cell_type": "code",
   "execution_count": null,
   "metadata": {},
   "outputs": [],
   "source": []
  },
  {
   "cell_type": "markdown",
   "metadata": {},
   "source": [
    "# Modeling\n",
    "Split the full dataset into train, test, and validation sets. Test out several of the machine learning methods you learned. Evaluate the accuracy of the various models, tuning parameters as necessary. Determine your winning model based on test accuracy and report results on the validation set. Since the churned users are a fairly small subset, I suggest using F1 score as the metric to optimize."
   ]
  },
  {
   "cell_type": "code",
   "execution_count": null,
   "metadata": {},
   "outputs": [],
   "source": []
  },
  {
   "cell_type": "markdown",
   "metadata": {},
   "source": [
    "# Final Steps\n",
    "Clean up your code, adding comments and renaming variables to make the code easier to read and maintain. Refer to the Spark Project Overview page and Data Scientist Capstone Project Rubric to make sure you are including all components of the capstone project and meet all expectations. Remember, this includes thorough documentation in a README file in a Github repository, as well as a web app or blog post."
   ]
  },
  {
   "cell_type": "code",
   "execution_count": null,
   "metadata": {},
   "outputs": [],
   "source": []
  }
 ],
 "metadata": {
  "kernelspec": {
   "display_name": "Python 3",
   "language": "python",
   "name": "python3"
  },
  "language_info": {
   "codemirror_mode": {
    "name": "ipython",
    "version": 3
   },
   "file_extension": ".py",
   "mimetype": "text/x-python",
   "name": "python",
   "nbconvert_exporter": "python",
   "pygments_lexer": "ipython3",
   "version": "3.7.7"
  }
 },
 "nbformat": 4,
 "nbformat_minor": 2
}
