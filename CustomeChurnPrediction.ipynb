{
 "cells": [
  {
   "cell_type": "markdown",
   "metadata": {},
   "source": [
    "# Customer Churn Prediction with PySpark\n"
   ]
  },
  {
   "cell_type": "markdown",
   "metadata": {},
   "source": [
    "# 1. Introduction\n",
    "\n",
    "### Business Context\n",
    "The data is from a fictitious music streaming service such as Spotify or Pandora. Millions of users play their favorite songs through such services on a daily basis, either through free tier that plays advertisements, or by using a premium subscription model which offers additional functionalities and is typically ad-free. Users can upgrade, downgrade or cancel the plan, so it is very important to make sure the users like the service. \n",
    "\n",
    "Every time a user interacts with a music streaming app, whether playing songs, adding them to playlists, rating them with the thumbs down/up, adding a friend, logging in or out, changing settings, data is generated. User activity logs contain key insights for helping the businesses understand whether the users are happy with the service.\n",
    "\n",
    "In order to stay on track with its (financial) goals, it is key for a music streaming business to identify users that are likely to churn, i.e. users who are at risk of downgrading from premium to free tier, or cancelling the service. If a music streaming business accurately identifies such users in advance, they can offer them discounts or other similar incentives and save millions in revenues. It is a well-known fact that it is more expensive to acquire a new customer than it is to retain an existing one.\n",
    "\n",
    "### Project Overview\n",
    "Our goal is to build and train a binary classifier that is able to accurately identify users (in both free and paid tier) who cancelled the Sparkify music streaming service, based on the patterns obtained from their past activity and interaction with the service. A successfully trained model could be used to identify users who are likely to churn in advance."
   ]
  },
  {
   "cell_type": "markdown",
   "metadata": {},
   "source": [
    "### Load and Clean Dataset\n",
    "In this workspace, the mini-dataset file is `mini_sparkify_event_data.json`. Load and clean the dataset, checking for invalid or missing data - for example, records without userids or sessionids. "
   ]
  },
  {
   "cell_type": "code",
   "execution_count": 2,
   "metadata": {},
   "outputs": [],
   "source": [
    "# import libraries\n",
    "\n",
    "import datetime\n",
    "import time\n",
    "import numpy as np\n",
    "import pandas as pd\n",
    "import matplotlib.pyplot as plt\n",
    "import seaborn as sns \n",
    "\n",
    "from pyspark import SparkContext, SparkConf\n",
    "from pyspark.sql import SparkSession\n",
    "from pyspark.sql import Window\n",
    "from pyspark.sql.functions import udf, col, concat, count, lit, avg, lag, first, last, when\n",
    "from pyspark.sql.functions import min as Fmin, max as Fmax, sum as Fsum, round as Fround\n",
    "from pyspark.sql.types import IntegerType, DateType, TimestampType\n",
    "\n",
    "from pyspark.ml import Pipeline\n",
    "from pyspark.ml.feature import VectorAssembler, Normalizer, StandardScaler\n",
    "from pyspark.ml.regression import LinearRegression\n",
    "from pyspark.ml.classification import LogisticRegression, RandomForestClassifier, GBTClassifier\n",
    "from pyspark.ml.clustering import KMeans\n",
    "from pyspark.ml.tuning import CrossValidator, ParamGridBuilder\n",
    "from pyspark.ml.evaluation import BinaryClassificationEvaluator, Evaluator"
   ]
  },
  {
   "cell_type": "code",
   "execution_count": 3,
   "metadata": {},
   "outputs": [],
   "source": [
    "# create a Spark session\n",
    "spark = SparkSession \\\n",
    ".builder \\\n",
    ".appName('CustomerChurn') \\\n",
    ".getOrCreate()"
   ]
  },
  {
   "cell_type": "code",
   "execution_count": 4,
   "metadata": {},
   "outputs": [
    {
     "data": {
      "text/plain": [
       "[('spark.driver.host', '192.168.0.32'),\n",
       " ('spark.rdd.compress', 'True'),\n",
       " ('spark.serializer.objectStreamReset', '100'),\n",
       " ('spark.driver.port', '50286'),\n",
       " ('spark.master', 'local[*]'),\n",
       " ('spark.submit.pyFiles', ''),\n",
       " ('spark.executor.id', 'driver'),\n",
       " ('spark.submit.deployMode', 'client'),\n",
       " ('spark.ui.showConsoleProgress', 'true'),\n",
       " ('spark.app.name', 'CustomerChurn'),\n",
       " ('spark.app.id', 'local-1594831286878')]"
      ]
     },
     "execution_count": 4,
     "metadata": {},
     "output_type": "execute_result"
    }
   ],
   "source": [
    "# Check Spark configuration\n",
    "spark.sparkContext.getConf().getAll()"
   ]
  },
  {
   "cell_type": "code",
   "execution_count": 5,
   "metadata": {},
   "outputs": [],
   "source": [
    "path = \"mini_sparkify_event_data.json\"\n",
    "df = spark.read.json(path)"
   ]
  },
  {
   "cell_type": "markdown",
   "metadata": {},
   "source": [
    "# 2. Data Understanding\n",
    "Performing EDA by loading a small subset of the data and doing basic manipulations within Spark. \n",
    "\n",
    "\n",
    "### Explore Data\n",
    "Once you've defined churn, perform some exploratory data analysis to observe the behavior for users who stayed vs users who churned. You can start by exploring aggregates on these two groups of users, observing how much of a specific action they experienced per a certain time unit or number of songs played."
   ]
  },
  {
   "cell_type": "code",
   "execution_count": 6,
   "metadata": {},
   "outputs": [
    {
     "name": "stdout",
     "output_type": "stream",
     "text": [
      "root\n",
      " |-- artist: string (nullable = true)\n",
      " |-- auth: string (nullable = true)\n",
      " |-- firstName: string (nullable = true)\n",
      " |-- gender: string (nullable = true)\n",
      " |-- itemInSession: long (nullable = true)\n",
      " |-- lastName: string (nullable = true)\n",
      " |-- length: double (nullable = true)\n",
      " |-- level: string (nullable = true)\n",
      " |-- location: string (nullable = true)\n",
      " |-- method: string (nullable = true)\n",
      " |-- page: string (nullable = true)\n",
      " |-- registration: long (nullable = true)\n",
      " |-- sessionId: long (nullable = true)\n",
      " |-- song: string (nullable = true)\n",
      " |-- status: long (nullable = true)\n",
      " |-- ts: long (nullable = true)\n",
      " |-- userAgent: string (nullable = true)\n",
      " |-- userId: string (nullable = true)\n",
      "\n"
     ]
    }
   ],
   "source": [
    "# Structure of the dataframe\n",
    "df.printSchema()"
   ]
  },
  {
   "cell_type": "code",
   "execution_count": 7,
   "metadata": {},
   "outputs": [
    {
     "data": {
      "text/plain": [
       "[('artist', 'string'),\n",
       " ('auth', 'string'),\n",
       " ('firstName', 'string'),\n",
       " ('gender', 'string'),\n",
       " ('itemInSession', 'bigint'),\n",
       " ('lastName', 'string'),\n",
       " ('length', 'double'),\n",
       " ('level', 'string'),\n",
       " ('location', 'string'),\n",
       " ('method', 'string'),\n",
       " ('page', 'string'),\n",
       " ('registration', 'bigint'),\n",
       " ('sessionId', 'bigint'),\n",
       " ('song', 'string'),\n",
       " ('status', 'bigint'),\n",
       " ('ts', 'bigint'),\n",
       " ('userAgent', 'string'),\n",
       " ('userId', 'string')]"
      ]
     },
     "execution_count": 7,
     "metadata": {},
     "output_type": "execute_result"
    }
   ],
   "source": [
    "# Column types \n",
    "df.dtypes"
   ]
  },
  {
   "cell_type": "code",
   "execution_count": 8,
   "metadata": {},
   "outputs": [
    {
     "data": {
      "text/plain": [
       "226"
      ]
     },
     "execution_count": 8,
     "metadata": {},
     "output_type": "execute_result"
    }
   ],
   "source": [
    "# Obtain the number of distinct users in the smaller Sparkify dataset\n",
    "# (In the full Sparkify dataset there is 22277 unique users)\n",
    "df.select(['userId']).dropDuplicates().count()"
   ]
  },
  {
   "cell_type": "code",
   "execution_count": 9,
   "metadata": {},
   "outputs": [
    {
     "data": {
      "text/plain": [
       "225"
      ]
     },
     "execution_count": 9,
     "metadata": {},
     "output_type": "execute_result"
    }
   ],
   "source": [
    "# drop duplicates method would identify inconsistent number of unique users.\n",
    "df.select(['firstName','gender','lastName','location','registration','userAgent','userId']) \\\n",
    ".where(df.userId != \"\") \\\n",
    ".dropDuplicates().count()"
   ]
  },
  {
   "cell_type": "code",
   "execution_count": 10,
   "metadata": {},
   "outputs": [
    {
     "data": {
      "text/plain": [
       "2354"
      ]
     },
     "execution_count": 10,
     "metadata": {},
     "output_type": "execute_result"
    }
   ],
   "source": [
    "# Number of sessions\n",
    "df.select(\"sessionId\").dropDuplicates().count()"
   ]
  },
  {
   "cell_type": "code",
   "execution_count": 11,
   "metadata": {},
   "outputs": [
    {
     "data": {
      "text/plain": [
       "0"
      ]
     },
     "execution_count": 11,
     "metadata": {},
     "output_type": "execute_result"
    }
   ],
   "source": [
    "# There are also no empty strings in the column\n",
    "df.where(df.sessionId == \"\").count()"
   ]
  },
  {
   "cell_type": "code",
   "execution_count": 12,
   "metadata": {},
   "outputs": [
    {
     "name": "stdout",
     "output_type": "stream",
     "text": [
      "+---------+-----+\n",
      "|sessionId|count|\n",
      "+---------+-----+\n",
      "|      202|    4|\n",
      "|      113|    4|\n",
      "|       65|    4|\n",
      "|      112|    4|\n",
      "|      167|    4|\n",
      "+---------+-----+\n",
      "only showing top 5 rows\n",
      "\n"
     ]
    }
   ],
   "source": [
    "#SessionId is a unique identifier only for a specific user. Multiple users can have sessions labelled with the\n",
    "#same sessionId\n",
    "df.where(df.userId != \"\")\\\n",
    ".select(['userId','sessionId']).dropDuplicates()\\\n",
    ".groupby('sessionId').count().sort('count', ascending = False).show(5)"
   ]
  },
  {
   "cell_type": "code",
   "execution_count": 13,
   "metadata": {},
   "outputs": [
    {
     "name": "stdout",
     "output_type": "stream",
     "text": [
      "+------+---------+-------------+-------------+-------------+\n",
      "|userId|sessionId|          max|          min|sessionlength|\n",
      "+------+---------+-------------+-------------+-------------+\n",
      "|    91|     1840|1542852334000|1542585029000|     267305.0|\n",
      "|   115|      316|1538924417000|1538701498000|     222919.0|\n",
      "|   101|      635|1539263366000|1539065365000|     198001.0|\n",
      "|   120|      731|1539793336000|1539630700000|     162636.0|\n",
      "|    61|      529|1539247693000|1539096212000|     151481.0|\n",
      "+------+---------+-------------+-------------+-------------+\n",
      "only showing top 5 rows\n",
      "\n"
     ]
    }
   ],
   "source": [
    "# Sessions in the dataset can be very long. The longest lasted 267305 seconds which is more than 74 hours.\n",
    "session_end = df.where(df.userId != \"\") \\\n",
    ".groupby(['userId','sessionId']).agg(Fmax('ts').alias('max'), \n",
    "                                     Fmin('ts').alias('min'), \n",
    "                                     ((Fmax('ts') - Fmin('ts')) / 1000).alias('sessionlength')) \\\n",
    ".sort('sessionlength', ascending = False).show(5)"
   ]
  },
  {
   "cell_type": "code",
   "execution_count": 14,
   "metadata": {},
   "outputs": [
    {
     "name": "stdout",
     "output_type": "stream",
     "text": [
      "+---------+\n",
      "|max(diff)|\n",
      "+---------+\n",
      "|   3310.0|\n",
      "+---------+\n",
      "\n"
     ]
    }
   ],
   "source": [
    "# Based on the analysis performed it seems that the maximum time between two consecutive logs that still belong to \n",
    "# the same sesssion is one hour. In the provided dataset the maximum interval is 3310 seconds which is around 55 minutes.\n",
    "windowsession = Window.partitionBy(['userId','sessionId']).orderBy('ts')\n",
    "\n",
    "df = df.withColumn(\"previousts\", lag(df.ts).over(windowsession))\n",
    "df = df.withColumn(\"diff\", (df.ts - df.previousts)/1000)\n",
    "df.where(df.userId != \"\").agg(Fmax(col('diff'))).show()"
   ]
  },
  {
   "cell_type": "code",
   "execution_count": 15,
   "metadata": {},
   "outputs": [
    {
     "data": {
      "text/plain": [
       "17655"
      ]
     },
     "execution_count": 15,
     "metadata": {},
     "output_type": "execute_result"
    }
   ],
   "source": [
    "# Number of different artists\n",
    "df.where(df.artist.isNotNull()).select('artist').dropDuplicates().count()"
   ]
  },
  {
   "cell_type": "code",
   "execution_count": 16,
   "metadata": {},
   "outputs": [
    {
     "data": {
      "text/plain": [
       "8346"
      ]
     },
     "execution_count": 16,
     "metadata": {},
     "output_type": "execute_result"
    }
   ],
   "source": [
    "# There are rows with empty strings in the 'userId' column.\n",
    "df.where(df.userId == \"\").count()"
   ]
  },
  {
   "cell_type": "code",
   "execution_count": 17,
   "metadata": {},
   "outputs": [
    {
     "name": "stdout",
     "output_type": "stream",
     "text": [
      "+-----+------+\n",
      "|level| count|\n",
      "+-----+------+\n",
      "| free| 58338|\n",
      "| paid|228162|\n",
      "+-----+------+\n",
      "\n"
     ]
    }
   ],
   "source": [
    "# The subscription 'level' variable is rather indepdendent of other variables in the dataset. The users can switch between \n",
    "# free and paid tier anytime and is not static. \n",
    "df.groupby('level').count().show()"
   ]
  },
  {
   "cell_type": "code",
   "execution_count": 18,
   "metadata": {},
   "outputs": [
    {
     "name": "stdout",
     "output_type": "stream",
     "text": [
      "The imported dataframe has 286500 rows and 20 columns.\n"
     ]
    }
   ],
   "source": [
    "# Shape of the smaller Sparkify dataframe\n",
    "nrows = df.count()\n",
    "ncols = len(df.dtypes)\n",
    "print(f'The imported dataframe has {nrows} rows and {ncols} columns.')"
   ]
  },
  {
   "cell_type": "code",
   "execution_count": 19,
   "metadata": {},
   "outputs": [
    {
     "name": "stdout",
     "output_type": "stream",
     "text": [
      "+----------------+---------+---------+------+-------------+--------+---------+-----+--------------------+------+--------+\n",
      "|          artist|     auth|firstName|gender|itemInSession|lastName|   length|level|            location|method|    page|\n",
      "+----------------+---------+---------+------+-------------+--------+---------+-----+--------------------+------+--------+\n",
      "|  Martha Tilston|Logged In|    Colin|     M|           50| Freeman|277.89016| paid|     Bakersfield, CA|   PUT|NextSong|\n",
      "|Five Iron Frenzy|Logged In|    Micah|     M|           79|    Long|236.09424| free|Boston-Cambridge-...|   PUT|NextSong|\n",
      "|    Adam Lambert|Logged In|    Colin|     M|           51| Freeman| 282.8273| paid|     Bakersfield, CA|   PUT|NextSong|\n",
      "|          Enigma|Logged In|    Micah|     M|           80|    Long|262.71302| free|Boston-Cambridge-...|   PUT|NextSong|\n",
      "|       Daft Punk|Logged In|    Colin|     M|           52| Freeman|223.60771| paid|     Bakersfield, CA|   PUT|NextSong|\n",
      "+----------------+---------+---------+------+-------------+--------+---------+-----+--------------------+------+--------+\n",
      "only showing top 5 rows\n",
      "\n"
     ]
    }
   ],
   "source": [
    "# Print first 5 rows to get the idea of the dataframe; first 11 columns in alphabetical order\n",
    "df.select(['artist', 'auth', 'firstName', 'gender', 'itemInSession', 'lastName','length', 'level', 'location', 'method', 'page']).show(5)"
   ]
  },
  {
   "cell_type": "code",
   "execution_count": 20,
   "metadata": {},
   "outputs": [
    {
     "name": "stdout",
     "output_type": "stream",
     "text": [
      "+-------------+---------+--------------------+------+-------------+--------------------+------+\n",
      "| registration|sessionId|                song|status|           ts|           userAgent|userId|\n",
      "+-------------+---------+--------------------+------+-------------+--------------------+------+\n",
      "|1538173362000|       29|           Rockpools|   200|1538352117000|Mozilla/5.0 (Wind...|    30|\n",
      "|1538331630000|        8|              Canada|   200|1538352180000|\"Mozilla/5.0 (Win...|     9|\n",
      "|1538173362000|       29|   Time For Miracles|   200|1538352394000|Mozilla/5.0 (Wind...|    30|\n",
      "|1538331630000|        8|Knocking On Forbi...|   200|1538352416000|\"Mozilla/5.0 (Win...|     9|\n",
      "|1538173362000|       29|Harder Better Fas...|   200|1538352676000|Mozilla/5.0 (Wind...|    30|\n",
      "+-------------+---------+--------------------+------+-------------+--------------------+------+\n",
      "only showing top 5 rows\n",
      "\n"
     ]
    }
   ],
   "source": [
    "# Print first 5 rows to get the idea of the dataframe; 12.-18. column\n",
    "df.select(['registration', 'sessionId', 'song', 'status', 'ts', 'userAgent', 'userId']).show(5)"
   ]
  },
  {
   "cell_type": "code",
   "execution_count": 21,
   "metadata": {},
   "outputs": [
    {
     "data": {
      "text/plain": [
       "0"
      ]
     },
     "execution_count": 21,
     "metadata": {},
     "output_type": "execute_result"
    }
   ],
   "source": [
    "# Explore missing values in the 'userId' column\n",
    "df.where(df.userId.isNull()).count()"
   ]
  },
  {
   "cell_type": "markdown",
   "metadata": {},
   "source": [
    "### User-level Analysis "
   ]
  },
  {
   "cell_type": "code",
   "execution_count": 22,
   "metadata": {},
   "outputs": [
    {
     "name": "stdout",
     "output_type": "stream",
     "text": [
      "+------+---------+-------------+---------+-----+---------------+-------------+\n",
      "|userId|sessionId|itemInSession|     auth|level|           page|           ts|\n",
      "+------+---------+-------------+---------+-----+---------------+-------------+\n",
      "|     4|      240|            0|Logged In| free|       NextSong|1538356650000|\n",
      "|     4|      240|            1|Logged In| free|         Logout|1538356651000|\n",
      "|     4|      240|            4|Logged In| free|           Home|1538356686000|\n",
      "|     4|      240|            5|Logged In| free|       NextSong|1538356889000|\n",
      "|     4|      240|            6|Logged In| free|           Home|1538356954000|\n",
      "|     4|      240|            7|Logged In| free|       NextSong|1538357110000|\n",
      "|     4|      240|            8|Logged In| free|       NextSong|1538357328000|\n",
      "|     4|      240|            9|Logged In| free|       NextSong|1538357543000|\n",
      "|     4|      240|           10|Logged In| free|       NextSong|1538357746000|\n",
      "|     4|      240|           11|Logged In| free|       NextSong|1538357996000|\n",
      "|     4|      240|           12|Logged In| free|       NextSong|1538358264000|\n",
      "|     4|      240|           13|Logged In| free|       NextSong|1538358503000|\n",
      "|     4|      240|           14|Logged In| free|       NextSong|1538359745000|\n",
      "|     4|      240|           15|Logged In| free|       NextSong|1538359961000|\n",
      "|     4|      240|           16|Logged In| free|       NextSong|1538360174000|\n",
      "|     4|      240|           17|Logged In| free|       NextSong|1538360391000|\n",
      "|     4|      240|           18|Logged In| free|       NextSong|1538360577000|\n",
      "|     4|      240|           19|Logged In| free|       NextSong|1538360783000|\n",
      "|     4|      240|           20|Logged In| free|       NextSong|1538361026000|\n",
      "|     4|      240|           21|Logged In| free|       NextSong|1538361312000|\n",
      "|     4|      240|           22|Logged In| free|       NextSong|1538361601000|\n",
      "|     4|      240|           23|Logged In| free|       NextSong|1538361908000|\n",
      "|     4|      265|            0|Logged In| free|       NextSong|1539089749000|\n",
      "|     4|      265|            1|Logged In| free|       NextSong|1539089952000|\n",
      "|     4|      265|            2|Logged In| free|       NextSong|1539090180000|\n",
      "|     4|      265|            3|Logged In| free|       NextSong|1539090396000|\n",
      "|     4|      265|            4|Logged In| free|           Home|1539090407000|\n",
      "|     4|      647|            0|Logged In| free|       NextSong|1539275176000|\n",
      "|     4|      647|            1|Logged In| free|       NextSong|1539275408000|\n",
      "|     4|      760|            0|Logged In| free|       NextSong|1539516981000|\n",
      "|     4|      760|            1|Logged In| free|       NextSong|1539517191000|\n",
      "|     4|      760|            2|Logged In| free|        Upgrade|1539517229000|\n",
      "|     4|      760|            3|Logged In| free|           Help|1539517318000|\n",
      "|     4|      760|            4|Logged In| free|     Add Friend|1539517319000|\n",
      "|     4|      760|            5|Logged In| free|       NextSong|1539517335000|\n",
      "|     4|      760|            6|Logged In| free|       NextSong|1539517713000|\n",
      "|     4|      760|            7|Logged In| free|       NextSong|1539517947000|\n",
      "|     4|      840|            0|Logged In| free|       NextSong|1539692926000|\n",
      "|     4|      840|            1|Logged In| free|       NextSong|1539693107000|\n",
      "|     4|      840|            2|Logged In| free|        Upgrade|1539693229000|\n",
      "|     4|      840|            3|Logged In| free|       NextSong|1539693310000|\n",
      "|     4|      840|            4|Logged In| free|Add to Playlist|1539693329000|\n",
      "|     4|      840|            5|Logged In| free|       NextSong|1539693539000|\n",
      "|     4|      840|            6|Logged In| free|       NextSong|1539693886000|\n",
      "|     4|      840|            7|Logged In| free|       NextSong|1539694146000|\n",
      "|     4|      840|            8|Logged In| free|       NextSong|1539694399000|\n",
      "|     4|      840|            9|Logged In| free|       NextSong|1539694606000|\n",
      "|     4|      840|           10|Logged In| free|       NextSong|1539694884000|\n",
      "|     4|      840|           11|Logged In| free|       NextSong|1539695161000|\n",
      "|     4|      840|           12|Logged In| free|       NextSong|1539695400000|\n",
      "|     4|      840|           13|Logged In| free|       NextSong|1539695799000|\n",
      "|     4|      840|           14|Logged In| free|       NextSong|1539695951000|\n",
      "|     4|      840|           15|Logged In| free|       NextSong|1539696176000|\n",
      "|     4|      840|           16|Logged In| free|       NextSong|1539696395000|\n",
      "|     4|      840|           17|Logged In| free|       NextSong|1539696678000|\n",
      "|     4|      840|           18|Logged In| free|       NextSong|1539696874000|\n",
      "|     4|      840|           19|Logged In| free|       NextSong|1539697061000|\n",
      "|     4|      840|           20|Logged In| free|      Thumbs Up|1539697062000|\n",
      "|     4|      840|           21|Logged In| free|       NextSong|1539697276000|\n",
      "|     4|      840|           22|Logged In| free|       NextSong|1539697412000|\n",
      "|     4|      840|           23|Logged In| free|       NextSong|1539697891000|\n",
      "|     4|      840|           24|Logged In| free|       NextSong|1539698128000|\n",
      "|     4|      840|           25|Logged In| free|       NextSong|1539698350000|\n",
      "|     4|      840|           26|Logged In| free|       NextSong|1539698580000|\n",
      "|     4|      840|           27|Logged In| free|       NextSong|1539698879000|\n",
      "|     4|      840|           28|Logged In| free|       NextSong|1539699098000|\n",
      "|     4|      840|           29|Logged In| free|       NextSong|1539699286000|\n",
      "|     4|      840|           30|Logged In| free|       NextSong|1539699454000|\n",
      "|     4|      840|           31|Logged In| free|       NextSong|1539699756000|\n",
      "|     4|      840|           32|Logged In| free|       NextSong|1539699915000|\n",
      "|     4|      840|           33|Logged In| free|       NextSong|1539700058000|\n",
      "|     4|      840|           34|Logged In| free|       NextSong|1539700298000|\n",
      "|     4|      840|           35|Logged In| free|       NextSong|1539700440000|\n",
      "|     4|      840|           36|Logged In| free|       NextSong|1539700670000|\n",
      "|     4|      840|           37|Logged In| free|       NextSong|1539700862000|\n",
      "|     4|      840|           38|Logged In| free|    Roll Advert|1539700906000|\n",
      "|     4|      840|           39|Logged In| free|       NextSong|1539701077000|\n",
      "|     4|      840|           40|Logged In| free|       NextSong|1539701293000|\n",
      "|     4|      840|           41|Logged In| free|       NextSong|1539701515000|\n",
      "|     4|      840|           42|Logged In| free|       NextSong|1539701737000|\n",
      "|     4|      840|           43|Logged In| free|      Thumbs Up|1539701738000|\n",
      "|     4|      840|           44|Logged In| free|       NextSong|1539702007000|\n",
      "|     4|      840|           45|Logged In| free|       NextSong|1539702274000|\n",
      "|     4|      840|           46|Logged In| free|       NextSong|1539702693000|\n",
      "|     4|      840|           47|Logged In| free|       NextSong|1539702922000|\n",
      "|     4|      840|           48|Logged In| free|       NextSong|1539703160000|\n",
      "|     4|      840|           49|Logged In| free|       NextSong|1539703479000|\n",
      "|     4|      840|           50|Logged In| free|    Thumbs Down|1539703480000|\n",
      "|     4|      840|           51|Logged In| free|       NextSong|1539704098000|\n",
      "|     4|      840|           52|Logged In| free|       NextSong|1539704293000|\n",
      "|     4|      840|           53|Logged In| free|       NextSong|1539704558000|\n",
      "|     4|      840|           54|Logged In| free|       NextSong|1539704819000|\n",
      "|     4|      840|           55|Logged In| free|       NextSong|1539705052000|\n",
      "|     4|      840|           56|Logged In| free|       NextSong|1539705496000|\n",
      "|     4|      840|           57|Logged In| free|       NextSong|1539706036000|\n",
      "|     4|      840|           58|Logged In| free|       NextSong|1539706156000|\n",
      "|     4|      840|           59|Logged In| free|    Roll Advert|1539706220000|\n",
      "|     4|      840|           60|Logged In| free|       NextSong|1539706546000|\n",
      "|     4|      840|           61|Logged In| free|    Thumbs Down|1539706547000|\n",
      "|     4|      840|           62|Logged In| free|       NextSong|1539706878000|\n",
      "|     4|      840|           63|Logged In| free|        Upgrade|1539706934000|\n",
      "|     4|      840|           64|Logged In| free|       NextSong|1539707156000|\n",
      "|     4|      840|           65|Logged In| free|         Logout|1539707157000|\n",
      "|     4|      930|            1|Logged In| free|           Home|1539756595000|\n",
      "|     4|      930|            2|Logged In| free|       NextSong|1539756611000|\n",
      "|     4|      930|            3|Logged In| free|       NextSong|1539756856000|\n",
      "|     4|      930|            4|Logged In| free|       NextSong|1539757124000|\n",
      "|     4|      930|            5|Logged In| free|Add to Playlist|1539757205000|\n",
      "|     4|      930|            6|Logged In| free|       NextSong|1539757449000|\n",
      "|     4|      930|            7|Logged In| free|       NextSong|1539757717000|\n",
      "|     4|      957|            0|Logged In| free|       NextSong|1539948040000|\n",
      "|     4|      957|            1|Logged In| free|       NextSong|1539948303000|\n",
      "|     4|      957|            2|Logged In| free|    Roll Advert|1539948329000|\n",
      "|     4|      957|            3|Logged In| free|       NextSong|1539948497000|\n",
      "|     4|      957|            4|Logged In| free|       NextSong|1539948676000|\n",
      "|     4|      957|            5|Logged In| free|           Home|1539948756000|\n",
      "|     4|      957|            6|Logged In| free|       NextSong|1539948877000|\n",
      "|     4|      957|            7|Logged In| free|       NextSong|1539949115000|\n",
      "|     4|      957|            8|Logged In| free|Add to Playlist|1539949258000|\n",
      "|     4|      957|            9|Logged In| free|       NextSong|1539949317000|\n",
      "|     4|      957|           10|Logged In| free|    Roll Advert|1539949354000|\n",
      "|     4|      957|           11|Logged In| free|       NextSong|1539949574000|\n",
      "|     4|      957|           12|Logged In| free|    Thumbs Down|1539949575000|\n",
      "|     4|     1058|            0|Logged In| free|           Home|1540012130000|\n",
      "|     4|     1058|            1|Logged In| free|       NextSong|1540012151000|\n",
      "|     4|     1058|            2|Logged In| free|       NextSong|1540012409000|\n",
      "|     4|     1058|            3|Logged In| free|       NextSong|1540012658000|\n",
      "|     4|     1058|            4|Logged In| free|       NextSong|1540012910000|\n",
      "|     4|     1058|            5|Logged In| free|    Thumbs Down|1540012911000|\n",
      "|     4|     1058|            6|Logged In| free|       NextSong|1540013107000|\n",
      "|     4|     1094|            0|Logged In| free|       NextSong|1540119742000|\n",
      "|     4|     1094|            1|Logged In| free|       NextSong|1540120095000|\n",
      "|     4|     1094|            2|Logged In| free|       NextSong|1540120280000|\n",
      "|     4|     1094|            3|Logged In| free|       NextSong|1540120474000|\n",
      "|     4|     1094|            4|Logged In| free|       NextSong|1540120617000|\n",
      "|     4|     1094|            5|Logged In| free|       NextSong|1540120765000|\n",
      "|     4|     1094|            6|Logged In| free|Add to Playlist|1540120773000|\n",
      "|     4|     1094|            7|Logged In| free|       NextSong|1540121029000|\n",
      "|     4|     1094|            8|Logged In| free|       NextSong|1540121310000|\n",
      "|     4|     1094|            9|Logged In| free|        Upgrade|1540121319000|\n",
      "|     4|     1094|           10|Logged In| free| Submit Upgrade|1540121320000|\n",
      "|     4|     1094|           11|Logged In| paid|           Home|1540121343000|\n",
      "|     4|     1094|           12|Logged In| paid|       NextSong|1540121578000|\n",
      "|     4|     1094|           13|Logged In| paid|      Thumbs Up|1540121579000|\n",
      "|     4|     1094|           14|Logged In| paid|       NextSong|1540121787000|\n",
      "|     4|     1094|           15|Logged In| paid|       NextSong|1540122025000|\n",
      "|     4|     1094|           16|Logged In| paid|       NextSong|1540122249000|\n",
      "|     4|     1094|           17|Logged In| paid|       NextSong|1540122566000|\n",
      "|     4|     1094|           18|Logged In| paid|       NextSong|1540122809000|\n",
      "|     4|     1094|           19|Logged In| paid|       NextSong|1540123043000|\n",
      "|     4|     1094|           20|Logged In| paid|       NextSong|1540123169000|\n",
      "|     4|     1094|           21|Logged In| paid|      Thumbs Up|1540123170000|\n",
      "|     4|     1094|           22|Logged In| paid|       NextSong|1540123446000|\n",
      "|     4|     1094|           23|Logged In| paid|       NextSong|1540123655000|\n",
      "|     4|     1094|           24|Logged In| paid|       NextSong|1540123801000|\n",
      "|     4|     1094|           25|Logged In| paid|       NextSong|1540124174000|\n",
      "|     4|     1094|           26|Logged In| paid|       NextSong|1540124362000|\n",
      "|     4|     1094|           27|Logged In| paid|       NextSong|1540124526000|\n",
      "|     4|     1094|           28|Logged In| paid|       NextSong|1540124688000|\n",
      "|     4|     1094|           29|Logged In| paid|       NextSong|1540124887000|\n",
      "|     4|     1094|           30|Logged In| paid|       NextSong|1540125145000|\n",
      "|     4|     1094|           31|Logged In| paid|       NextSong|1540125320000|\n",
      "|     4|     1094|           32|Logged In| paid|       NextSong|1540125565000|\n",
      "|     4|     1094|           33|Logged In| paid|      Thumbs Up|1540125566000|\n",
      "|     4|     1094|           34|Logged In| paid|       NextSong|1540125714000|\n",
      "|     4|     1094|           35|Logged In| paid|         Logout|1540125715000|\n",
      "|     4|     1128|            3|Logged In| paid|           Home|1540301669000|\n",
      "|     4|     1128|            4|Logged In| paid|       NextSong|1540301687000|\n",
      "|     4|     1128|            5|Logged In| paid|       NextSong|1540302097000|\n",
      "|     4|     1128|            6|Logged In| paid|           Home|1540302214000|\n",
      "|     4|     1128|            7|Logged In| paid|       NextSong|1540302324000|\n",
      "|     4|     1128|            8|Logged In| paid|       NextSong|1540302552000|\n",
      "|     4|     1128|            9|Logged In| paid|       NextSong|1540302887000|\n",
      "|     4|     1128|           10|Logged In| paid|       NextSong|1540303095000|\n",
      "|     4|     1128|           11|Logged In| paid|       NextSong|1540303243000|\n",
      "|     4|     1128|           12|Logged In| paid|       NextSong|1540303469000|\n",
      "|     4|     1128|           13|Logged In| paid|       NextSong|1540303784000|\n",
      "|     4|     1128|           14|Logged In| paid|       NextSong|1540303905000|\n",
      "|     4|     1128|           15|Logged In| paid|       NextSong|1540304306000|\n",
      "|     4|     1128|           16|Logged In| paid|Add to Playlist|1540304372000|\n",
      "|     4|     1128|           17|Logged In| paid|       NextSong|1540304502000|\n",
      "|     4|     1128|           18|Logged In| paid|       NextSong|1540304690000|\n",
      "|     4|     1128|           19|Logged In| paid|       NextSong|1540304820000|\n",
      "|     4|     1128|           20|Logged In| paid|       NextSong|1540305038000|\n",
      "|     4|     1128|           21|Logged In| paid|       NextSong|1540305291000|\n",
      "|     4|     1128|           22|Logged In| paid|       NextSong|1540305585000|\n",
      "|     4|     1128|           23|Logged In| paid|       NextSong|1540305966000|\n",
      "|     4|     1128|           24|Logged In| paid|       NextSong|1540306240000|\n",
      "|     4|     1128|           25|Logged In| paid|       NextSong|1540306465000|\n",
      "|     4|     1128|           26|Logged In| paid|Add to Playlist|1540306479000|\n",
      "|     4|     1128|           27|Logged In| paid|       NextSong|1540306700000|\n",
      "|     4|     1128|           28|Logged In| paid|       NextSong|1540306994000|\n",
      "|     4|     1128|           29|Logged In| paid|       NextSong|1540307188000|\n",
      "|     4|     1128|           30|Logged In| paid|       NextSong|1540307765000|\n",
      "|     4|     1128|           31|Logged In| paid|       NextSong|1540308010000|\n",
      "|     4|     1128|           32|Logged In| paid|       NextSong|1540308665000|\n",
      "|     4|     1128|           33|Logged In| paid|      Thumbs Up|1540308666000|\n",
      "|     4|     1128|           34|Logged In| paid|Add to Playlist|1540308701000|\n",
      "|     4|     1128|           35|Logged In| paid|       NextSong|1540308839000|\n",
      "|     4|     1128|           36|Logged In| paid|       NextSong|1540309090000|\n",
      "|     4|     1128|           37|Logged In| paid|       NextSong|1540309319000|\n",
      "|     4|     1128|           38|Logged In| paid|       NextSong|1540309602000|\n",
      "|     4|     1128|           39|Logged In| paid|       NextSong|1540309789000|\n",
      "|     4|     1128|           40|Logged In| paid|       NextSong|1540309981000|\n",
      "|     4|     1128|           41|Logged In| paid|       NextSong|1540310229000|\n",
      "|     4|     1128|           42|Logged In| paid|       NextSong|1540310447000|\n",
      "|     4|     1128|           43|Logged In| paid|       NextSong|1540310665000|\n",
      "|     4|     1128|           44|Logged In| paid|       NextSong|1540310872000|\n",
      "|     4|     1128|           45|Logged In| paid|       NextSong|1540311154000|\n",
      "|     4|     1128|           46|Logged In| paid|       NextSong|1540311374000|\n",
      "|     4|     1128|           47|Logged In| paid|       NextSong|1540311525000|\n",
      "|     4|     1128|           48|Logged In| paid|       NextSong|1540311716000|\n",
      "|     4|     1128|           49|Logged In| paid|       NextSong|1540311911000|\n",
      "|     4|     1128|           50|Logged In| paid|       NextSong|1540312087000|\n",
      "|     4|     1128|           51|Logged In| paid|       NextSong|1540312228000|\n",
      "|     4|     1128|           52|Logged In| paid|       NextSong|1540312688000|\n",
      "|     4|     1128|           53|Logged In| paid|       NextSong|1540312891000|\n",
      "|     4|     1128|           54|Logged In| paid|Add to Playlist|1540312934000|\n",
      "|     4|     1128|           55|Logged In| paid|       NextSong|1540313068000|\n",
      "|     4|     1128|           56|Logged In| paid|       NextSong|1540313259000|\n",
      "|     4|     1128|           57|Logged In| paid|       NextSong|1540313467000|\n",
      "|     4|     1128|           58|Logged In| paid|       NextSong|1540313613000|\n",
      "|     4|     1128|           59|Logged In| paid|          Error|1540313752000|\n",
      "|     4|     1128|           60|Logged In| paid|       NextSong|1540313780000|\n",
      "|     4|     1128|           61|Logged In| paid|       NextSong|1540314069000|\n",
      "|     4|     1128|           62|Logged In| paid|       NextSong|1540314436000|\n",
      "|     4|     1128|           63|Logged In| paid|       NextSong|1540314677000|\n",
      "|     4|     1128|           64|Logged In| paid|       NextSong|1540315109000|\n",
      "|     4|     1128|           65|Logged In| paid|       NextSong|1540315238000|\n",
      "|     4|     1128|           66|Logged In| paid|       NextSong|1540315462000|\n",
      "|     4|     1128|           67|Logged In| paid|       NextSong|1540315772000|\n",
      "|     4|     1128|           68|Logged In| paid|       NextSong|1540316036000|\n",
      "|     4|     1128|           69|Logged In| paid|       NextSong|1540316289000|\n",
      "|     4|     1128|           70|Logged In| paid|      Thumbs Up|1540316290000|\n",
      "|     4|     1128|           71|Logged In| paid|       NextSong|1540316541000|\n",
      "|     4|     1128|           72|Logged In| paid|       NextSong|1540316749000|\n",
      "|     4|     1128|           73|Logged In| paid|       NextSong|1540316891000|\n",
      "|     4|     1128|           74|Logged In| paid|       NextSong|1540317110000|\n",
      "|     4|     1128|           75|Logged In| paid|       NextSong|1540317439000|\n",
      "|     4|     1128|           76|Logged In| paid|       NextSong|1540317658000|\n",
      "|     4|     1128|           77|Logged In| paid|      Thumbs Up|1540317659000|\n",
      "|     4|     1128|           78|Logged In| paid|       NextSong|1540317913000|\n",
      "|     4|     1128|           79|Logged In| paid|       NextSong|1540317978000|\n",
      "|     4|     1128|           80|Logged In| paid|       NextSong|1540318217000|\n",
      "|     4|     1128|           81|Logged In| paid|       NextSong|1540318339000|\n",
      "|     4|     1128|           82|Logged In| paid|       NextSong|1540318520000|\n",
      "|     4|     1128|           83|Logged In| paid|       NextSong|1540318646000|\n",
      "|     4|     1128|           84|Logged In| paid|       NextSong|1540318901000|\n",
      "|     4|     1128|           85|Logged In| paid|       NextSong|1540319136000|\n",
      "|     4|     1128|           86|Logged In| paid|       NextSong|1540319423000|\n",
      "|     4|     1128|           87|Logged In| paid|       NextSong|1540319663000|\n",
      "|     4|     1128|           88|Logged In| paid|       NextSong|1540319869000|\n",
      "|     4|     1128|           89|Logged In| paid|       NextSong|1540320007000|\n",
      "|     4|     1128|           90|Logged In| paid|       Settings|1540320029000|\n",
      "|     4|     1128|           91|Logged In| paid|       Settings|1540320065000|\n",
      "|     4|     1128|           92|Logged In| paid|       NextSong|1540320331000|\n",
      "|     4|     1128|           93|Logged In| paid|       NextSong|1540320491000|\n",
      "|     4|     1128|           94|Logged In| paid|       NextSong|1540320710000|\n",
      "|     4|     1128|           95|Logged In| paid|       NextSong|1540320816000|\n",
      "|     4|     1128|           96|Logged In| paid|       NextSong|1540321043000|\n",
      "|     4|     1128|           97|Logged In| paid|       NextSong|1540321288000|\n",
      "|     4|     1128|           98|Logged In| paid|       NextSong|1540321515000|\n",
      "|     4|     1128|           99|Logged In| paid|       NextSong|1540321721000|\n",
      "|     4|     1128|          100|Logged In| paid|       NextSong|1540322036000|\n",
      "|     4|     1128|          101|Logged In| paid|       NextSong|1540322185000|\n",
      "|     4|     1128|          102|Logged In| paid|       NextSong|1540322364000|\n",
      "|     4|     1128|          103|Logged In| paid|       NextSong|1540322605000|\n",
      "|     4|     1128|          104|Logged In| paid|       NextSong|1540322803000|\n",
      "|     4|     1128|          105|Logged In| paid|       NextSong|1540322937000|\n",
      "|     4|     1128|          106|Logged In| paid|       NextSong|1540323161000|\n",
      "|     4|     1128|          107|Logged In| paid|      Thumbs Up|1540323162000|\n",
      "|     4|     1128|          108|Logged In| paid|       NextSong|1540323523000|\n",
      "|     4|     1128|          109|Logged In| paid|       NextSong|1540323713000|\n",
      "|     4|     1128|          110|Logged In| paid|       NextSong|1540323919000|\n",
      "|     4|     1128|          111|Logged In| paid|     Add Friend|1540323920000|\n",
      "|     4|     1128|          112|Logged In| paid|       NextSong|1540324151000|\n",
      "|     4|     1128|          113|Logged In| paid|       NextSong|1540324447000|\n",
      "|     4|     1128|          114|Logged In| paid|       NextSong|1540324700000|\n",
      "|     4|     1128|          115|Logged In| paid|       NextSong|1540325032000|\n",
      "|     4|     1128|          116|Logged In| paid|       NextSong|1540325141000|\n",
      "|     4|     1128|          117|Logged In| paid|       NextSong|1540325360000|\n",
      "|     4|     1128|          118|Logged In| paid|       NextSong|1540325586000|\n",
      "|     4|     1128|          119|Logged In| paid|       NextSong|1540325847000|\n",
      "|     4|     1128|          120|Logged In| paid|       NextSong|1540326086000|\n",
      "|     4|     1128|          121|Logged In| paid|       NextSong|1540326342000|\n",
      "|     4|     1128|          122|Logged In| paid|       NextSong|1540326556000|\n",
      "|     4|     1128|          123|Logged In| paid|       NextSong|1540326814000|\n",
      "|     4|     1128|          124|Logged In| paid|       NextSong|1540327006000|\n",
      "|     4|     1128|          125|Logged In| paid|       NextSong|1540327170000|\n",
      "|     4|     1128|          126|Logged In| paid|       NextSong|1540327406000|\n",
      "|     4|     1128|          127|Logged In| paid|       NextSong|1540327612000|\n",
      "|     4|     1128|          128|Logged In| paid|       NextSong|1540327953000|\n",
      "|     4|     1128|          129|Logged In| paid|       NextSong|1540328170000|\n",
      "|     4|     1128|          130|Logged In| paid|       NextSong|1540328399000|\n",
      "|     4|     1128|          131|Logged In| paid|       NextSong|1540328606000|\n",
      "|     4|     1128|          132|Logged In| paid|       NextSong|1540328799000|\n",
      "|     4|     1128|          133|Logged In| paid|       NextSong|1540329009000|\n",
      "|     4|     1128|          134|Logged In| paid|       Settings|1540329100000|\n",
      "|     4|     1128|          135|Logged In| paid|       NextSong|1540329259000|\n",
      "|     4|     1128|          136|Logged In| paid|       NextSong|1540329465000|\n",
      "|     4|     1128|          137|Logged In| paid|       NextSong|1540329697000|\n",
      "|     4|     1128|          138|Logged In| paid|       NextSong|1540329900000|\n",
      "|     4|     1128|          139|Logged In| paid|       NextSong|1540330005000|\n",
      "|     4|     1128|          140|Logged In| paid|       NextSong|1540330244000|\n",
      "|     4|     1128|          141|Logged In| paid|       NextSong|1540330503000|\n",
      "|     4|     1128|          142|Logged In| paid|           Home|1540330511000|\n",
      "|     4|     1128|          143|Logged In| paid|       NextSong|1540330768000|\n",
      "|     4|     1128|          144|Logged In| paid|Add to Playlist|1540330784000|\n",
      "|     4|     1128|          145|Logged In| paid|       NextSong|1540330958000|\n",
      "|     4|     1128|          146|Logged In| paid|       NextSong|1540331145000|\n",
      "|     4|     1128|          147|Logged In| paid|      Thumbs Up|1540331146000|\n",
      "|     4|     1128|          148|Logged In| paid|       NextSong|1540331350000|\n",
      "|     4|     1128|          149|Logged In| paid|       NextSong|1540331584000|\n",
      "|     4|     1128|          150|Logged In| paid|       NextSong|1540331639000|\n",
      "|     4|     1128|          151|Logged In| paid|       NextSong|1540331826000|\n",
      "|     4|     1128|          152|Logged In| paid|       NextSong|1540332086000|\n",
      "|     4|     1128|          153|Logged In| paid|       NextSong|1540332308000|\n",
      "|     4|     1128|          154|Logged In| paid|       NextSong|1540332647000|\n",
      "|     4|     1128|          155|Logged In| paid|       NextSong|1540332869000|\n",
      "|     4|     1128|          156|Logged In| paid|       NextSong|1540333135000|\n",
      "|     4|     1128|          157|Logged In| paid|       NextSong|1540333829000|\n",
      "|     4|     1128|          158|Logged In| paid|       NextSong|1540334225000|\n",
      "|     4|     1128|          159|Logged In| paid|       NextSong|1540334381000|\n",
      "|     4|     1128|          160|Logged In| paid|       NextSong|1540334552000|\n",
      "|     4|     1128|          161|Logged In| paid|       NextSong|1540334760000|\n",
      "|     4|     1128|          162|Logged In| paid|       NextSong|1540335024000|\n",
      "|     4|     1128|          163|Logged In| paid|       NextSong|1540335285000|\n",
      "|     4|     1128|          164|Logged In| paid|       NextSong|1540335536000|\n",
      "|     4|     1128|          165|Logged In| paid|       NextSong|1540335741000|\n",
      "|     4|     1128|          166|Logged In| paid|       NextSong|1540335997000|\n",
      "|     4|     1128|          167|Logged In| paid|       NextSong|1540336228000|\n",
      "|     4|     1128|          168|Logged In| paid|       NextSong|1540336398000|\n",
      "|     4|     1128|          169|Logged In| paid|       NextSong|1540336767000|\n",
      "|     4|     1128|          170|Logged In| paid|       NextSong|1540336923000|\n",
      "|     4|     1128|          171|Logged In| paid|       NextSong|1540337108000|\n",
      "|     4|     1128|          172|Logged In| paid|       NextSong|1540337486000|\n",
      "|     4|     1128|          173|Logged In| paid|       NextSong|1540337751000|\n",
      "|     4|     1128|          174|Logged In| paid|          About|1540337754000|\n",
      "|     4|     1128|          175|Logged In| paid|       NextSong|1540338003000|\n",
      "|     4|     1128|          176|Logged In| paid|       NextSong|1540338270000|\n",
      "|     4|     1128|          177|Logged In| paid|       Settings|1540338323000|\n",
      "|     4|     1128|          178|Logged In| paid|  Save Settings|1540338324000|\n",
      "|     4|     1128|          179|Logged In| paid|           Home|1540338454000|\n",
      "|     4|     1128|          180|Logged In| paid|       NextSong|1540338507000|\n",
      "|     4|     1128|          181|Logged In| paid|      Thumbs Up|1540338508000|\n",
      "|     4|     1128|          182|Logged In| paid|       NextSong|1540338743000|\n",
      "|     4|     1128|          183|Logged In| paid|      Thumbs Up|1540338744000|\n",
      "|     4|     1128|          184|Logged In| paid|       NextSong|1540338944000|\n",
      "|     4|     1128|          185|Logged In| paid|       NextSong|1540339166000|\n",
      "|     4|     1128|          186|Logged In| paid|       NextSong|1540339357000|\n",
      "|     4|     1128|          187|Logged In| paid|       NextSong|1540339703000|\n",
      "|     4|     1128|          188|Logged In| paid|       NextSong|1540340030000|\n",
      "|     4|     1128|          189|Logged In| paid|       NextSong|1540340291000|\n",
      "|     4|     1128|          190|Logged In| paid|Add to Playlist|1540340410000|\n",
      "|     4|     1128|          191|Logged In| paid|       NextSong|1540340522000|\n",
      "|     4|     1128|          192|Logged In| paid|       NextSong|1540340729000|\n",
      "|     4|     1128|          193|Logged In| paid|       NextSong|1540341066000|\n",
      "|     4|     1128|          194|Logged In| paid|       NextSong|1540341312000|\n",
      "|     4|     1128|          195|Logged In| paid|       NextSong|1540341532000|\n",
      "|     4|     1128|          196|Logged In| paid|      Downgrade|1540341585000|\n",
      "|     4|     1128|          197|Logged In| paid|       NextSong|1540341795000|\n",
      "|     4|     1128|          198|Logged In| paid|       NextSong|1540341933000|\n",
      "|     4|     1128|          199|Logged In| paid|       NextSong|1540342291000|\n",
      "|     4|     1128|          200|Logged In| paid|       NextSong|1540342733000|\n",
      "|     4|     1128|          201|Logged In| paid|       NextSong|1540343027000|\n",
      "|     4|     1128|          202|Logged In| paid|       NextSong|1540343410000|\n",
      "|     4|     1128|          203|Logged In| paid|       NextSong|1540343664000|\n",
      "|     4|     1128|          204|Logged In| paid|       NextSong|1540343870000|\n",
      "|     4|     1128|          205|Logged In| paid|       NextSong|1540344218000|\n",
      "|     4|     1128|          206|Logged In| paid|       NextSong|1540344409000|\n",
      "|     4|     1128|          207|Logged In| paid|       NextSong|1540344606000|\n",
      "|     4|     1128|          208|Logged In| paid|       NextSong|1540344946000|\n",
      "|     4|     1128|          209|Logged In| paid|       NextSong|1540345147000|\n",
      "|     4|     1128|          210|Logged In| paid|       NextSong|1540345397000|\n",
      "|     4|     1128|          211|Logged In| paid|       NextSong|1540345704000|\n",
      "|     4|     1128|          212|Logged In| paid|      Downgrade|1540345783000|\n",
      "|     4|     1128|          213|Logged In| paid|         Logout|1540345784000|\n",
      "|     4|     1128|          216|Logged In| paid|           Home|1540345927000|\n",
      "|     4|     1128|          217|Logged In| paid|       NextSong|1540345960000|\n",
      "|     4|     1128|          218|Logged In| paid|       NextSong|1540346117000|\n",
      "|     4|     1128|          219|Logged In| paid|       NextSong|1540346430000|\n",
      "|     4|     1128|          220|Logged In| paid|       NextSong|1540346799000|\n",
      "|     4|     1128|          221|Logged In| paid|       NextSong|1540347032000|\n",
      "|     4|     1128|          222|Logged In| paid|       NextSong|1540347470000|\n",
      "|     4|     1128|          223|Logged In| paid|       NextSong|1540347770000|\n",
      "|     4|     1128|          224|Logged In| paid|       NextSong|1540347956000|\n",
      "|     4|     1128|          225|Logged In| paid|       NextSong|1540348206000|\n",
      "|     4|     1128|          226|Logged In| paid|       NextSong|1540348512000|\n",
      "|     4|     1128|          227|Logged In| paid|       NextSong|1540348777000|\n",
      "|     4|     1128|          228|Logged In| paid|       NextSong|1540349051000|\n",
      "|     4|     1128|          229|Logged In| paid|       NextSong|1540349280000|\n",
      "|     4|     1128|          230|Logged In| paid|       NextSong|1540349476000|\n",
      "|     4|     1128|          231|Logged In| paid|       NextSong|1540349657000|\n",
      "|     4|     1128|          232|Logged In| paid|       NextSong|1540349790000|\n",
      "|     4|     1128|          233|Logged In| paid|       NextSong|1540349956000|\n",
      "|     4|     1128|          234|Logged In| paid|       NextSong|1540350160000|\n",
      "|     4|     1128|          235|Logged In| paid|       NextSong|1540350393000|\n",
      "|     4|     1128|          236|Logged In| paid|       NextSong|1540350561000|\n",
      "|     4|     1128|          237|Logged In| paid|       NextSong|1540350904000|\n",
      "|     4|     1128|          238|Logged In| paid|       NextSong|1540351227000|\n",
      "|     4|     1128|          239|Logged In| paid|       NextSong|1540351470000|\n",
      "|     4|     1128|          240|Logged In| paid|       NextSong|1540351614000|\n",
      "|     4|     1128|          241|Logged In| paid|       NextSong|1540351787000|\n",
      "|     4|     1128|          242|Logged In| paid|       NextSong|1540352047000|\n",
      "|     4|     1128|          243|Logged In| paid|           Home|1540352100000|\n",
      "|     4|     1128|          244|Logged In| paid|       NextSong|1540352274000|\n",
      "|     4|     1128|          245|Logged In| paid|       NextSong|1540352642000|\n",
      "|     4|     1128|          246|Logged In| paid|      Downgrade|1540352715000|\n",
      "|     4|     1128|          247|Logged In| paid|       NextSong|1540352947000|\n",
      "|     4|     1128|          248|Logged In| paid|       NextSong|1540353149000|\n",
      "|     4|     1128|          249|Logged In| paid|       NextSong|1540353281000|\n",
      "|     4|     1128|          250|Logged In| paid|       NextSong|1540353483000|\n",
      "|     4|     1128|          251|Logged In| paid|       NextSong|1540353657000|\n",
      "|     4|     1128|          252|Logged In| paid|       NextSong|1540354027000|\n",
      "|     4|     1128|          253|Logged In| paid|       NextSong|1540354268000|\n",
      "|     4|     1128|          254|Logged In| paid|       NextSong|1540354498000|\n",
      "|     4|     1128|          255|Logged In| paid|       NextSong|1540354753000|\n",
      "|     4|     1128|          256|Logged In| paid|       NextSong|1540355033000|\n",
      "|     4|     1128|          257|Logged In| paid|       NextSong|1540355293000|\n",
      "|     4|     1128|          258|Logged In| paid|       NextSong|1540355525000|\n",
      "|     4|     1128|          259|Logged In| paid|       NextSong|1540355676000|\n",
      "|     4|     1128|          260|Logged In| paid|    Thumbs Down|1540355677000|\n",
      "|     4|     1128|          261|Logged In| paid|       NextSong|1540355851000|\n",
      "|     4|     1128|          262|Logged In| paid|       NextSong|1540355910000|\n",
      "|     4|     1128|          263|Logged In| paid|       NextSong|1540356159000|\n",
      "|     4|     1128|          264|Logged In| paid|       NextSong|1540356357000|\n",
      "|     4|     1128|          265|Logged In| paid|       NextSong|1540356581000|\n",
      "|     4|     1128|          266|Logged In| paid|       NextSong|1540356821000|\n",
      "|     4|     1128|          267|Logged In| paid|       NextSong|1540357046000|\n",
      "|     4|     1128|          268|Logged In| paid|       NextSong|1540357275000|\n",
      "|     4|     1128|          269|Logged In| paid|       NextSong|1540357543000|\n",
      "|     4|     1128|          270|Logged In| paid|       NextSong|1540357822000|\n",
      "|     4|     1128|          271|Logged In| paid|     Add Friend|1540357823000|\n",
      "|     4|     1128|          272|Logged In| paid|       NextSong|1540357972000|\n",
      "|     4|     1128|          273|Logged In| paid|       NextSong|1540358215000|\n",
      "|     4|     1128|          274|Logged In| paid|       NextSong|1540358373000|\n",
      "|     4|     1128|          275|Logged In| paid|       NextSong|1540358540000|\n",
      "|     4|     1128|          276|Logged In| paid|       NextSong|1540358789000|\n",
      "|     4|     1128|          277|Logged In| paid|       NextSong|1540358987000|\n",
      "|     4|     1128|          278|Logged In| paid|           Home|1540359032000|\n",
      "|     4|     1128|          279|Logged In| paid|       NextSong|1540359223000|\n",
      "|     4|     1128|          280|Logged In| paid|       NextSong|1540359530000|\n",
      "|     4|     1128|          281|Logged In| paid|      Thumbs Up|1540359531000|\n",
      "|     4|     1128|          282|Logged In| paid|       NextSong|1540359669000|\n",
      "|     4|     1128|          283|Logged In| paid|       NextSong|1540359849000|\n",
      "|     4|     1128|          284|Logged In| paid|       NextSong|1540360044000|\n",
      "|     4|     1128|          285|Logged In| paid|       NextSong|1540360291000|\n",
      "|     4|     1128|          286|Logged In| paid|       NextSong|1540360601000|\n",
      "|     4|     1128|          287|Logged In| paid|       NextSong|1540360736000|\n",
      "|     4|     1128|          288|Logged In| paid|       NextSong|1540360905000|\n",
      "|     4|     1128|          289|Logged In| paid|Add to Playlist|1540360968000|\n",
      "|     4|     1128|          290|Logged In| paid|       NextSong|1540361161000|\n",
      "|     4|     1128|          291|Logged In| paid|       NextSong|1540361476000|\n",
      "|     4|     1128|          292|Logged In| paid|       NextSong|1540361754000|\n",
      "|     4|     1128|          293|Logged In| paid|       NextSong|1540362110000|\n",
      "|     4|     1128|          294|Logged In| paid|       NextSong|1540362341000|\n",
      "|     4|     1128|          295|Logged In| paid|       NextSong|1540362570000|\n",
      "|     4|     1128|          296|Logged In| paid|       NextSong|1540362780000|\n",
      "|     4|     1128|          297|Logged In| paid|       NextSong|1540363043000|\n",
      "|     4|     1128|          298|Logged In| paid|       NextSong|1540363442000|\n",
      "|     4|     1128|          299|Logged In| paid|           Home|1540363469000|\n",
      "|     4|     1128|          300|Logged In| paid|       NextSong|1540363742000|\n",
      "|     4|     1128|          301|Logged In| paid|       NextSong|1540364037000|\n",
      "|     4|     1128|          302|Logged In| paid|       NextSong|1540364366000|\n",
      "|     4|     1128|          303|Logged In| paid|       NextSong|1540364569000|\n",
      "|     4|     1128|          304|Logged In| paid|       NextSong|1540364917000|\n",
      "|     4|     1128|          305|Logged In| paid|      Thumbs Up|1540364918000|\n",
      "|     4|     1128|          306|Logged In| paid|       NextSong|1540365202000|\n",
      "|     4|     1128|          307|Logged In| paid|       NextSong|1540365426000|\n",
      "|     4|     1128|          308|Logged In| paid|       NextSong|1540365617000|\n",
      "|     4|     1128|          309|Logged In| paid|       NextSong|1540365868000|\n",
      "|     4|     1128|          310|Logged In| paid|       NextSong|1540366133000|\n",
      "|     4|     1128|          311|Logged In| paid|       NextSong|1540366405000|\n",
      "|     4|     1128|          312|Logged In| paid|       NextSong|1540366620000|\n",
      "|     4|     1128|          313|Logged In| paid|       NextSong|1540366907000|\n",
      "|     4|     1128|          314|Logged In| paid|       NextSong|1540367123000|\n",
      "|     4|     1128|          315|Logged In| paid|       NextSong|1540367475000|\n",
      "|     4|     1128|          316|Logged In| paid|       NextSong|1540367741000|\n",
      "|     4|     1128|          317|Logged In| paid|       NextSong|1540367937000|\n",
      "|     4|     1128|          318|Logged In| paid|       NextSong|1540368173000|\n",
      "|     4|     1128|          319|Logged In| paid|       NextSong|1540368371000|\n",
      "|     4|     1128|          320|Logged In| paid|       NextSong|1540368548000|\n",
      "|     4|     1128|          321|Logged In| paid|       NextSong|1540368756000|\n",
      "|     4|     1128|          322|Logged In| paid|       NextSong|1540368915000|\n",
      "|     4|     1128|          323|Logged In| paid|       NextSong|1540369161000|\n",
      "|     4|     1128|          324|Logged In| paid|       NextSong|1540369285000|\n",
      "|     4|     1128|          325|Logged In| paid|       NextSong|1540369576000|\n",
      "|     4|     1128|          326|Logged In| paid|       NextSong|1540369749000|\n",
      "|     4|     1128|          327|Logged In| paid|           Home|1540369806000|\n",
      "|     4|     1128|          328|Logged In| paid|     Add Friend|1540369807000|\n",
      "|     4|     1128|          329|Logged In| paid|     Add Friend|1540369808000|\n",
      "|     4|     1128|          330|Logged In| paid|     Add Friend|1540369809000|\n",
      "|     4|     1128|          331|Logged In| paid|       NextSong|1540369982000|\n",
      "|     4|     1128|          332|Logged In| paid|       NextSong|1540370128000|\n",
      "|     4|     1128|          333|Logged In| paid|       NextSong|1540370308000|\n",
      "|     4|     1128|          334|Logged In| paid|       NextSong|1540370706000|\n",
      "|     4|     1128|          335|Logged In| paid|       NextSong|1540371075000|\n",
      "|     4|     1128|          336|Logged In| paid|      Thumbs Up|1540371076000|\n",
      "|     4|     1128|          337|Logged In| paid|       NextSong|1540371313000|\n",
      "|     4|     1128|          338|Logged In| paid|      Downgrade|1540371328000|\n",
      "+------+---------+-------------+---------+-----+---------------+-------------+\n",
      "only showing top 500 rows\n",
      "\n"
     ]
    }
   ],
   "source": [
    "# Logs belonging to a specific user\n",
    "df.where(df.userId == 4).select(['userId','sessionId','itemInSession','auth','level','page','ts']).show(500)"
   ]
  },
  {
   "cell_type": "code",
   "execution_count": 23,
   "metadata": {},
   "outputs": [
    {
     "name": "stdout",
     "output_type": "stream",
     "text": [
      "+------+---------+------+--------+---------+--------+----------+-----+-------------+-----+\n",
      "|userId|firstName|gender|lastName|sessionId|location|      auth|level|           ts| page|\n",
      "+------+---------+------+--------+---------+--------+----------+-----+-------------+-----+\n",
      "|      |     null|  null|    null|        8|    null|Logged Out| free|1538355745000| Home|\n",
      "|      |     null|  null|    null|        8|    null|Logged Out| free|1538355807000| Help|\n",
      "|      |     null|  null|    null|        8|    null|Logged Out| free|1538355841000| Home|\n",
      "|      |     null|  null|    null|        8|    null|Logged Out| free|1538355842000|Login|\n",
      "|      |     null|  null|    null|      240|    null|Logged Out| free|1538356678000| Home|\n",
      "|      |     null|  null|    null|      240|    null|Logged Out| free|1538356679000|Login|\n",
      "|      |     null|  null|    null|      100|    null|Logged Out| free|1538358102000|Login|\n",
      "|      |     null|  null|    null|      241|    null|Logged Out| free|1538360117000|Login|\n",
      "|      |     null|  null|    null|      187|    null|Logged Out| free|1538361527000| Home|\n",
      "|      |     null|  null|    null|      187|    null|Logged Out| free|1538361528000|Login|\n",
      "+------+---------+------+--------+---------+--------+----------+-----+-------------+-----+\n",
      "only showing top 10 rows\n",
      "\n",
      "+----------+-----+\n",
      "|      auth|count|\n",
      "+----------+-----+\n",
      "|Logged Out| 8249|\n",
      "|     Guest|   97|\n",
      "+----------+-----+\n",
      "\n"
     ]
    }
   ],
   "source": [
    "# Rows with empty string in the 'userId' column correspond to logs in which user has not been logged in\n",
    "# (either 'Logged Out' or 'Guest' authentication levels). \n",
    "df.select(['userId','firstName','gender','lastName',\n",
    "           'sessionId','location','auth','level','ts','page']).where(df.userId == \"\").show(10)\n",
    "\n",
    "df.where(df.userId == \"\").groupby('auth').count().show()"
   ]
  },
  {
   "cell_type": "code",
   "execution_count": 24,
   "metadata": {},
   "outputs": [
    {
     "name": "stdout",
     "output_type": "stream",
     "text": [
      "+----------+------+\n",
      "|      auth| count|\n",
      "+----------+------+\n",
      "|Logged Out|  8249|\n",
      "| Cancelled|    52|\n",
      "|     Guest|    97|\n",
      "| Logged In|278102|\n",
      "+----------+------+\n",
      "\n"
     ]
    }
   ],
   "source": [
    "# Explore the auth column\n",
    "df.groupby('auth').count().show()"
   ]
  },
  {
   "cell_type": "code",
   "execution_count": 25,
   "metadata": {},
   "outputs": [],
   "source": [
    "#App users dataset\n",
    "gender_dist = df.select(['userId','gender']).where(df.userId != \"\").dropDuplicates(['userId']).groupby('gender').count().toPandas()\n",
    "gender_dist_rel = (gender_dist.set_index('gender') / sum(gender_dist['count']))\n",
    "\n",
    "#Activity dataset\n",
    "gender_dist_logs = df.where(df.userId != \"\").groupby('gender').count().toPandas()\n",
    "gender_dist_logs_rel = (gender_dist_logs.set_index('gender') / sum(gender_dist_logs['count']))"
   ]
  },
  {
   "cell_type": "code",
   "execution_count": 26,
   "metadata": {},
   "outputs": [
    {
     "data": {
      "image/png": "[encoded data removed]",
      "text/plain": [
       "<Figure size 576x288 with 1 Axes>"
      ]
     },
     "metadata": {
      "needs_background": "light"
     },
     "output_type": "display_data"
    }
   ],
   "source": [
    "comparison = gender_dist_rel.merge(gender_dist_logs_rel, on='gender')\n",
    "comparison.columns = ['App Users', 'Activity']\n",
    "\n",
    "# Define plotting parameters\n",
    "plt.rcParams['figure.figsize'] = (8,4)\n",
    "plt.rcParams.update({'font.size': 12})\n",
    "\n",
    "# Define colors to use throughout this notebook\n",
    "colors = [\"tealish green\", \"charcoal grey\"]\n",
    "palette = sns.xkcd_palette(colors)\n",
    "color1 = palette[0]\n",
    "color2 = palette[1]\n",
    "\n",
    "# Plot\n",
    "comparison.transpose().plot.bar(rot = 0, color = [color1, color2]);\n",
    "plt.ylabel('Share');"
   ]
  },
  {
   "cell_type": "markdown",
   "metadata": {},
   "source": [
    "### Log Features Analysis"
   ]
  },
  {
   "cell_type": "code",
   "execution_count": 27,
   "metadata": {},
   "outputs": [
    {
     "name": "stdout",
     "output_type": "stream",
     "text": [
      "+--------------------+------+\n",
      "|                page| count|\n",
      "+--------------------+------+\n",
      "|            NextSong|228108|\n",
      "|                Home| 14457|\n",
      "|           Thumbs Up| 12551|\n",
      "|     Add to Playlist|  6526|\n",
      "|          Add Friend|  4277|\n",
      "|         Roll Advert|  3933|\n",
      "|               Login|  3241|\n",
      "|              Logout|  3226|\n",
      "|         Thumbs Down|  2546|\n",
      "|           Downgrade|  2055|\n",
      "|                Help|  1726|\n",
      "|            Settings|  1514|\n",
      "|               About|   924|\n",
      "|             Upgrade|   499|\n",
      "|       Save Settings|   310|\n",
      "|               Error|   258|\n",
      "|      Submit Upgrade|   159|\n",
      "|    Submit Downgrade|    63|\n",
      "|              Cancel|    52|\n",
      "|Cancellation Conf...|    52|\n",
      "|            Register|    18|\n",
      "| Submit Registration|     5|\n",
      "+--------------------+------+\n",
      "\n"
     ]
    }
   ],
   "source": [
    "# Explore the 'page' column that represents the types of interactions with the music streaming service\n",
    "# Obtain the distribution of the interaction types in the analyzed dataset\n",
    "df.groupby('page').count().sort('count', ascending = False).show(22)"
   ]
  },
  {
   "cell_type": "code",
   "execution_count": 28,
   "metadata": {},
   "outputs": [],
   "source": [
    "# The smaller dataset is representative - distribution of the interaction types is similar in the full Sparkify dataset\n",
    "page_pd_full = pd.DataFrame({'page' : ['NextSong','Home','Thumbs Up', 'Add to Playlist', 'Roll Advert', 'Add Friend', \n",
    "                                       'Login','Logout', 'Thumbs Down', 'Downgrade', 'Help', 'Settings', 'About', \n",
    "                                       'Upgrade', 'Save Settings', 'Error', 'Submit Upgrade', 'Submit Downgrade', 'Cancel',\n",
    "                                     'Cancellation Confirmation', 'Register', 'Submit Registration'],\n",
    "                             'count' : [20850272, 1343102, 1151465, 597921, 385212, 381664, 296350, 296005, 239212,\n",
    "                                    184240, 155100, 147074, 92759, 50507, 29516, 25962, 15135, 6494, 5003, 5003, 802,401]})\n",
    "\n",
    "page_pd_full['Full Sparkify Dataset'] = page_pd_full['count'] / sum(page_pd_full['count'])"
   ]
  },
  {
   "cell_type": "code",
   "execution_count": 29,
   "metadata": {},
   "outputs": [
    {
     "data": {
      "image/png": "[encoded data removed]",
      "text/plain": [
       "<Figure size 720x504 with 1 Axes>"
      ]
     },
     "metadata": {
      "needs_background": "light"
     },
     "output_type": "display_data"
    }
   ],
   "source": [
    "# Visualize the categorical distribution\n",
    "page_pd = df.groupby('page').count().sort('count', ascending = False).toPandas()\n",
    "page_pd['Subset'] = page_pd['count'] / sum(page_pd['count'])\n",
    "# Compare to statistics calculated on gull Sparkify dataset\n",
    "compare_pd = page_pd_full.merge(page_pd, on = 'page')\n",
    "\n",
    "# Plot\n",
    "plt.rcParams['figure.figsize'] = (10,7)\n",
    "compare_pd.plot(x='page', y= ['Full Sparkify Dataset', 'Subset'], kind = \"bar\",  color = [color1, color2]);\n",
    "plt.xlabel(\"\");\n",
    "plt.ylabel(\"Frequency\");\n",
    "plt.title(\"Interaction type distribution\");\n",
    "plt.subplots_adjust(left=0.1, right=0.9, top=0.95, bottom=0.45);\n",
    "plt.savefig('interactiontype1');"
   ]
  },
  {
   "cell_type": "code",
   "execution_count": 30,
   "metadata": {},
   "outputs": [
    {
     "data": {
      "image/png": "[encoded data removed]",
      "text/plain": [
       "<Figure size 720x504 with 1 Axes>"
      ]
     },
     "metadata": {
      "needs_background": "light"
     },
     "output_type": "display_data"
    }
   ],
   "source": [
    "# Distribution ex playing songs\n",
    "compare_pd[compare_pd['page']!='NextSong'].plot(x='page', y= ['Full Sparkify Dataset', 'Subset'], kind = \"bar\",\n",
    "                                               color = [color1, color2]);\n",
    "\n",
    "# Plot\n",
    "plt.rcParams['figure.figsize'] = (10,7)\n",
    "plt.xlabel(\"\");\n",
    "plt.ylabel(\"Frequency\");\n",
    "plt.title(\"Interaction type distribution\");\n",
    "plt.subplots_adjust(left=0.1, right=0.9, top=0.95, bottom=0.45);\n",
    "plt.savefig('interactiontype2')"
   ]
  },
  {
   "cell_type": "markdown",
   "metadata": {},
   "source": [
    "# 3. Data transformation\n",
    "Since both the predictors and the response variable need to be defined at the level of an individual user, we had to first transform the original dataset (one row per log) to a dataset with user-level information or statistics (one row per user), obtained either through mapping (e.g. user's gender, length of observation period, etc.) or aggregation (e.g. activity count). "
   ]
  },
  {
   "cell_type": "markdown",
   "metadata": {},
   "source": [
    "### Registration and Observation period"
   ]
  },
  {
   "cell_type": "code",
   "execution_count": 31,
   "metadata": {},
   "outputs": [],
   "source": [
    "# Convert the timestamps in columns 'registration' and 'ts' into datetime format and add them to the dataframe\n",
    "df = df.withColumn('registrationDate', (df['registration'] / 1000).cast(TimestampType()))\n",
    "df = df.withColumn('tsDate', (df['ts'] / 1000).cast(TimestampType()))"
   ]
  },
  {
   "cell_type": "code",
   "execution_count": 32,
   "metadata": {},
   "outputs": [
    {
     "name": "stdout",
     "output_type": "stream",
     "text": [
      "+------+--------+-------------+-------------------+\n",
      "|userId|    page|           ts|             tsDate|\n",
      "+------+--------+-------------+-------------------+\n",
      "|    30|NextSong|1538352117000|2018-10-01 02:01:57|\n",
      "|     9|NextSong|1538352180000|2018-10-01 02:03:00|\n",
      "|    30|NextSong|1538352394000|2018-10-01 02:06:34|\n",
      "|     9|NextSong|1538352416000|2018-10-01 02:06:56|\n",
      "|    30|NextSong|1538352676000|2018-10-01 02:11:16|\n",
      "+------+--------+-------------+-------------------+\n",
      "only showing top 5 rows\n",
      "\n"
     ]
    }
   ],
   "source": [
    "# Based on the data shown below it seems the observation period started at 02:01:57, October 1, 2018\n",
    "df.select('userId', 'page', 'ts', 'tsDate').sort('ts').show(5)"
   ]
  },
  {
   "cell_type": "code",
   "execution_count": 33,
   "metadata": {},
   "outputs": [
    {
     "name": "stdout",
     "output_type": "stream",
     "text": [
      "+------+---------------+-------------+-------------------+\n",
      "|userId|           page|           ts|             tsDate|\n",
      "+------+---------------+-------------+-------------------+\n",
      "|100002|       NextSong|1543799476000|2018-12-03 02:11:16|\n",
      "|200008|       NextSong|1543622579000|2018-12-01 01:02:59|\n",
      "|   152|       NextSong|1543622432000|2018-12-01 01:00:32|\n",
      "|300011|       NextSong|1543622411000|2018-12-01 01:00:11|\n",
      "|300011|          About|1543622398000|2018-12-01 00:59:58|\n",
      "|200008|       NextSong|1543622395000|2018-12-01 00:59:55|\n",
      "|   138|       NextSong|1543622365000|2018-12-01 00:59:25|\n",
      "|    39|       NextSong|1543622355000|2018-12-01 00:59:15|\n",
      "|    30|Add to Playlist|1543622320000|2018-12-01 00:58:40|\n",
      "|    30|       NextSong|1543622287000|2018-12-01 00:58:07|\n",
      "+------+---------------+-------------+-------------------+\n",
      "only showing top 10 rows\n",
      "\n"
     ]
    }
   ],
   "source": [
    "# Based on the data shown below it seems the observation period ended at 00:58:40, December 01, 2018 \n",
    "df.select('userId', 'page', 'ts', 'tsDate').sort('ts', ascending = False).show(10)"
   ]
  },
  {
   "cell_type": "code",
   "execution_count": 34,
   "metadata": {},
   "outputs": [
    {
     "name": "stdout",
     "output_type": "stream",
     "text": [
      "+------+-------------------+---------+---------+--------------------+\n",
      "|userId|             tsDate|sessionId|     auth|                page|\n",
      "+------+-------------------+---------+---------+--------------------+\n",
      "|    18|2018-10-07 22:26:30|      514|Cancelled|Cancellation Conf...|\n",
      "|    32|2018-10-08 23:10:46|      540|Cancelled|Cancellation Conf...|\n",
      "|   125|2018-10-12 06:35:18|      174|Cancelled|Cancellation Conf...|\n",
      "|   105|2018-10-12 22:17:21|      508|Cancelled|Cancellation Conf...|\n",
      "|    17|2018-10-13 23:19:44|      797|Cancelled|Cancellation Conf...|\n",
      "+------+-------------------+---------+---------+--------------------+\n",
      "only showing top 5 rows\n",
      "\n"
     ]
    }
   ],
   "source": [
    "# 'Cancelled' category corresponds to 'Cancellation Confirmation' in the page column\n",
    "df.where(df.auth == 'Cancelled').select(['userId', 'tsDate', 'sessionId', 'auth', 'page']).show(5)"
   ]
  },
  {
   "cell_type": "code",
   "execution_count": 35,
   "metadata": {},
   "outputs": [
    {
     "data": {
      "text/plain": [
       "278154"
      ]
     },
     "execution_count": 35,
     "metadata": {},
     "output_type": "execute_result"
    }
   ],
   "source": [
    "# Remove rows with missing userId \n",
    "df = df.where(df.userId != \"\")\n",
    "df.count()"
   ]
  },
  {
   "cell_type": "markdown",
   "metadata": {},
   "source": [
    "## Transformations on the Original Dataset"
   ]
  },
  {
   "cell_type": "code",
   "execution_count": 36,
   "metadata": {},
   "outputs": [],
   "source": [
    "# Default observation start and end timestamps for users who have registered before October 1 and haven't churned\n",
    "obs_start_default = 1538352000000\n",
    "obs_end_default = 1543622400000"
   ]
  },
  {
   "cell_type": "markdown",
   "metadata": {},
   "source": [
    "#### Registration\n",
    "User's registration dates are listed in the registration column of the imported dataset, but we have observed that they do not always seem to be correct. For users who registered after the start of the default observation period the registration dates are not consistent with the actual log timestamps and activity types. We thus had to obtain late registrations by finding 'Submit Registration' logs in the page column. "
   ]
  },
  {
   "cell_type": "code",
   "execution_count": 37,
   "metadata": {},
   "outputs": [
    {
     "name": "stdout",
     "output_type": "stream",
     "text": [
      "+------+----+----+------+---------+\n",
      "|userId|auth|page|tsDate|sessionId|\n",
      "+------+----+----+------+---------+\n",
      "+------+----+----+------+---------+\n",
      "\n"
     ]
    }
   ],
   "source": [
    "# \"Submit registration\" events have empty strings in the userId column.\n",
    "# The userId can be inferred from the sessionId information.\n",
    "df.select(['userId','auth','page','tsDate','sessionId']).where(df.page == 'Submit Registration').show()"
   ]
  },
  {
   "cell_type": "code",
   "execution_count": 38,
   "metadata": {},
   "outputs": [
    {
     "name": "stdout",
     "output_type": "stream",
     "text": [
      "+------+---------+---------------+-------------------+---------+\n",
      "|userId|     auth|           page|             tsDate|sessionId|\n",
      "+------+---------+---------------+-------------------+---------+\n",
      "|   154|Logged In|           Home|2018-11-02 16:15:35|     1506|\n",
      "|   154|Logged In|       NextSong|2018-11-02 16:15:38|     1506|\n",
      "|   154|Logged In|       NextSong|2018-11-02 16:18:39|     1506|\n",
      "|   154|Logged In|       NextSong|2018-11-02 16:22:19|     1506|\n",
      "|   154|Logged In|       NextSong|2018-11-02 16:26:59|     1506|\n",
      "|   154|Logged In|       NextSong|2018-11-02 16:32:26|     1506|\n",
      "|   154|Logged In|    Roll Advert|2018-11-02 16:33:03|     1506|\n",
      "|   154|Logged In|       NextSong|2018-11-02 16:36:29|     1506|\n",
      "|   154|Logged In|       NextSong|2018-11-02 16:40:35|     1506|\n",
      "|   154|Logged In|Add to Playlist|2018-11-02 16:40:46|     1506|\n",
      "+------+---------+---------------+-------------------+---------+\n",
      "only showing top 10 rows\n",
      "\n"
     ]
    }
   ],
   "source": [
    "# Registration of the userId=154 - note that the time of \"Submit Registration\" log does not match the \n",
    "# registration time printed above.\n",
    "df.select(['userId','auth','page','tsDate', 'sessionId']).where(df.sessionId == 1506).show(10)"
   ]
  },
  {
   "cell_type": "markdown",
   "metadata": {},
   "source": [
    "As can be seen in the table above, the 'Submit Registration' event is followed by user's first interaction in the same session. To identify users with late registrations we have shifted the page column by one index (within a given session) and checked whether the first entry of the lagged column reads 'Submit Registration'. For each such user the start of the observation period has been set to the timestamp of his/her first log, whereas for all other users the default start time applies."
   ]
  },
  {
   "cell_type": "code",
   "execution_count": 39,
   "metadata": {},
   "outputs": [],
   "source": [
    "# Lag the page column\n",
    "windowsession = Window.partitionBy('sessionId').orderBy('ts')\n",
    "df = df.withColumn(\"lagged_page\", lag(df.page).over(windowsession))"
   ]
  },
  {
   "cell_type": "code",
   "execution_count": 40,
   "metadata": {},
   "outputs": [
    {
     "name": "stdout",
     "output_type": "stream",
     "text": [
      "+------+----+-----------+------+---------+\n",
      "|userId|auth|lagged_page|tsDate|sessionId|\n",
      "+------+----+-----------+------+---------+\n",
      "+------+----+-----------+------+---------+\n",
      "\n"
     ]
    }
   ],
   "source": [
    "# With the lagged page column we can identify the users that registered later\n",
    "df.where(df.lagged_page == \"Submit Registration\").select(['userId','auth','lagged_page','tsDate', 'sessionId']).show()"
   ]
  },
  {
   "cell_type": "code",
   "execution_count": 41,
   "metadata": {},
   "outputs": [],
   "source": [
    "# All the values calculated here are the same for all logs belonging to a given user. Nevertheless, we attach them to the\n",
    "# original dataset, as they are needed for activity trend calculation \n",
    "windowuser = Window.partitionBy('userId').orderBy('ts').rangeBetween(Window.unboundedPreceding, Window.unboundedFollowing)\n",
    "\n",
    "# Identify users that registered after the start of observation, and infer the start date accordingly\n",
    "df = df.withColumn(\"beforefirstlog\", first(col('lagged_page')).over(windowuser))\n",
    "df = df.withColumn(\"firstlogtime\", first(col('ts')).over(windowuser))\n",
    "df = df.withColumn(\"obsstart\", \n",
    "                   when(df.beforefirstlog == \"Submit Registration\", df.firstlogtime).otherwise(obs_start_default))"
   ]
  },
  {
   "cell_type": "markdown",
   "metadata": {},
   "source": [
    "#### Cancellation\n",
    "Similar to above, there are users who cancelled their service before the end of the default observation period, the so-called churned users. One can simply identify them by finding all the 'Cancellation Confirmation' entries in the page column. For each such user the end of the respective observation period has been set to the timestamp of his/her last log entry, whereas for all other users the default end date applies."
   ]
  },
  {
   "cell_type": "code",
   "execution_count": 42,
   "metadata": {},
   "outputs": [],
   "source": [
    "# Identify users that cancelled their service, i.e. users whose last log event is \"Cancellation Confirmation\", and\n",
    "# obtain the corresponding end of the observation period. This is done on the original dataset\n",
    "# so a single value, e.g. end of observation period, is copied to all rows belonging to a given userId.\n",
    "\n",
    "df = df.withColumn(\"endstate\", last(col('page')).over(windowuser))\n",
    "df = df.withColumn(\"lastlogtime\", last(col('ts')).over(windowuser))\n",
    "df = df.withColumn(\"obsend\", when(df.endstate == \"Cancellation Confirmation\", df.lastlogtime).otherwise(obs_end_default))\n"
   ]
  },
  {
   "cell_type": "markdown",
   "metadata": {},
   "source": [
    "#### Relative timing of each log\n",
    "As mentioned before, we wanted to include activity trend as one of the predictors of churned users. Trend can be estimated by calculating a specific metric on the first and last k days of the observation period and then comparing them. "
   ]
  },
  {
   "cell_type": "code",
   "execution_count": 43,
   "metadata": {},
   "outputs": [],
   "source": [
    "# For each log compute the time from the beginning of observation...\n",
    "df = df.withColumn(\"timefromstart\", col('ts')-col(\"obsstart\"))\n",
    "# ...and time before the end of observation\n",
    "df = df.withColumn(\"timebeforeend\", col('obsend')-col('ts'))"
   ]
  },
  {
   "cell_type": "code",
   "execution_count": 44,
   "metadata": {},
   "outputs": [
    {
     "name": "stdout",
     "output_type": "stream",
     "text": [
      "+------+-------------+-------------+--------------------+----------+-------------+-------------+-------------+\n",
      "|userId|     obsstart|       obsend|            endstate|      page|           ts|timefromstart|timebeforeend|\n",
      "+------+-------------+-------------+--------------------+----------+-------------+-------------+-------------+\n",
      "|100023|1538352000000|1539475237000|Cancellation Conf...|     About|1538665362000|    313362000|    809875000|\n",
      "|100023|1538352000000|1539475237000|Cancellation Conf...|  NextSong|1538665432000|    313432000|    809805000|\n",
      "|100023|1538352000000|1539475237000|Cancellation Conf...|Add Friend|1538665433000|    313433000|    809804000|\n",
      "|100023|1538352000000|1539475237000|Cancellation Conf...|Add Friend|1538665434000|    313434000|    809803000|\n",
      "|100023|1538352000000|1539475237000|Cancellation Conf...|  NextSong|1538767734000|    415734000|    707503000|\n",
      "+------+-------------+-------------+--------------------+----------+-------------+-------------+-------------+\n",
      "only showing top 5 rows\n",
      "\n"
     ]
    }
   ],
   "source": [
    "# Example of a user with default observation start and earlier observation end due to Cancellation Confirmation\n",
    "df.select(['userId','obsstart','obsend','endstate','page','ts','timefromstart','timebeforeend'])\\\n",
    ".where(df.userId == 100023).show(5)"
   ]
  },
  {
   "cell_type": "markdown",
   "metadata": {},
   "source": [
    "#### Last Subscription Level\n",
    "One other operation that we have performed on the original dataset is finding the user's last subscription level (free or paid) at the last log entry, so either user's subscription level at the time of cancellation, or at the end of the default observation period. "
   ]
  },
  {
   "cell_type": "code",
   "execution_count": 45,
   "metadata": {},
   "outputs": [],
   "source": [
    "# Obtain user's last subscription level and add it to the original dataset\n",
    "df = df.withColumn(\"lastlevel\", last(col('level')).over(windowuser))"
   ]
  },
  {
   "cell_type": "code",
   "execution_count": 46,
   "metadata": {},
   "outputs": [
    {
     "data": {
      "text/plain": [
       "278150"
      ]
     },
     "execution_count": 46,
     "metadata": {},
     "output_type": "execute_result"
    }
   ],
   "source": [
    "# Remove rows with corrupted timestamps\n",
    "df = df.where(df.ts < obs_end_default)\n",
    "df.count()"
   ]
  },
  {
   "cell_type": "markdown",
   "metadata": {},
   "source": [
    "### Mapping and Aggregation\n",
    "As the next step, we have transformed the original Sparkify dataset (one row per log) to a dataset with user-level information or statistics (one row per user), which have been obtained either through mapping from the original dataset (applies to user-level features such as user's gender, last subscription level, etc.) or aggregation (grouping the logs by userId, e.g. total activity count of each user).\n",
    "\n",
    "The newly created dataset includes the following columns:\n",
    "\n",
    "userId\n",
    "* lastlevel : user's last subscription level, transformed into binary format (1 - paid tier, 0 - free tier)\n",
    "* gender : gender, transformed into binary format (1 - female, 0 - male)\n",
    "* obsstart, obsend: start and end of the observation period\n",
    "* endstate : last interaction in the observation period\n",
    "* nact : user's total number of interactions in the observation period\n",
    "* nsongs, ntbup, ntbdown, nfriend, nplaylist, ndgrade, nupgrade, nhome, nadvert, nhelp, nsettings, nerror : number of songs played, thumbs up given, thumbs down given, friends added, songs added to playlist, downgrades, upgrades, home page visits, advertisements played, help page visits, settings visits, errors, respectively\n",
    "* nact_recent, nact_oldest : user's activity in the last and first k days of the observation window, respectively\n",
    "* nsongs_recent, nsongs_oldest : songs played in the last and first k days of the observation window, respectively"
   ]
  },
  {
   "cell_type": "code",
   "execution_count": 47,
   "metadata": {},
   "outputs": [],
   "source": [
    "# Length of the estimation window for activity trend calculation\n",
    "trend_est_days = 14\n",
    "trend_est_hours = trend_est_days * 24\n",
    "# In timestamp format\n",
    "trend_est = trend_est_days * 24 * 60 * 60 * 1000"
   ]
  },
  {
   "cell_type": "code",
   "execution_count": 48,
   "metadata": {},
   "outputs": [],
   "source": [
    "# Aggregation by userId\n",
    "df_user = df.groupby('userId')\\\n",
    ".agg(\n",
    "     # User-level features\n",
    "     first(when(col('lastlevel') == 'paid', 1).otherwise(0)).alias('lastlevel'),\n",
    "     first(when(col('gender') == \"F\", 1).otherwise(0)).alias('gender'),\n",
    "     first(col('obsstart')).alias('obsstart'),\n",
    "     first(col('obsend')).alias('obsend'),\n",
    "     first(col('endstate')).alias('endstate'),\n",
    "     \n",
    "     # Aggregated activity statistics\n",
    "     count(col('page')).alias('nact'),\n",
    "     Fsum(when(col('page') == \"NextSong\", 1).otherwise(0)).alias(\"nsongs\"),\n",
    "     Fsum(when(col('page') == \"Thumbs Up\", 1).otherwise(0)).alias(\"ntbup\"),\n",
    "     Fsum(when(col('page') == \"Thumbs Down\", 1).otherwise(0)).alias(\"ntbdown\"),\n",
    "     Fsum(when(col('page') == \"Add Friend\", 1).otherwise(0)).alias(\"nfriend\"),\n",
    "     Fsum(when(col('page') == \"Add to Playlist\", 1).otherwise(0)).alias(\"nplaylist\"),     \n",
    "     Fsum(when(col('page') == \"Submit Downgrade\", 1).otherwise(0)).alias(\"ndgrade\"),\n",
    "     Fsum(when(col('page') == \"Submit Upgrade\", 1).otherwise(0)).alias(\"nugrade\"),\n",
    "     Fsum(when(col('page') == \"Home\", 1).otherwise(0)).alias(\"nhome\"),\n",
    "     Fsum(when(col('page') == \"Roll Advert\", 1).otherwise(0)).alias(\"nadvert\"),\n",
    "     Fsum(when(col('page') == \"Help\", 1).otherwise(0)).alias(\"nhelp\"),\n",
    "     Fsum(when(col('page') == \"Settings\", 1).otherwise(0)).alias(\"nsettings\"),\n",
    "     Fsum(when(col('page') == \"Error\", 1).otherwise(0)).alias(\"nerror\"),\n",
    "     \n",
    "     # Aggregated activity statistics in different periods \n",
    "     Fsum(when(col('timebeforeend') < trend_est, 1).otherwise(0)).alias(\"nact_recent\"),\n",
    "     Fsum(when(col('timefromstart') < trend_est, 1).otherwise(0)).alias(\"nact_oldest\"),\n",
    "     Fsum(when((col('page') == \"NextSong\") & (col('timebeforeend') < trend_est), 1).otherwise(0)).alias(\"nsongs_recent\"),\n",
    "     Fsum(when((col('page') == \"NextSong\") & (col('timefromstart') < trend_est), 1).otherwise(0)).alias(\"nsongs_oldest\") )"
   ]
  },
  {
   "cell_type": "code",
   "execution_count": 49,
   "metadata": {},
   "outputs": [
    {
     "name": "stdout",
     "output_type": "stream",
     "text": [
      "+------+------+---------+-------------+-------------+--------------------+\n",
      "|userId|gender|lastlevel|     obsstart|       obsend|            endstate|\n",
      "+------+------+---------+-------------+-------------+--------------------+\n",
      "|100010|     1|        0|1538352000000|1543622400000|              Logout|\n",
      "|200002|     0|        1|1538352000000|1543622400000|           Thumbs Up|\n",
      "|   125|     0|        0|1538352000000|1539318918000|Cancellation Conf...|\n",
      "|   124|     1|        1|1538352000000|1543622400000|                Home|\n",
      "|    51|     0|        1|1538352000000|1539761972000|Cancellation Conf...|\n",
      "+------+------+---------+-------------+-------------+--------------------+\n",
      "only showing top 5 rows\n",
      "\n"
     ]
    }
   ],
   "source": [
    "# Sample rows in a newly created dataset; user-level features\n",
    "df_user.select(['userId','gender','lastlevel','obsstart','obsend','endstate']).show(5)"
   ]
  },
  {
   "cell_type": "code",
   "execution_count": 50,
   "metadata": {},
   "outputs": [
    {
     "name": "stdout",
     "output_type": "stream",
     "text": [
      "+------+----+------+-----+-------+-------+---------+-------+-------+-----+-------+-----+---------+------+\n",
      "|userId|nact|nsongs|ntbup|ntbdown|nfriend|nplaylist|ndgrade|nugrade|nhome|nadvert|nhelp|nsettings|nerror|\n",
      "+------+----+------+-----+-------+-------+---------+-------+-------+-----+-------+-----+---------+------+\n",
      "|100010| 381|   275|   17|      5|      4|        7|      0|      0|   11|     52|    2|        0|     0|\n",
      "|200002| 474|   387|   21|      6|      4|        8|      0|      1|   20|      7|    2|        3|     0|\n",
      "|   125|  11|     8|    0|      0|      0|        0|      0|      0|    0|      1|    0|        0|     0|\n",
      "|    51|2464|  2111|  100|     21|     28|       52|      0|      0|   75|      0|   12|       12|     1|\n",
      "|   124|4825|  4079|  171|     41|     74|      118|      0|      0|  176|      4|   23|       20|     6|\n",
      "+------+----+------+-----+-------+-------+---------+-------+-------+-----+-------+-----+---------+------+\n",
      "only showing top 5 rows\n",
      "\n"
     ]
    }
   ],
   "source": [
    "# Sample rows in a newly created dataset; aggregated activity statistics\n",
    "df_user.select(['userId','nact','nsongs','ntbup','ntbdown','nfriend','nplaylist',\n",
    "                'ndgrade','nugrade','nhome','nadvert','nhelp','nsettings','nerror']).show(5)"
   ]
  },
  {
   "cell_type": "code",
   "execution_count": 51,
   "metadata": {},
   "outputs": [
    {
     "name": "stdout",
     "output_type": "stream",
     "text": [
      "+------+-----------+-----------+-------------+-------------+\n",
      "|userId|nact_recent|nact_oldest|nsongs_recent|nsongs_oldest|\n",
      "+------+-----------+-----------+-------------+-------------+\n",
      "|100010|         33|         40|           24|           31|\n",
      "|200002|          0|         37|            0|           24|\n",
      "|   125|         11|         11|            8|            8|\n",
      "|   124|        509|       1093|          440|          921|\n",
      "|    51|       1865|       2052|         1614|         1757|\n",
      "+------+-----------+-----------+-------------+-------------+\n",
      "only showing top 5 rows\n",
      "\n"
     ]
    }
   ],
   "source": [
    "# Sample rows in a newly created dataset; aggregated activity statistics in different periods\n",
    "df_user.select(['userId','nact_recent','nact_oldest','nsongs_recent','nsongs_oldest']).show(5)"
   ]
  },
  {
   "cell_type": "markdown",
   "metadata": {},
   "source": [
    "# 4. Feature Engineering\n",
    "By using the mappings and aggregated statistics expressed at the level of an individual user we could then finally construct the features that in our opinion contain key insights for identifying churned users. \n",
    "\n",
    "**Note**: When defining predictor variables one needs to make sure that they do not contain any information that would not be available if running a model on an unlabelled dataset. For example, in the original log dataset churned users typically have significantly shorter observation periods, therefore, total activity count would not be an appropriate predictor, as it contains indirect information about the response variable, which we would not have if the data was unlabelled. For this reason, all the features need to be expressed either per unit of time or in relation to another variable measured over the same observation period. However, since the relative statistics for different users are measured on sometimes inconsistent observation periods, one needs to assume that the underlying data distributions in the 2-month window do not change due to some exogenous variable (but only due to the users themselves - which is measured in the activity trend feature defined below).\n",
    "\n",
    "### Numerical Features\n",
    "We have constructed several numerical features that in our opinion capture well the patterns in user's past activity and interaction with the music streaming service, and could be used to identify churned users:\n",
    "\n",
    "#### Aggregated statistics per hour\n",
    "\n",
    "- ***nact_perh*** : user's number of interactions per hour, calculated as $$nact\\_perh = \\frac{nact}{obshours},$$ where _nact_ represents the user's total number of interactions and _obshours_ the length of the user-specific observation period in hours;\n",
    "\n",
    "\n",
    "- ***nsongs_perh, ntbup_perh, ntbdown_perh, nfriend_perh, nplaylist_perh, nhome_perh, nadvert_perh, nhelp_perh, nerror_perh*** : songs played per hour, thumbs up per hour, thumbs down per hour, friends added per hour, songs added to playlist per hour, home page visits per hour, advertisements played per hour, help page visits per hour, errors per hour (all calculated in the same way as *nact_perh* above);\n",
    "\n",
    "#### Activity type ratios\n",
    "\n",
    "- ***songratio*** : number of songs played relative to all user interactions, calculated as $$songratio = \\frac{nsongs}{nact}$$\n",
    "\n",
    "\n",
    "- ***positiveratio*** : number of positive interactions relative to all user interactions, calculated as $$positiveratio = \\frac{ntbup + nfriend + nplaylist}{nact},$$ where _ntbup_, _nfriend_ and _nplaylist_ represent number of thumbs up given, friends added and songs added to playlist, respectively;\n",
    "\n",
    "\n",
    "- ***negativeratio*** : number of negative or non-pleasant interactions relative to all interactions, calculated as $$negativeratio = \\frac{ntbdown + nhelp + nerror+ nsettings}{nact},$$ where _ntbdown_, _nhelp_,  _nerror_ and _nsettings_ represent number of thumbs down given, help page visits, errors and settings page visits, respectively;\n",
    "\n",
    "\n",
    "- ***updownratio*** : ratio between the number of thumbs up and thumbs down given $$updownratio = \\frac{ntbup}{ntbdown+0.1}$$\n",
    "\n",
    "\n",
    "- ***upgradedowngrade*** : total number of subscription plan changes, calculated as $$upgradedowngrade = nugrade + ndgrade,$$ where _nugrade_ is the number of upgrades from free to paid plan and _ndgrade_ downgrades from paid to free plan;\n",
    "\n",
    "#### Trend features\n",
    "\n",
    "- ***trend_act*** : user's activity trend, calculated as $$trend\\_act = \\frac{nact\\_recent(k) - nact\\_oldest(k)}{k \\times obshours},$$\n",
    "where *nact_recent(k)* and *nact_oldest(k)* represent the number of interactions the user had with the service in the last and first _k_ days (default k = 14) of the observation window, respectively (the difference in activity is also scaled with the length of the observation window);\n",
    "\n",
    "\n",
    "- ***trend_songs*** : user's song playing trend, calculated as $$trend\\_songs = \\frac{nsongs\\_recent(k) - nsongs\\_oldest(k)}{k \\times obshours},$$\n",
    "where *nsongs_recent(k)* and *nsongs_oldest(k)* count how many songs the user played in the last and first _k_ days (default k = 14) of the observation window, respectively (the difference in activity is scaled with the length of the observation window);\n",
    "\n",
    "#### Interaction patterns\n",
    "\n",
    "In addition to the features that are built on aggregated statistics measured throughout the observation period, we have also included three extra features that reflect user's interaction patterns:\n",
    "\n",
    "- ***avgsessionitems*** : user's average number of interactions in a given session (to recall, two consecutive logs belong to the same session if there is less than one hour between them);\n",
    "\n",
    "\n",
    "- ***avgsessiontime*** : user's average session length;\n",
    "\n",
    "\n",
    "\n",
    "- ***avgsongs*** : user's average number of songs played between two consecutive home page visits\n",
    "\n",
    "\n",
    "\n",
    "\n",
    "### Categorical Features\n",
    "In addition to all the above-defined features, we have decided to use two **categorical** user-level features in the model: user's ***gender*** and user's last subscription level stored in the ***lastlevel*** variable. Both have been obtained already in the step above, so no further data transformations were needed."
   ]
  },
  {
   "cell_type": "code",
   "execution_count": 52,
   "metadata": {},
   "outputs": [],
   "source": [
    "# Calculation of the defined features that will be used for identifying churned users\n",
    "# The first added column, 'obshours', represents the length of the user-specific observation period in hours. The column \n",
    "# is not one of the features but is used to calculate all aggregated statistics per hour\n",
    "df_user = df_user.withColumn('obshours', (col('obsend') - col('obsstart'))/1000/3600)\\\n",
    ".withColumn('nact_perh', col('nact') / col('obshours'))\\\n",
    ".withColumn('nsongs_perh', col('nsongs') / col('obshours'))\\\n",
    ".withColumn('ntbup_perh', col('ntbup') / col('obshours'))\\\n",
    ".withColumn('ntbdown_perh', col('ntbdown') / col('obshours'))\\\n",
    ".withColumn('nfriend_perh', col('nfriend') / col('obshours'))\\\n",
    ".withColumn('nplaylist_perh', col('nplaylist') / col('obshours'))\\\n",
    ".withColumn('nhome_perh', col('nhome') / col('obshours'))\\\n",
    ".withColumn('nadvert_perh', col('nadvert') / col('obshours'))\\\n",
    ".withColumn('nerror_perh', col('nerror') / col('obshours'))\\\n",
    ".withColumn('upgradedowngrade', col('nugrade') + col('ndgrade'))\\\n",
    ".withColumn('songratio', col('nsongs') / col('nact'))\\\n",
    ".withColumn('positiveratio', (col('ntbup') + col('nfriend') + col('nplaylist')) / col('nact'))\\\n",
    ".withColumn('negativeratio', (col('ntbdown') + col('nhelp') + col('nerror') + col('nsettings')) / col('nact'))\\\n",
    ".withColumn('updownratio', col('ntbup') / (col('ntbdown') + 0.1))\\\n",
    ".withColumn('nact_recent_perh', col('nact_recent') / trend_est_hours)\\\n",
    ".withColumn('nact_oldest_perh', col('nact_oldest') / trend_est_hours)\\\n",
    ".withColumn('nsongs_recent_perh', col('nsongs_recent') / trend_est_hours)\\\n",
    ".withColumn('nsongs_oldest_perh', col('nsongs_oldest') / trend_est_hours)\\\n",
    ".withColumn('trend_act', (col('nact_recent_perh') - col('nact_oldest_perh')) / col('obshours'))\\\n",
    ".withColumn('trend_songs', (col('nsongs_recent_perh') - col('nsongs_oldest_perh')) / col('obshours'))"
   ]
  },
  {
   "cell_type": "code",
   "execution_count": 53,
   "metadata": {},
   "outputs": [
    {
     "name": "stdout",
     "output_type": "stream",
     "text": [
      "+------+--------------------+-------------------+--------------------+--------------------+--------------------+\n",
      "|userId|           nact_perh|        nsongs_perh|          ntbup_perh|        ntbdown_perh|        nfriend_perh|\n",
      "+------+--------------------+-------------------+--------------------+--------------------+--------------------+\n",
      "|100010| 0.26024590163934425| 0.1878415300546448|0.011612021857923498|0.003415300546448...| 0.00273224043715847|\n",
      "|200002|  0.3237704918032787|0.26434426229508196|0.014344262295081968|0.004098360655737705| 0.00273224043715847|\n",
      "|   125|0.040954868975445695| 0.0297853592548696|                 0.0|                 0.0|                 0.0|\n",
      "|   124|   3.295765027322404|   2.78620218579235|  0.1168032786885246|0.028005464480874317|0.050546448087431695|\n",
      "|    51|   6.291188761195258|  5.389894267403892|   0.255324219204353|0.053618086032914125| 0.07149078137721884|\n",
      "+------+--------------------+-------------------+--------------------+--------------------+--------------------+\n",
      "only showing top 5 rows\n",
      "\n"
     ]
    }
   ],
   "source": [
    "# Engineered features - aggregated statistics per hour\n",
    "df_user.select(['userId','nact_perh','nsongs_perh', 'ntbup_perh','ntbdown_perh','nfriend_perh']).show(5)"
   ]
  },
  {
   "cell_type": "code",
   "execution_count": 54,
   "metadata": {},
   "outputs": [
    {
     "name": "stdout",
     "output_type": "stream",
     "text": [
      "+------+----------------+------------------+-------------------+--------------------+------------------+\n",
      "|userId|upgradedowngrade|         songratio|      positiveratio|       negativeratio|       updownratio|\n",
      "+------+----------------+------------------+-------------------+--------------------+------------------+\n",
      "|100010|               0|0.7217847769028871|0.07349081364829396| 0.01837270341207349|3.3333333333333335|\n",
      "|200002|               1|0.8164556962025317|0.06962025316455696|0.023206751054852322|3.4426229508196724|\n",
      "|   125|               0|0.7272727272727273|                0.0|                 0.0|               0.0|\n",
      "|    51|               0| 0.856737012987013|0.07305194805194805|0.018668831168831168| 4.739336492890995|\n",
      "|   124|               0|0.8453886010362694|0.07523316062176166| 0.01865284974093264| 4.160583941605839|\n",
      "+------+----------------+------------------+-------------------+--------------------+------------------+\n",
      "only showing top 5 rows\n",
      "\n"
     ]
    }
   ],
   "source": [
    "# Engineered features - activity type ratios\n",
    "df_user.select(['userId', 'upgradedowngrade', 'songratio', 'positiveratio', 'negativeratio', 'updownratio']).show(5)"
   ]
  },
  {
   "cell_type": "code",
   "execution_count": 55,
   "metadata": {},
   "outputs": [
    {
     "name": "stdout",
     "output_type": "stream",
     "text": [
      "+------+--------------------+--------------------+\n",
      "|userId|           trend_act|         trend_songs|\n",
      "+------+--------------------+--------------------+\n",
      "|100010|-1.42304189435336...|-1.42304189435337...|\n",
      "|200002|-7.52179287015352...|-4.87900078064012...|\n",
      "|   125|                 0.0|                 0.0|\n",
      "|   124|-0.00118722352328...|-9.77833073119958...|\n",
      "|    51|-0.00142100086283...|-0.00108664771863...|\n",
      "+------+--------------------+--------------------+\n",
      "only showing top 5 rows\n",
      "\n"
     ]
    }
   ],
   "source": [
    "# Engineered features - trend features\n",
    "df_user.select(['userId', 'trend_act', 'trend_songs']).show(5)"
   ]
  },
  {
   "cell_type": "code",
   "execution_count": 56,
   "metadata": {},
   "outputs": [
    {
     "name": "stdout",
     "output_type": "stream",
     "text": [
      "+------+------------------+--------------------+------------------+\n",
      "|userId|   avgsessionitems|    avgsessionlength|          avgsongs|\n",
      "+------+------------------+--------------------+------------------+\n",
      "|100010| 54.42857142857143|           9269000.0|22.916666666666668|\n",
      "|200002|              80.0|            1.5984E7|18.428571428571427|\n",
      "|   125|              10.0|           1774000.0|               8.0|\n",
      "|   124|170.13793103448276|3.4739655172413796E7|23.176136363636363|\n",
      "|    51|             251.9|           5.23414E7| 28.14666666666667|\n",
      "+------+------------------+--------------------+------------------+\n",
      "only showing top 5 rows\n",
      "\n"
     ]
    }
   ],
   "source": [
    "# Calculation of user's average number of items per session\n",
    "session_avgnitems = df.groupby(['userId', 'sessionId'])\\\n",
    ".agg(Fmax(col('itemInSession')).alias('nitems'))\\\n",
    ".groupby('userId').agg(avg(col('nitems')).alias('avgsessionitems'))\n",
    "\n",
    "\n",
    "# Calculation of user's average session length\n",
    "session_avglength = df.groupby(['userId', 'sessionId'])\\\n",
    ".agg(Fmin(col('ts')).alias('startsession'), Fmax(col('ts')).alias('endsession'))\\\n",
    ".groupby('userId').agg(avg(col('endsession')-col('startsession')).alias('avgsessionlength'))\n",
    "\n",
    "\n",
    "# Calculations to obtain user's average number of songs played between consecutive home visits\n",
    "windowhome = (Window.partitionBy('userId').orderBy('ts').rangeBetween(Window.unboundedPreceding, 0))\n",
    "df = df.withColumn(\"phasehome\", Fsum(when(df.page == \"Home\", 1).otherwise(0)).over(windowhome))\n",
    "\n",
    "songs_home = df.groupby(['userId', 'phasehome'])\\\n",
    ".agg(Fsum(when(col('page') == \"NextSong\", 1).otherwise(0)).alias('total'))\\\n",
    ".groupby('userId').agg(avg(col('total')).alias('avgsongs'))\n",
    "\n",
    "\n",
    "# Adding the extra features to the df_user dataset with all other engineered features\n",
    "df_user = df_user\\\n",
    ".join(session_avgnitems, on = 'userId')\\\n",
    ".join(session_avglength, on = 'userId')\\\n",
    ".join(songs_home, on = 'userId')\n",
    "\n",
    "\n",
    "# Engineered features - user's activity patterns\n",
    "df_user.select(['userId', 'avgsessionitems', 'avgsessionlength', 'avgsongs']).show(5)"
   ]
  },
  {
   "cell_type": "markdown",
   "metadata": {},
   "source": [
    "### Define Churn\n"
   ]
  },
  {
   "cell_type": "markdown",
   "metadata": {},
   "source": [
    "label : binary response variable, where:\n",
    "\n",
    "* 1 represents churned users who cancelled the subscription (irrespective of the subscription plan, free or paid) within the observation period between October 1 and November 30;\n",
    "* 0 represents users who kept the music streaming service throughout the observation period"
   ]
  },
  {
   "cell_type": "code",
   "execution_count": 57,
   "metadata": {},
   "outputs": [],
   "source": [
    "# Calculating the binary response variable\n",
    "df_user = df_user.withColumn('label', when(df_user.endstate == \"Cancellation Confirmation\", 1).otherwise(0))"
   ]
  },
  {
   "cell_type": "code",
   "execution_count": 58,
   "metadata": {},
   "outputs": [
    {
     "data": {
      "image/png": "[encoded data removed]",
      "text/plain": [
       "<Figure size 216x288 with 1 Axes>"
      ]
     },
     "metadata": {
      "needs_background": "light"
     },
     "output_type": "display_data"
    }
   ],
   "source": [
    "# Distribution of the binary response variable in the analyzed dataset\n",
    "label_pd = df_user.groupby('label').count().toPandas()\n",
    "\n",
    "# Plot\n",
    "plt.rcParams['figure.figsize'] = (3,4)\n",
    "sns.barplot(x='label', y = 'count', data = label_pd, palette = palette, saturation = 1);\n",
    "plt.title('Class Distribution');"
   ]
  },
  {
   "cell_type": "code",
   "execution_count": 59,
   "metadata": {},
   "outputs": [
    {
     "data": {
      "image/png": "[encoded data removed]",
      "text/plain": [
       "<Figure size 432x288 with 1 Axes>"
      ]
     },
     "metadata": {
      "needs_background": "light"
     },
     "output_type": "display_data"
    }
   ],
   "source": [
    "# Similar ratio also on the full Sparkify dataset \n",
    "# Copied from notebook used on the CLUSTER:  [5003, 17274]\n",
    "label_pd['Subset'] = label_pd['count'] / sum(label_pd['count'])\n",
    "label_pd['count_full'] = [5003, 17274]\n",
    "label_pd = label_pd.sort_values('label')\n",
    "label_pd['Full Sparkify Dataset'] = label_pd['count_full'] / sum(label_pd['count_full'])\n",
    "\n",
    "# Plot\n",
    "plt.rcParams['figure.figsize'] = (6,4)\n",
    "label_pd.plot(x='label', y= ['Full Sparkify Dataset', 'Subset'], kind = 'bar', rot = 0, color = [color1, color2]);\n",
    "plt.ylabel('Frequency');\n",
    "plt.title('Class Distribution');\n",
    "plt.savefig('classdist.png')"
   ]
  },
  {
   "cell_type": "code",
   "execution_count": 60,
   "metadata": {},
   "outputs": [
    {
     "name": "stdout",
     "output_type": "stream",
     "text": [
      "root\n",
      " |-- userId: string (nullable = true)\n",
      " |-- lastlevel: integer (nullable = true)\n",
      " |-- gender: integer (nullable = true)\n",
      " |-- obsstart: long (nullable = true)\n",
      " |-- obsend: long (nullable = true)\n",
      " |-- endstate: string (nullable = true)\n",
      " |-- nact: long (nullable = false)\n",
      " |-- nsongs: long (nullable = true)\n",
      " |-- ntbup: long (nullable = true)\n",
      " |-- ntbdown: long (nullable = true)\n",
      " |-- nfriend: long (nullable = true)\n",
      " |-- nplaylist: long (nullable = true)\n",
      " |-- ndgrade: long (nullable = true)\n",
      " |-- nugrade: long (nullable = true)\n",
      " |-- nhome: long (nullable = true)\n",
      " |-- nadvert: long (nullable = true)\n",
      " |-- nhelp: long (nullable = true)\n",
      " |-- nsettings: long (nullable = true)\n",
      " |-- nerror: long (nullable = true)\n",
      " |-- nact_recent: long (nullable = true)\n",
      " |-- nact_oldest: long (nullable = true)\n",
      " |-- nsongs_recent: long (nullable = true)\n",
      " |-- nsongs_oldest: long (nullable = true)\n",
      " |-- obshours: double (nullable = true)\n",
      " |-- nact_perh: double (nullable = true)\n",
      " |-- nsongs_perh: double (nullable = true)\n",
      " |-- ntbup_perh: double (nullable = true)\n",
      " |-- ntbdown_perh: double (nullable = true)\n",
      " |-- nfriend_perh: double (nullable = true)\n",
      " |-- nplaylist_perh: double (nullable = true)\n",
      " |-- nhome_perh: double (nullable = true)\n",
      " |-- nadvert_perh: double (nullable = true)\n",
      " |-- nerror_perh: double (nullable = true)\n",
      " |-- upgradedowngrade: long (nullable = true)\n",
      " |-- songratio: double (nullable = true)\n",
      " |-- positiveratio: double (nullable = true)\n",
      " |-- negativeratio: double (nullable = true)\n",
      " |-- updownratio: double (nullable = true)\n",
      " |-- nact_recent_perh: double (nullable = true)\n",
      " |-- nact_oldest_perh: double (nullable = true)\n",
      " |-- nsongs_recent_perh: double (nullable = true)\n",
      " |-- nsongs_oldest_perh: double (nullable = true)\n",
      " |-- trend_act: double (nullable = true)\n",
      " |-- trend_songs: double (nullable = true)\n",
      " |-- avgsessionitems: double (nullable = true)\n",
      " |-- avgsessionlength: double (nullable = true)\n",
      " |-- avgsongs: double (nullable = true)\n",
      " |-- label: integer (nullable = false)\n",
      "\n"
     ]
    }
   ],
   "source": [
    "# Final schema of the transformed dataset\n",
    "df_user.printSchema()"
   ]
  },
  {
   "cell_type": "markdown",
   "metadata": {},
   "source": [
    "# 5. Exploratory Data Analysis\n",
    "After completing the feature engineering step we have analyzed the correlations between the built features, and performed also a brief exploratory data analysis with visualizations to inspect how the features relate to the binary response."
   ]
  },
  {
   "cell_type": "code",
   "execution_count": 61,
   "metadata": {},
   "outputs": [],
   "source": [
    "# For visualization purposes we switch to pandas dataframes\n",
    "df_user_pd = df_user.toPandas()"
   ]
  },
  {
   "cell_type": "code",
   "execution_count": 62,
   "metadata": {},
   "outputs": [
    {
     "data": {
      "image/png": "[encoded data removed]",
      "text/plain": [
       "<Figure size 720x720 with 2 Axes>"
      ]
     },
     "metadata": {
      "needs_background": "light"
     },
     "output_type": "display_data"
    }
   ],
   "source": [
    "# Calculate correlations between numerical features\n",
    "cormat = df_user_pd[['nact_perh','nsongs_perh', 'nhome_perh', 'ntbup_perh','ntbdown_perh', 'nfriend_perh','nplaylist_perh', \n",
    "'nadvert_perh', 'nerror_perh', 'upgradedowngrade', 'songratio', 'positiveratio','negativeratio', \n",
    "'updownratio', 'trend_act', 'trend_songs', 'avgsessionitems',  'avgsessionlength','avgsongs']].corr()\n",
    "\n",
    "# Plot correlations\n",
    "plt.rcParams['figure.figsize'] = (10,10)\n",
    "plt.subplots_adjust(left=0.20, right=0.9, top=0.95, bottom=0.15)\n",
    "sns.heatmap(cormat, cmap = \"YlGnBu\", square = True, vmin = -1, vmax = 1);\n",
    "plt.title('Feature correlations');\n",
    "plt.savefig('correlations.png')"
   ]
  },
  {
   "cell_type": "markdown",
   "metadata": {},
   "source": [
    "#### Exploratory Data Analysis\n",
    "For each engineered feature (except the ones removed in the step above) we have analyzed its relationship with the binary response variable. This was done by comparing the feature distributions between users who churned and users who kept the service. From the visualizations presented below the following _stylized_ observations have been made:\n",
    "- on average churned users played more songs per hour;\n",
    "- churned users gave significantly more thumbs down per hour, and had to watch more advertisements on average;\n",
    "- the ratio of songs and positive interactions relative to total activity was typically lower for churned users\n",
    "- churned users had on average less interactions per session\n",
    "- churn rate is higher for users in the free subscription plan\n",
    "- churn rate is slightly higher for male users\n",
    " \n",
    "No features have been removed based on this analysis."
   ]
  },
  {
   "cell_type": "code",
   "execution_count": 63,
   "metadata": {},
   "outputs": [
    {
     "data": {
      "image/png": "[encoded data removed]",
      "text/plain": [
       "<Figure size 864x1152 with 14 Axes>"
      ]
     },
     "metadata": {
      "needs_background": "light"
     },
     "output_type": "display_data"
    }
   ],
   "source": [
    "# Plotting the relationship between each numerical feature and binary response\n",
    "\n",
    "# Numerical features\n",
    "col = ['nsongs_perh', 'ntbup_perh', 'ntbdown_perh', \n",
    "       'nfriend_perh', 'nadvert_perh', 'nerror_perh',\n",
    "       'upgradedowngrade', 'songratio', 'positiveratio',\n",
    "       'negativeratio', 'updownratio', 'trend_songs', \n",
    "       'avgsessionitems','avgsongs']\n",
    "\n",
    "plt.rcParams['figure.figsize'] = (12,16)\n",
    "for i in range(len(col)):\n",
    "    plt.subplot(5,3,i+1)\n",
    "    plt.tight_layout();\n",
    "    sns.distplot(df_user_pd[df_user_pd['label'] == 0][col[i]], hist = False, norm_hist = True, \n",
    "                 kde_kws = {'shade': True, 'linewidth': 2}, color = color1);\n",
    "    sns.distplot(df_user_pd[df_user_pd['label'] == 1][col[i]], hist = False, norm_hist = True, \n",
    "                 kde_kws = {'shade': True, 'linewidth': 2}, color = color2);\n",
    "    plt.legend(['Not Churned','Churned']);\n",
    "    plt.title(col[i]);\n",
    "    plt.xlabel(\" \");\n",
    "    plt.yticks([]);\n",
    "    plt.savefig('exploratory.png')"
   ]
  },
  {
   "cell_type": "code",
   "execution_count": 64,
   "metadata": {},
   "outputs": [
    {
     "data": {
      "image/png": "[encoded data removed]",
      "text/plain": [
       "<Figure size 864x360 with 2 Axes>"
      ]
     },
     "metadata": {
      "needs_background": "light"
     },
     "output_type": "display_data"
    }
   ],
   "source": [
    "# Analyzing the relationship between categorical features and binary response\n",
    "# From the visualization we can infer the difference in churn rates between categories of each feature\n",
    "plt.rcParams['figure.figsize'] = (12,5)\n",
    "\n",
    "# Last subscription level vs label\n",
    "plt.subplot(1,2,1)\n",
    "sns.countplot(x = 'lastlevel', data = df_user_pd, hue = 'label', palette = palette, saturation = 1);\n",
    "plt.legend(['Not Churned', 'Churned']);\n",
    "\n",
    "# Gender vs label\n",
    "plt.subplot(1,2,2)\n",
    "sns.countplot(x = 'gender', data = df_user_pd, hue = 'label', palette = palette, saturation = 1);\n",
    "plt.legend(['Not Churned', 'Churned']);\n",
    "\n",
    "plt.savefig('catexploratory')"
   ]
  },
  {
   "cell_type": "markdown",
   "metadata": {},
   "source": [
    "# 6. Modeling and Evaluation\n",
    "\n",
    "We have used Spark's machine learning capabilities to build pipelines that first standardize and combine the engineered features, and then fit one of the Spark-supported binary classifiers. We have performed grid search with cross validation to test several parameter combinations for different classifiers, using the smaller Sparkify dataset in Spark local model. Based on the performance results obtained in cross validation (measured by F1 Score), we have then selected models with best parameter combinations and retrained them on the entire training set. Ultimately, we have evaluated their performance on the test set, using standard binary classification metrics, such as F1 score.\n"
   ]
  },
  {
   "cell_type": "markdown",
   "metadata": {},
   "source": [
    "Pipelines\n",
    "\n",
    "We have first built three different ***Pipeline*** objects for three binary classifiers supported in Spark: **Logistic Regression**, **Random Forest Classifier** and **Gradient-Boosted Tree Classifier**. To recall, the input feature dataset consists of:\n",
    "- **14 numerical features** (some of the engineered features were removed in the correlation analysis), namely *nsongs_perh*, *ntbup_perh*, *ntbdown_perh*, *nfriend_perh*, *nadvert_perh*, *nerror_perh*, *upgradedowngrade*, *songratio*, *positiveratio*, *negativeratio*, *updownratio*, *trend_songs*, *avgsessionitems*, *avgsongs* (see descriptions in 3.3.)\n",
    "- **2 binary features**, *lastlevel* and *gender*\n",
    "\n",
    "Each pipeline combines the following three objects:\n",
    "1. ***StandardScaler*** that standardizes the numerical features\n",
    "2. ***VectorAssembler*** that combines them with binary features (already transformed to 0/1 thus no additional transformations are needed)\n",
    "3. selected **binary classifier** with default parameters (parameters will anyway be passed during grid search)"
   ]
  },
  {
   "cell_type": "code",
   "execution_count": 65,
   "metadata": {},
   "outputs": [],
   "source": [
    "numeric_columns = ['nsongs_perh', 'ntbup_perh','ntbdown_perh', 'nfriend_perh', \n",
    "'nadvert_perh', 'nerror_perh', 'upgradedowngrade', 'songratio', 'positiveratio','negativeratio', \n",
    "'updownratio', 'trend_songs', 'avgsessionitems','avgsongs']\n",
    "\n",
    "# Combining multiple numerical features using VectorAssembler\n",
    "numeric_assembler = VectorAssembler(inputCols = numeric_columns, outputCol = \"numericvectorized\")\n",
    "\n",
    "# Standardizing numerical features\n",
    "scaler = StandardScaler(inputCol = \"numericvectorized\", outputCol = \"numericscaled\", withStd = True, withMean = True)\n",
    "\n",
    "# Adding the two binary features\n",
    "binary_columns = ['lastlevel', 'gender']\n",
    "total_assembler = VectorAssembler(inputCols = binary_columns + [\"numericscaled\"], outputCol = \"features\")\n",
    "\n",
    "# Defining three different pipelines with three different classifiers, all with default parameters\n",
    "# Logistic regression \n",
    "lr =  LogisticRegression()\n",
    "pipeline_lr = Pipeline(stages = [numeric_assembler, scaler, total_assembler, lr])\n",
    "\n",
    "# Random forest classifier\n",
    "rf = RandomForestClassifier()\n",
    "pipeline_rf = Pipeline(stages = [numeric_assembler, scaler, total_assembler, rf])\n",
    "\n",
    "# Gradient-boosted tree classifier\n",
    "gb = GBTClassifier()\n",
    "pipeline_gb = Pipeline(stages = [numeric_assembler, scaler, total_assembler, gb])"
   ]
  },
  {
   "cell_type": "markdown",
   "metadata": {},
   "source": [
    "4.2 Grid Search Objects\n",
    "We have then defined PySpark's grid search objects, namely ***CrossValidator*** objects, that are used to test several parameter combinations for different classifiers, using cross validation. In order to reduce computation times we have only focused on tuning the most prominent parameters of each classifier. The tested parameter values are presented in brackets in the list below.\n",
    "\n",
    "**a) Logistic Regression**\n",
    "- ***maxIter*** (maximum number of iterations, default=100) : **[10, 30]**\n",
    "- ***regParam*** (regularization parameter, default=0.0) : **[0.0, 0.1]**\n",
    "- ***elasticNetParam*** (mixing parameter - 0 for L2 penalty, 1 for L1 penalty, default=0.0) : **[0.0, 0.5]**\n",
    "\n",
    "**b) Random Forest Classifier**\n",
    "- ***maxDepth*** (maximum tree depth, default=5) : **[4, 5, 6, 7]** \n",
    "- ***numTrees*** (number of trees, default=20) : **[20, 40]**\n",
    "\n",
    "**c) Gradient-Boosted Tree Classifier**\n",
    "- ***maxDepth*** (maximum tree depth, default=5) : **[4, 5]**\n",
    "- ***maxIter*** (maximum number of iterations, default=20) : **[20, 100]**\n",
    "\n",
    "\n",
    "In our definition of the grid search objects the performance of each parameter combination is measured the **F1 score** as an custom cross validation evaluator. "
   ]
  },
  {
   "cell_type": "code",
   "execution_count": 66,
   "metadata": {},
   "outputs": [],
   "source": [
    "#Custom F1 score evaluator that we can use instead of BinaryClassificationEvaluator() in grid search\n",
    "class F1score(Evaluator):\n",
    "\n",
    "    def __init__(self, predictionCol = \"prediction\", labelCol=\"label\"):\n",
    "        self.predictionCol = predictionCol\n",
    "        self.labelCol = labelCol\n",
    "\n",
    "    def _evaluate(self, dataset):\n",
    "        \n",
    "        # Calculate F1 score \n",
    "        tp = dataset.where((dataset.label == 1) & (dataset.prediction == 1)).count()\n",
    "        fp = dataset.where((dataset.label == 0) & (dataset.prediction == 1)).count()\n",
    "        tn = dataset.where((dataset.label == 0) & (dataset.prediction == 0)).count()\n",
    "        fn = dataset.where((dataset.label == 1) & (dataset.prediction == 0)).count()\n",
    "        \n",
    "        # Add epsilon to prevent division by zero\n",
    "        precision = tp / (tp + fp + 0.00001)\n",
    "        recall = tp / (tp + fn + 0.00001)\n",
    "        \n",
    "        f1 = 2 * precision * recall / (precision + recall + 0.00001)\n",
    "        \n",
    "        return f1\n",
    "\n",
    "    def isLargerBetter(self):\n",
    "        return True"
   ]
  },
  {
   "cell_type": "code",
   "execution_count": 67,
   "metadata": {},
   "outputs": [],
   "source": [
    "# Logistic regression grid search\n",
    "\n",
    "# Parameter combinations\n",
    "paramGrid_lr = ParamGridBuilder()\\\n",
    ".addGrid(lr.maxIter, [10, 30]) \\\n",
    ".addGrid(lr.regParam, [0.0, 0.1]) \\\n",
    ".addGrid(lr.elasticNetParam, [0.0, 0.5]) \\\n",
    ".build()\n",
    "\n",
    "# Grid search with cross validation\n",
    "crossval_lr = CrossValidator(estimator = pipeline_lr,\n",
    "                          estimatorParamMaps = paramGrid_lr,\n",
    "                          evaluator = BinaryClassificationEvaluator(),\n",
    "                          #evaluator = F1score(),\n",
    "                          numFolds = 4)"
   ]
  },
  {
   "cell_type": "code",
   "execution_count": 68,
   "metadata": {},
   "outputs": [],
   "source": [
    "# Random forest classifier grid search\n",
    "\n",
    "# Parameter combinations\n",
    "paramGrid_rf = ParamGridBuilder() \\\n",
    ".addGrid(rf.maxDepth, [4, 5, 6, 7]) \\\n",
    ".addGrid(rf.numTrees, [20, 40]) \\\n",
    ".build()\n",
    "\n",
    "# Grid search with cross validation\n",
    "crossval_rf = CrossValidator(estimator = pipeline_rf,\n",
    "                          estimatorParamMaps = paramGrid_rf,\n",
    "                          evaluator = BinaryClassificationEvaluator(),\n",
    "                          #evaluator = F1score(),\n",
    "                          numFolds = 4)"
   ]
  },
  {
   "cell_type": "code",
   "execution_count": 69,
   "metadata": {},
   "outputs": [],
   "source": [
    "# Gradient-boosted tree classifier grid search\n",
    "\n",
    "# Parameter combinations\n",
    "paramGrid_gb = ParamGridBuilder() \\\n",
    ".addGrid(gb.maxDepth, [4, 5]) \\\n",
    ".addGrid(gb.maxIter, [20, 100]) \\\n",
    ".build()\n",
    "\n",
    "# Grid search with cross validation\n",
    "crossval_gb = CrossValidator(estimator = pipeline_gb,\n",
    "                          estimatorParamMaps = paramGrid_gb,\n",
    "                          evaluator = BinaryClassificationEvaluator(),\n",
    "                          #evaluator = F1score(),\n",
    "                          numFolds = 4)"
   ]
  },
  {
   "cell_type": "markdown",
   "metadata": {},
   "source": [
    "## Training/Test Data Split\n",
    "The input dataset has been split into training and test set using the **80/20** ratio. During the model tuning the training set is used in 4-fold cross validation so it is further split into multiple training and validation folds."
   ]
  },
  {
   "cell_type": "code",
   "execution_count": 70,
   "metadata": {},
   "outputs": [
    {
     "name": "stdout",
     "output_type": "stream",
     "text": [
      "Original dataset: 225 rows. Training and validation: 184 rows. Testing set: 41 rows\n"
     ]
    }
   ],
   "source": [
    "# Split the data into training (plus validation) and test set \n",
    "\n",
    "train_plus_val, test = df_user.randomSplit([0.8, 0.2], seed = 9) \n",
    "ntotal = df_user.count()\n",
    "ntrainval = train_plus_val.count()\n",
    "ntest = test.count()\n",
    "\n",
    "print(f'Original dataset: {ntotal} rows. Training and validation: {ntrainval} rows. Testing set: {ntest} rows')"
   ]
  },
  {
   "cell_type": "markdown",
   "metadata": {},
   "source": [
    "#### Model Training and Evaluation\n",
    "\n",
    "For each defined binary classifier/pipeline we have carried out the following steps:\n",
    "1. perform grid search with 4-fold cross validation by fitting the defined _CrossValidator_ object on the training data\n",
    "2. identify the parameter combinations that return the best F1 score in cross validation\n",
    "3. retrain the best model instance/pipeline on the entire training set\n",
    "4. if applicable, analyze feature importances\n",
    "5. evaluate the selected model instance on the test set using **F1** score metric\n",
    "\n",
    "\n",
    "#### Performance Metrics\n",
    "\n",
    "**AUC** is a standard binary classification metric that works well for imbalanced datasets. By using AUC one does not need to worry about where to set the probability threshold that translates the model output probabilities into positive and negative class predictions, since AUC summarizes model's performance over all possible thresholds. This works well in a research environment, but not so much if trying to deploy the model in production, as there needs to be an exact threshold in place to interpret the prediction probabilities.\n",
    "\n",
    "**F1 score** seems even a better choice for measuring the performance of the implemented binary classifier on a given problem, in which we are working with an imbalanced dataset, and where a strong focus needs to be put on the accurate prediction of the positive class representing churned users. As a music streaming service we want to identify most of the users that are likely to churn (aiming for high recall), but at the same time do not want to give too many discounts and incentives to stay for no reason (aiming for high precision), i.e. to users who are actually happy with the service (false positives), as this can have significant financial implications too. "
   ]
  },
  {
   "cell_type": "markdown",
   "metadata": {},
   "source": [
    "## Grid Search Tuning Process"
   ]
  },
  {
   "cell_type": "markdown",
   "metadata": {},
   "source": [
    "### Logistic Regression"
   ]
  },
  {
   "cell_type": "code",
   "execution_count": 71,
   "metadata": {},
   "outputs": [
    {
     "name": "stdout",
     "output_type": "stream",
     "text": [
      "Time spent for grid search: 367 seconds\n"
     ]
    },
    {
     "data": {
      "text/html": [
       "<div>\n",
       "<style scoped>\n",
       "    .dataframe tbody tr th:only-of-type {\n",
       "        vertical-align: middle;\n",
       "    }\n",
       "\n",
       "    .dataframe tbody tr th {\n",
       "        vertical-align: top;\n",
       "    }\n",
       "\n",
       "    .dataframe thead th {\n",
       "        text-align: right;\n",
       "    }\n",
       "</style>\n",
       "<table border=\"1\" class=\"dataframe\">\n",
       "  <thead>\n",
       "    <tr style=\"text-align: right;\">\n",
       "      <th></th>\n",
       "      <th>maxIter</th>\n",
       "      <th>regParam</th>\n",
       "      <th>elasticNetParam</th>\n",
       "      <th>AUC score</th>\n",
       "    </tr>\n",
       "  </thead>\n",
       "  <tbody>\n",
       "    <tr>\n",
       "      <th>0</th>\n",
       "      <td>10</td>\n",
       "      <td>0.0</td>\n",
       "      <td>0.0</td>\n",
       "      <td>0.792682</td>\n",
       "    </tr>\n",
       "    <tr>\n",
       "      <th>1</th>\n",
       "      <td>10</td>\n",
       "      <td>0.0</td>\n",
       "      <td>0.5</td>\n",
       "      <td>0.792682</td>\n",
       "    </tr>\n",
       "    <tr>\n",
       "      <th>2</th>\n",
       "      <td>10</td>\n",
       "      <td>0.1</td>\n",
       "      <td>0.0</td>\n",
       "      <td>0.816353</td>\n",
       "    </tr>\n",
       "    <tr>\n",
       "      <th>3</th>\n",
       "      <td>10</td>\n",
       "      <td>0.1</td>\n",
       "      <td>0.5</td>\n",
       "      <td>0.748141</td>\n",
       "    </tr>\n",
       "    <tr>\n",
       "      <th>4</th>\n",
       "      <td>30</td>\n",
       "      <td>0.0</td>\n",
       "      <td>0.0</td>\n",
       "      <td>0.796390</td>\n",
       "    </tr>\n",
       "    <tr>\n",
       "      <th>5</th>\n",
       "      <td>30</td>\n",
       "      <td>0.0</td>\n",
       "      <td>0.5</td>\n",
       "      <td>0.796390</td>\n",
       "    </tr>\n",
       "    <tr>\n",
       "      <th>6</th>\n",
       "      <td>30</td>\n",
       "      <td>0.1</td>\n",
       "      <td>0.0</td>\n",
       "      <td>0.816353</td>\n",
       "    </tr>\n",
       "    <tr>\n",
       "      <th>7</th>\n",
       "      <td>30</td>\n",
       "      <td>0.1</td>\n",
       "      <td>0.5</td>\n",
       "      <td>0.748141</td>\n",
       "    </tr>\n",
       "  </tbody>\n",
       "</table>\n",
       "</div>"
      ],
      "text/plain": [
       "   maxIter  regParam  elasticNetParam  AUC score\n",
       "0       10       0.0              0.0   0.792682\n",
       "1       10       0.0              0.5   0.792682\n",
       "2       10       0.1              0.0   0.816353\n",
       "3       10       0.1              0.5   0.748141\n",
       "4       30       0.0              0.0   0.796390\n",
       "5       30       0.0              0.5   0.796390\n",
       "6       30       0.1              0.0   0.816353\n",
       "7       30       0.1              0.5   0.748141"
      ]
     },
     "execution_count": 71,
     "metadata": {},
     "output_type": "execute_result"
    }
   ],
   "source": [
    "# Perform the grid search by fitting the grid search object\n",
    "start = time.time()\n",
    "crossvalmodel_lr = crossval_lr.fit(train_plus_val)\n",
    "end = time.time()\n",
    "print(f'Time spent for grid search: {round(end-start)} seconds')\n",
    "\n",
    "# Store grid search results in a dataframe\n",
    "scores = crossvalmodel_lr.avgMetrics\n",
    "params = [{p.name: v for p, v in m.items()} for m in crossvalmodel_lr.getEstimatorParamMaps()]\n",
    "params_pd = pd.DataFrame(params)\n",
    "params_pd['AUC score'] = scores\n",
    "params_pd"
   ]
  },
  {
   "cell_type": "code",
   "execution_count": 72,
   "metadata": {},
   "outputs": [
    {
     "name": "stdout",
     "output_type": "stream",
     "text": [
      "Time spent for training: 24 seconds\n"
     ]
    }
   ],
   "source": [
    "# Retrain the classifier with the best performing parameters\n",
    "best_lr =  LogisticRegression(maxIter = 10, regParam = 0.0)\n",
    "pipeline_best_lr = Pipeline(stages = [numeric_assembler, scaler, total_assembler, best_lr])\n",
    "\n",
    "start = time.time()\n",
    "model_lr = pipeline_best_lr.fit(train_plus_val)\n",
    "end = time.time()\n",
    "print(f'Time spent for training: {round(end-start)} seconds')"
   ]
  },
  {
   "cell_type": "code",
   "execution_count": 74,
   "metadata": {},
   "outputs": [
    {
     "name": "stdout",
     "output_type": "stream",
     "text": [
      "+------+-----+--------------------+--------------------+----------+\n",
      "|userId|label|       rawPrediction|         probability|prediction|\n",
      "+------+-----+--------------------+--------------------+----------+\n",
      "|    51|    1|[-1.2024468168135...|[0.23104022741089...|       1.0|\n",
      "|   155|    0|[4.40301849884877...|[0.98790767745676...|       0.0|\n",
      "|100021|    1|[-0.1753936820462...|[0.45626364363306...|       1.0|\n",
      "|    64|    0|[3.39877755604175...|[0.96766630906047...|       0.0|\n",
      "|     3|    1|[1.27649919792672...|[0.78185327324561...|       0.0|\n",
      "+------+-----+--------------------+--------------------+----------+\n",
      "only showing top 5 rows\n",
      "\n"
     ]
    }
   ],
   "source": [
    "# Obtain predictions on the test set\n",
    "results_lr = model_lr.transform(test)\n",
    "results_lr.select(['userId','label','rawPrediction','probability','prediction']).show(5)"
   ]
  },
  {
   "cell_type": "code",
   "execution_count": 75,
   "metadata": {},
   "outputs": [
    {
     "name": "stdout",
     "output_type": "stream",
     "text": [
      "Logistic regression F1 score: 0.47058352944705867\n"
     ]
    }
   ],
   "source": [
    "# F1 score on the test set\n",
    "f1_evaluator = F1score()\n",
    "f1score_lr = f1_evaluator._evaluate(results_lr)\n",
    "print(f'Logistic regression F1 score: {f1score_lr}')"
   ]
  },
  {
   "cell_type": "markdown",
   "metadata": {},
   "source": [
    "### Random Forest Classifier"
   ]
  },
  {
   "cell_type": "code",
   "execution_count": 76,
   "metadata": {},
   "outputs": [
    {
     "name": "stdout",
     "output_type": "stream",
     "text": [
      "Time spent for grid search: 482 seconds\n"
     ]
    }
   ],
   "source": [
    "# Perform the grid search by fitting the grid search object\n",
    "start = time.time()\n",
    "crossvalmodel_rf = crossval_rf.fit(train_plus_val)\n",
    "end = time.time()\n",
    "print(f'Time spent for grid search: {round(end-start)} seconds')"
   ]
  },
  {
   "cell_type": "code",
   "execution_count": 77,
   "metadata": {},
   "outputs": [
    {
     "data": {
      "text/html": [
       "<div>\n",
       "<style scoped>\n",
       "    .dataframe tbody tr th:only-of-type {\n",
       "        vertical-align: middle;\n",
       "    }\n",
       "\n",
       "    .dataframe tbody tr th {\n",
       "        vertical-align: top;\n",
       "    }\n",
       "\n",
       "    .dataframe thead th {\n",
       "        text-align: right;\n",
       "    }\n",
       "</style>\n",
       "<table border=\"1\" class=\"dataframe\">\n",
       "  <thead>\n",
       "    <tr style=\"text-align: right;\">\n",
       "      <th></th>\n",
       "      <th>maxDepth</th>\n",
       "      <th>numTrees</th>\n",
       "      <th>score</th>\n",
       "    </tr>\n",
       "  </thead>\n",
       "  <tbody>\n",
       "    <tr>\n",
       "      <th>0</th>\n",
       "      <td>4</td>\n",
       "      <td>20</td>\n",
       "      <td>0.822112</td>\n",
       "    </tr>\n",
       "    <tr>\n",
       "      <th>1</th>\n",
       "      <td>4</td>\n",
       "      <td>40</td>\n",
       "      <td>0.826952</td>\n",
       "    </tr>\n",
       "    <tr>\n",
       "      <th>2</th>\n",
       "      <td>5</td>\n",
       "      <td>20</td>\n",
       "      <td>0.824946</td>\n",
       "    </tr>\n",
       "    <tr>\n",
       "      <th>3</th>\n",
       "      <td>5</td>\n",
       "      <td>40</td>\n",
       "      <td>0.834683</td>\n",
       "    </tr>\n",
       "    <tr>\n",
       "      <th>4</th>\n",
       "      <td>6</td>\n",
       "      <td>20</td>\n",
       "      <td>0.834331</td>\n",
       "    </tr>\n",
       "    <tr>\n",
       "      <th>5</th>\n",
       "      <td>6</td>\n",
       "      <td>40</td>\n",
       "      <td>0.841300</td>\n",
       "    </tr>\n",
       "    <tr>\n",
       "      <th>6</th>\n",
       "      <td>7</td>\n",
       "      <td>20</td>\n",
       "      <td>0.827938</td>\n",
       "    </tr>\n",
       "    <tr>\n",
       "      <th>7</th>\n",
       "      <td>7</td>\n",
       "      <td>40</td>\n",
       "      <td>0.844348</td>\n",
       "    </tr>\n",
       "  </tbody>\n",
       "</table>\n",
       "</div>"
      ],
      "text/plain": [
       "   maxDepth  numTrees     score\n",
       "0         4        20  0.822112\n",
       "1         4        40  0.826952\n",
       "2         5        20  0.824946\n",
       "3         5        40  0.834683\n",
       "4         6        20  0.834331\n",
       "5         6        40  0.841300\n",
       "6         7        20  0.827938\n",
       "7         7        40  0.844348"
      ]
     },
     "execution_count": 77,
     "metadata": {},
     "output_type": "execute_result"
    }
   ],
   "source": [
    "# Store grid search results in a dataframe\n",
    "scores = crossvalmodel_rf.avgMetrics\n",
    "params = [{p.name: v for p, v in m.items()} for m in crossvalmodel_rf.getEstimatorParamMaps()]\n",
    "params_pd = pd.DataFrame(params)\n",
    "params_pd['score'] = scores\n",
    "params_pd"
   ]
  },
  {
   "cell_type": "code",
   "execution_count": 78,
   "metadata": {},
   "outputs": [
    {
     "name": "stdout",
     "output_type": "stream",
     "text": [
      "Time spent for training: 47 seconds\n"
     ]
    }
   ],
   "source": [
    "# Retrain the classifier with the best performing parameters\n",
    "best_rf =  RandomForestClassifier(maxDepth = 4, numTrees = 40)\n",
    "pipeline_best_rf = Pipeline(stages = [numeric_assembler, scaler, total_assembler, best_rf])\n",
    "\n",
    "start = time.time()\n",
    "model_rf = pipeline_best_rf.fit(train_plus_val)\n",
    "end = time.time()\n",
    "print(f'Time spent for training: {round(end-start)} seconds')"
   ]
  },
  {
   "cell_type": "code",
   "execution_count": 79,
   "metadata": {},
   "outputs": [
    {
     "data": {
      "text/html": [
       "<div>\n",
       "<style scoped>\n",
       "    .dataframe tbody tr th:only-of-type {\n",
       "        vertical-align: middle;\n",
       "    }\n",
       "\n",
       "    .dataframe tbody tr th {\n",
       "        vertical-align: top;\n",
       "    }\n",
       "\n",
       "    .dataframe thead th {\n",
       "        text-align: right;\n",
       "    }\n",
       "</style>\n",
       "<table border=\"1\" class=\"dataframe\">\n",
       "  <thead>\n",
       "    <tr style=\"text-align: right;\">\n",
       "      <th></th>\n",
       "      <th>feature</th>\n",
       "      <th>importance</th>\n",
       "    </tr>\n",
       "  </thead>\n",
       "  <tbody>\n",
       "    <tr>\n",
       "      <th>6</th>\n",
       "      <td>nadvert_perh</td>\n",
       "      <td>0.189893</td>\n",
       "    </tr>\n",
       "    <tr>\n",
       "      <th>4</th>\n",
       "      <td>ntbdown_perh</td>\n",
       "      <td>0.108791</td>\n",
       "    </tr>\n",
       "    <tr>\n",
       "      <th>12</th>\n",
       "      <td>updownratio</td>\n",
       "      <td>0.100273</td>\n",
       "    </tr>\n",
       "    <tr>\n",
       "      <th>5</th>\n",
       "      <td>nfriend_perh</td>\n",
       "      <td>0.076229</td>\n",
       "    </tr>\n",
       "    <tr>\n",
       "      <th>13</th>\n",
       "      <td>trend_songs</td>\n",
       "      <td>0.075818</td>\n",
       "    </tr>\n",
       "    <tr>\n",
       "      <th>9</th>\n",
       "      <td>songratio</td>\n",
       "      <td>0.069321</td>\n",
       "    </tr>\n",
       "    <tr>\n",
       "      <th>2</th>\n",
       "      <td>nsongs_perh</td>\n",
       "      <td>0.062575</td>\n",
       "    </tr>\n",
       "    <tr>\n",
       "      <th>10</th>\n",
       "      <td>positiveratio</td>\n",
       "      <td>0.056233</td>\n",
       "    </tr>\n",
       "    <tr>\n",
       "      <th>14</th>\n",
       "      <td>avgsessionitems</td>\n",
       "      <td>0.051995</td>\n",
       "    </tr>\n",
       "    <tr>\n",
       "      <th>11</th>\n",
       "      <td>negativeratio</td>\n",
       "      <td>0.049567</td>\n",
       "    </tr>\n",
       "    <tr>\n",
       "      <th>7</th>\n",
       "      <td>nerror_perh</td>\n",
       "      <td>0.037428</td>\n",
       "    </tr>\n",
       "    <tr>\n",
       "      <th>8</th>\n",
       "      <td>upgradedowngrade</td>\n",
       "      <td>0.036607</td>\n",
       "    </tr>\n",
       "    <tr>\n",
       "      <th>15</th>\n",
       "      <td>avgsongs</td>\n",
       "      <td>0.032952</td>\n",
       "    </tr>\n",
       "    <tr>\n",
       "      <th>3</th>\n",
       "      <td>ntbup_perh</td>\n",
       "      <td>0.032041</td>\n",
       "    </tr>\n",
       "    <tr>\n",
       "      <th>1</th>\n",
       "      <td>gender</td>\n",
       "      <td>0.011504</td>\n",
       "    </tr>\n",
       "    <tr>\n",
       "      <th>0</th>\n",
       "      <td>lastlevel</td>\n",
       "      <td>0.008771</td>\n",
       "    </tr>\n",
       "  </tbody>\n",
       "</table>\n",
       "</div>"
      ],
      "text/plain": [
       "             feature  importance\n",
       "6       nadvert_perh    0.189893\n",
       "4       ntbdown_perh    0.108791\n",
       "12       updownratio    0.100273\n",
       "5       nfriend_perh    0.076229\n",
       "13       trend_songs    0.075818\n",
       "9          songratio    0.069321\n",
       "2        nsongs_perh    0.062575\n",
       "10     positiveratio    0.056233\n",
       "14   avgsessionitems    0.051995\n",
       "11     negativeratio    0.049567\n",
       "7        nerror_perh    0.037428\n",
       "8   upgradedowngrade    0.036607\n",
       "15          avgsongs    0.032952\n",
       "3         ntbup_perh    0.032041\n",
       "1             gender    0.011504\n",
       "0          lastlevel    0.008771"
      ]
     },
     "execution_count": 79,
     "metadata": {},
     "output_type": "execute_result"
    }
   ],
   "source": [
    "# Display feature importances\n",
    "importances = model_rf.stages[-1].featureImportances\n",
    "importances_list = [importances[i] for i in range(len(importances))]\n",
    "names = binary_columns + numeric_columns\n",
    "pd.DataFrame({\"feature\": names,\"importance\": importances_list, }).sort_values('importance', ascending = False)"
   ]
  },
  {
   "cell_type": "code",
   "execution_count": 80,
   "metadata": {},
   "outputs": [],
   "source": [
    "# Obtain predictions on the test set\n",
    "results_rf = model_rf.transform(test)"
   ]
  },
  {
   "cell_type": "code",
   "execution_count": 81,
   "metadata": {},
   "outputs": [
    {
     "name": "stdout",
     "output_type": "stream",
     "text": [
      "Random forest classifier F1 score: 0.2857114285857143\n"
     ]
    }
   ],
   "source": [
    "# F1 score on the test set\n",
    "f1_evaluator = F1score()\n",
    "f1score_rf = f1_evaluator._evaluate(results_rf)\n",
    "print(f'Random forest classifier F1 score: {f1score_rf}')"
   ]
  },
  {
   "cell_type": "markdown",
   "metadata": {},
   "source": [
    "### Gradient-boosted Tree Classifier"
   ]
  },
  {
   "cell_type": "code",
   "execution_count": 82,
   "metadata": {},
   "outputs": [
    {
     "name": "stdout",
     "output_type": "stream",
     "text": [
      "Time spent for grid search: 3083 seconds\n"
     ]
    }
   ],
   "source": [
    "# Perform the grid search by fitting the grid search object\n",
    "start = time.time()\n",
    "\n",
    "crossvalmodel_gb = crossval_gb.fit(train_plus_val)\n",
    "end = time.time()\n",
    "print(f'Time spent for grid search: {round(end-start)} seconds')"
   ]
  },
  {
   "cell_type": "code",
   "execution_count": 83,
   "metadata": {},
   "outputs": [
    {
     "data": {
      "text/html": [
       "<div>\n",
       "<style scoped>\n",
       "    .dataframe tbody tr th:only-of-type {\n",
       "        vertical-align: middle;\n",
       "    }\n",
       "\n",
       "    .dataframe tbody tr th {\n",
       "        vertical-align: top;\n",
       "    }\n",
       "\n",
       "    .dataframe thead th {\n",
       "        text-align: right;\n",
       "    }\n",
       "</style>\n",
       "<table border=\"1\" class=\"dataframe\">\n",
       "  <thead>\n",
       "    <tr style=\"text-align: right;\">\n",
       "      <th></th>\n",
       "      <th>maxDepth</th>\n",
       "      <th>maxIter</th>\n",
       "      <th>score</th>\n",
       "    </tr>\n",
       "  </thead>\n",
       "  <tbody>\n",
       "    <tr>\n",
       "      <th>0</th>\n",
       "      <td>4</td>\n",
       "      <td>20</td>\n",
       "      <td>0.798041</td>\n",
       "    </tr>\n",
       "    <tr>\n",
       "      <th>1</th>\n",
       "      <td>4</td>\n",
       "      <td>100</td>\n",
       "      <td>0.816997</td>\n",
       "    </tr>\n",
       "    <tr>\n",
       "      <th>2</th>\n",
       "      <td>5</td>\n",
       "      <td>20</td>\n",
       "      <td>0.807705</td>\n",
       "    </tr>\n",
       "    <tr>\n",
       "      <th>3</th>\n",
       "      <td>5</td>\n",
       "      <td>100</td>\n",
       "      <td>0.799960</td>\n",
       "    </tr>\n",
       "  </tbody>\n",
       "</table>\n",
       "</div>"
      ],
      "text/plain": [
       "   maxDepth  maxIter     score\n",
       "0         4       20  0.798041\n",
       "1         4      100  0.816997\n",
       "2         5       20  0.807705\n",
       "3         5      100  0.799960"
      ]
     },
     "execution_count": 83,
     "metadata": {},
     "output_type": "execute_result"
    }
   ],
   "source": [
    "# Store grid search results in a dataframe\n",
    "scores = crossvalmodel_gb.avgMetrics\n",
    "params = [{p.name: v for p, v in m.items()} for m in crossvalmodel_gb.getEstimatorParamMaps()]\n",
    "params_pd = pd.DataFrame(params)\n",
    "params_pd['score'] = scores\n",
    "params_pd"
   ]
  },
  {
   "cell_type": "code",
   "execution_count": 84,
   "metadata": {},
   "outputs": [
    {
     "name": "stdout",
     "output_type": "stream",
     "text": [
      "Time spent for training: 342 seconds\n"
     ]
    }
   ],
   "source": [
    "# Retrain the classifier with the best performing parameters\n",
    "best_gb =  GBTClassifier(maxDepth = 5, maxIter = 100)\n",
    "pipeline_best_gb = Pipeline(stages = [numeric_assembler, scaler, total_assembler, best_gb])\n",
    "\n",
    "start = time.time()\n",
    "model_gb = pipeline_best_gb.fit(train_plus_val)\n",
    "end = time.time()\n",
    "print(f'Time spent for training: {round(end-start)} seconds')"
   ]
  },
  {
   "cell_type": "code",
   "execution_count": 85,
   "metadata": {},
   "outputs": [
    {
     "data": {
      "text/html": [
       "<div>\n",
       "<style scoped>\n",
       "    .dataframe tbody tr th:only-of-type {\n",
       "        vertical-align: middle;\n",
       "    }\n",
       "\n",
       "    .dataframe tbody tr th {\n",
       "        vertical-align: top;\n",
       "    }\n",
       "\n",
       "    .dataframe thead th {\n",
       "        text-align: right;\n",
       "    }\n",
       "</style>\n",
       "<table border=\"1\" class=\"dataframe\">\n",
       "  <thead>\n",
       "    <tr style=\"text-align: right;\">\n",
       "      <th></th>\n",
       "      <th>feature</th>\n",
       "      <th>importance</th>\n",
       "    </tr>\n",
       "  </thead>\n",
       "  <tbody>\n",
       "    <tr>\n",
       "      <th>6</th>\n",
       "      <td>nadvert_perh</td>\n",
       "      <td>0.174519</td>\n",
       "    </tr>\n",
       "    <tr>\n",
       "      <th>5</th>\n",
       "      <td>nfriend_perh</td>\n",
       "      <td>0.121671</td>\n",
       "    </tr>\n",
       "    <tr>\n",
       "      <th>9</th>\n",
       "      <td>songratio</td>\n",
       "      <td>0.100203</td>\n",
       "    </tr>\n",
       "    <tr>\n",
       "      <th>14</th>\n",
       "      <td>avgsessionitems</td>\n",
       "      <td>0.094809</td>\n",
       "    </tr>\n",
       "    <tr>\n",
       "      <th>13</th>\n",
       "      <td>trend_songs</td>\n",
       "      <td>0.087311</td>\n",
       "    </tr>\n",
       "    <tr>\n",
       "      <th>15</th>\n",
       "      <td>avgsongs</td>\n",
       "      <td>0.068049</td>\n",
       "    </tr>\n",
       "    <tr>\n",
       "      <th>4</th>\n",
       "      <td>ntbdown_perh</td>\n",
       "      <td>0.056891</td>\n",
       "    </tr>\n",
       "    <tr>\n",
       "      <th>2</th>\n",
       "      <td>nsongs_perh</td>\n",
       "      <td>0.053194</td>\n",
       "    </tr>\n",
       "    <tr>\n",
       "      <th>7</th>\n",
       "      <td>nerror_perh</td>\n",
       "      <td>0.051508</td>\n",
       "    </tr>\n",
       "    <tr>\n",
       "      <th>3</th>\n",
       "      <td>ntbup_perh</td>\n",
       "      <td>0.049745</td>\n",
       "    </tr>\n",
       "    <tr>\n",
       "      <th>12</th>\n",
       "      <td>updownratio</td>\n",
       "      <td>0.041521</td>\n",
       "    </tr>\n",
       "    <tr>\n",
       "      <th>11</th>\n",
       "      <td>negativeratio</td>\n",
       "      <td>0.028821</td>\n",
       "    </tr>\n",
       "    <tr>\n",
       "      <th>8</th>\n",
       "      <td>upgradedowngrade</td>\n",
       "      <td>0.026039</td>\n",
       "    </tr>\n",
       "    <tr>\n",
       "      <th>1</th>\n",
       "      <td>gender</td>\n",
       "      <td>0.021341</td>\n",
       "    </tr>\n",
       "    <tr>\n",
       "      <th>10</th>\n",
       "      <td>positiveratio</td>\n",
       "      <td>0.014274</td>\n",
       "    </tr>\n",
       "    <tr>\n",
       "      <th>0</th>\n",
       "      <td>lastlevel</td>\n",
       "      <td>0.010102</td>\n",
       "    </tr>\n",
       "  </tbody>\n",
       "</table>\n",
       "</div>"
      ],
      "text/plain": [
       "             feature  importance\n",
       "6       nadvert_perh    0.174519\n",
       "5       nfriend_perh    0.121671\n",
       "9          songratio    0.100203\n",
       "14   avgsessionitems    0.094809\n",
       "13       trend_songs    0.087311\n",
       "15          avgsongs    0.068049\n",
       "4       ntbdown_perh    0.056891\n",
       "2        nsongs_perh    0.053194\n",
       "7        nerror_perh    0.051508\n",
       "3         ntbup_perh    0.049745\n",
       "12       updownratio    0.041521\n",
       "11     negativeratio    0.028821\n",
       "8   upgradedowngrade    0.026039\n",
       "1             gender    0.021341\n",
       "10     positiveratio    0.014274\n",
       "0          lastlevel    0.010102"
      ]
     },
     "execution_count": 85,
     "metadata": {},
     "output_type": "execute_result"
    }
   ],
   "source": [
    "# Display feature importances\n",
    "importances = model_gb.stages[-1].featureImportances\n",
    "importances_list = [importances[i] for i in range(len(importances))]\n",
    "names = binary_columns + numeric_columns\n",
    "pd.DataFrame({\"feature\": names,\"importance\": importances_list, }).sort_values('importance', ascending = False)"
   ]
  },
  {
   "cell_type": "code",
   "execution_count": 86,
   "metadata": {},
   "outputs": [
    {
     "name": "stdout",
     "output_type": "stream",
     "text": [
      "+------+-----+--------------------+--------------------+----------+\n",
      "|userId|label|       rawPrediction|         probability|prediction|\n",
      "+------+-----+--------------------+--------------------+----------+\n",
      "|    51|    1|[-0.2950175528082...|[0.35662679948756...|       1.0|\n",
      "|   155|    0|[2.20915625851128...|[0.98808902454165...|       0.0|\n",
      "|100021|    1|[1.24976840357803...|[0.92410934205890...|       0.0|\n",
      "|    64|    0|[1.67923739774282...|[0.96638126031305...|       0.0|\n",
      "|     3|    1|[1.92319344034462...|[0.97908981216729...|       0.0|\n",
      "+------+-----+--------------------+--------------------+----------+\n",
      "only showing top 5 rows\n",
      "\n"
     ]
    }
   ],
   "source": [
    "# Obtain predictions on the test set\n",
    "results_gb = model_gb.transform(test)\n",
    "results_gb.select(['userId','label','rawPrediction','probability','prediction']).show(5)"
   ]
  },
  {
   "cell_type": "code",
   "execution_count": 87,
   "metadata": {},
   "outputs": [
    {
     "name": "stdout",
     "output_type": "stream",
     "text": [
      "Gradient-boosted tree classifier F1 score: 0.47058352944705867\n"
     ]
    }
   ],
   "source": [
    "# F1 score on the test set\n",
    "f1_evaluator = F1score()\n",
    "f1score_gb = f1_evaluator._evaluate(results_gb)\n",
    "print(f'Gradient-boosted tree classifier F1 score: {f1score_gb}')"
   ]
  },
  {
   "cell_type": "markdown",
   "metadata": {},
   "source": [
    "## Results Summary\n",
    "\n",
    "We have ultimately trained and tested three different models, one per each classifier type. The results obtained on the test set are summarized in the table below.\n",
    "\n",
    "|Classifier                        | Parameters              |  F1   |\n",
    "| :------------------------------- | :---------------------- |-------|\n",
    "|Logistic Regression               | maxIter=10, regParam=0  | 0.470 |\n",
    "|Random Forest Classifier          | maxDepth=4, numTrees=40 | 0.353 |\n",
    "|Gradient-boosted Tree Classifier  | maxDepth=5, maxIter=100 | 0.470 |\n",
    "\n",
    "The F1 scores show a significantly weaker performance, with only the gradient boosting approach scoring a solid 0.545.  The above F1 scores have been obtained using the default 0.5 threshold.\n",
    "\n",
    "We have to emphasize that these results correspond to models that were trained and tested using the **smaller Sparkify dataset** that in total consists of only 225 unique users. This means the models are tested on a sample with 46 instances, out of which only around 10 are positive classes (on average), and this leads to rather unstable performance evaluation results.\n",
    "\n",
    "Instead of attempting to further optimize the model performance on the smaller dataset, we have focused on the most important part of the project, training and testing the selected churn prediction models on the full Sparkify dataset. The final results are presented in Section 5 below."
   ]
  },
  {
   "cell_type": "markdown",
   "metadata": {},
   "source": [
    "# 7. Training and testing on the full Sparkify dataset\n",
    "\n",
    "After finalizing the model development process on the small Sparkify subset we have reused the developed implementations also on the **full Sparkify dataset**. The dataset is too big to be processed locally and therefore an Elastic MapReduce (EMR) cluster has been deployed on the AWS cloud to carry out the tasks.\n",
    "\n",
    "Based on the solid performance in terms of F1 metrics on the small dataset, we have decided to use different instances of the **Gradient-Boosted Tree Classifier**. The ensemble method typically performs better than simpler classifiers, e.g. logistic regression. In terms of parameters we have used the default maximum tree depth of 5 for all instances, but gradually increased the parameter that controls the maximum number of gradient boosting iterations. The final results achieved on the test set (the analysis is performed outside this notebook) are presented in the table below.\n",
    "\n",
    "|Classifier                        | Parameters              |  F1   |\n",
    "| :------------------------------- |-------------------------|-------|\n",
    "|Gradient-boosted Tree Classifier  | maxDepth=5, maxIter=20  | 0.733 |\n",
    "|Gradient-boosted Tree Classifier  | maxDepth=5, maxIter=200 | 0.855 |\n",
    "\n",
    "With more training data provided to the classifier the results are clearly much better than the ones achieved on the smaller dataset. It can also be seen that F1 score improve with higher number of maximum gradient boosting iterations. The best performing model has F1 score higher than 0.85. \n",
    "\n",
    "Based on the very positive outcome we can conclude that we have managed to build a binary classifier which can accurately identify users who cancelled the music streaming service, based on the features that capture insights of users' past activity and interaction with the service. If deployed, the trained model could be used to identify users at risk of churning in advance, and help the music streaming business prevent severe financial losses."
   ]
  },
  {
   "cell_type": "markdown",
   "metadata": {},
   "source": [
    "## Feature Importances\n",
    "As seen in the visualization below, the most important feature for identifying churned users is the ***nerror_perh*** which measures how many error pages have been shown to the user per hour. Intuitively, the more errors a user has to experience the more likely it is that he/she is dissatisfied with the service. Similar holds also for the second and third most important feature, ***ntbdown_perh*** and ***nadvert_perh*** which measure the number of thumbs down given per hour and number of advertisements seen per hour, respectively. Despite all the extra calculations, it was worth including in the feature set also the 4th most important ***trend_songs*** variable which measures user's song listening activity trend. \n",
    "\n",
    "The two binary features, namely ***lastlevel*** (i.e. the last known subscription level) and ***gender***, do not contribute much to predicting churned users."
   ]
  },
  {
   "cell_type": "code",
   "execution_count": 5,
   "metadata": {},
   "outputs": [
    {
     "data": {
      "image/png": "[encoded data removed]",
      "text/plain": [
       "<Figure size 720x864 with 1 Axes>"
      ]
     },
     "metadata": {
      "needs_background": "light"
     },
     "output_type": "display_data"
    }
   ],
   "source": [
    "# Plot horizontal bar graph of features with their importances given by best estimator of RandomForestClassifier\n",
    "fig, ax = plt.subplots(figsize=(10, 12),\n",
    "                       nrows=1,\n",
    "                       ncols=1)\n",
    "features = ['lastlevel', 'gender', 'nsongs_perh', 'ntbup_perh', 'ntbdown_perh', \n",
    "            'nfriend_perh', 'nadvert_perh', 'nerror_perh', 'upgradedowngrade', \n",
    "            'songratio', 'positiveratio', 'negativeratio', 'updownratio', \n",
    "            'trend_songs', 'avgsessionitems', 'avgsongs']\n",
    "importances = [0.013795342305289867, 0.003419130795754195, 0.05192724418392687, \n",
    "               0.023604481206826188, 0.18329355168409747, 0.060501586172062846, 0.0974098898402886,\n",
    "               0.2110401549499677, 0.02286163968506689, 0.04730318423769473, 0.04232860002653574, \n",
    "               0.043054343894025765, 0.036773157537074976, 0.07858267078570629, 0.046534988450475566, 0.03757003424520641]\n",
    "feat_imp_pd = pd.DataFrame({'feature': features, 'importance': importances}).sort_values('importance', ascending = False)\n",
    "\n",
    "# Plot\n",
    "sns.barplot(data = feat_imp_pd, y = \"feature\", x =\"importance\",\n",
    "           color='teal');\n",
    "plt.grid(axis = 'x', linestyle = '--', zorder=0)\n",
    "plt.title(\"Feature Importances\")\n",
    "plt.ylabel(\"\");\n",
    "plt.savefig('feature.png')"
   ]
  },
  {
   "cell_type": "markdown",
   "metadata": {},
   "source": [
    "# 8. Conclusions\n",
    "\n",
    "### Reflection \n",
    "Based on the good performance of the developed models, we can conclude that we have managed to build a binary classifier that can accurately identify churned users, based on the patterns in past user activity and interaction with the music streaming service. If deployed, the trained model could be used to identify users at risk of churning in advance, and help the music streaming business prevent severe financial losses.\n",
    "\n",
    "\n",
    "### Potential Improvements\n",
    "\n",
    "Despite the good performance of the developed model there is still room for further improvements:\n",
    "- build and test features that capture additional insights about user's activity patterns, e.g. average length of song listening sessions, ratios of skipped or partially listened songs, etc.\n",
    "- utilize song-level features that have been ignored so far, e.g. calculate the user's listening diversity in terms of different songs/artists listened to in the specified observation period, etc.\n",
    "- optimize data wrangling and feature engineering steps by using Spark's best practices in order to speed up model training and testing (current solution is rather slow and does not scale well)\n"
   ]
  },
  {
   "cell_type": "code",
   "execution_count": null,
   "metadata": {},
   "outputs": [],
   "source": []
  }
 ],
 "metadata": {
  "kernelspec": {
   "display_name": "Python 3",
   "language": "python",
   "name": "python3"
  },
  "language_info": {
   "codemirror_mode": {
    "name": "ipython",
    "version": 3
   },
   "file_extension": ".py",
   "mimetype": "text/x-python",
   "name": "python",
   "nbconvert_exporter": "python",
   "pygments_lexer": "ipython3",
   "version": "3.7.7"
  }
 },
 "nbformat": 4,
 "nbformat_minor": 2
}
